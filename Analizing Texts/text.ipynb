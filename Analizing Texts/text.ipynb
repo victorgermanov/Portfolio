{
 "cells": [
  {
   "cell_type": "markdown",
   "metadata": {
    "toc": true
   },
   "source": [
    "<h1>Содержание<span class=\"tocSkip\"></span></h1>\n",
    "<div class=\"toc\"><ul class=\"toc-item\"><li><span><a href=\"#Подготовка\" data-toc-modified-id=\"Подготовка-1\"><span class=\"toc-item-num\">1&nbsp;&nbsp;</span>Подготовка</a></span></li><li><span><a href=\"#Обучение\" data-toc-modified-id=\"Обучение-2\"><span class=\"toc-item-num\">2&nbsp;&nbsp;</span>Обучение</a></span><ul class=\"toc-item\"><li><span><a href=\"#Использование-модели-LogisticRegression\" data-toc-modified-id=\"Использование-модели-LogisticRegression-2.1\"><span class=\"toc-item-num\">2.1&nbsp;&nbsp;</span>Использование модели LogisticRegression</a></span></li><li><span><a href=\"#Использование-модели-CatBoostClassifier\" data-toc-modified-id=\"Использование-модели-CatBoostClassifier-2.2\"><span class=\"toc-item-num\">2.2&nbsp;&nbsp;</span>Использование модели CatBoostClassifier</a></span></li><li><span><a href=\"#Использование-модели-LGBMClassifier\" data-toc-modified-id=\"Использование-модели-LGBMClassifier-2.3\"><span class=\"toc-item-num\">2.3&nbsp;&nbsp;</span>Использование модели LGBMClassifier</a></span></li><li><span><a href=\"#Сравнительная-таблица\" data-toc-modified-id=\"Сравнительная-таблица-2.4\"><span class=\"toc-item-num\">2.4&nbsp;&nbsp;</span>Сравнительная таблица</a></span></li></ul></li><li><span><a href=\"#Выводы\" data-toc-modified-id=\"Выводы-3\"><span class=\"toc-item-num\">3&nbsp;&nbsp;</span>Выводы</a></span></li></ul></div>"
   ]
  },
  {
   "cell_type": "markdown",
   "metadata": {},
   "source": [
    "# Проект для «Викишоп»"
   ]
  },
  {
   "cell_type": "markdown",
   "metadata": {},
   "source": [
    "Интернет-магазин «Викишоп» запускает новый сервис. Теперь пользователи могут редактировать и дополнять описания товаров, как в вики-сообществах. То есть клиенты предлагают свои правки и комментируют изменения других. Магазину нужен инструмент, который будет искать токсичные комментарии и отправлять их на модерацию. \n",
    "\n",
    "Обучите модель классифицировать комментарии на позитивные и негативные. В вашем распоряжении набор данных с разметкой о токсичности правок.\n",
    "\n",
    "Постройте модель со значением метрики качества *F1* не меньше 0.75. \n",
    "\n",
    "**Инструкция по выполнению проекта**\n",
    "\n",
    "1. Загрузите и подготовьте данные.\n",
    "2. Обучите разные модели. \n",
    "3. Сделайте выводы.\n",
    "\n",
    "Для выполнения проекта применять *BERT* необязательно, но вы можете попробовать.\n",
    "\n",
    "**Описание данных**\n",
    "\n",
    "Данные находятся в файле `toxic_comments.csv`. Столбец *text* в нём содержит текст комментария, а *toxic* — целевой признак."
   ]
  },
  {
   "cell_type": "markdown",
   "metadata": {},
   "source": [
    "## Подготовка"
   ]
  },
  {
   "cell_type": "code",
   "execution_count": 1,
   "metadata": {},
   "outputs": [],
   "source": [
    "!pip install optuna -q"
   ]
  },
  {
   "cell_type": "code",
   "execution_count": 2,
   "metadata": {},
   "outputs": [],
   "source": [
    "!pip install -U catboost==1.2.7 -q"
   ]
  },
  {
   "cell_type": "code",
   "execution_count": 3,
   "metadata": {},
   "outputs": [],
   "source": [
    "!pip install pymystem3 -q"
   ]
  },
  {
   "cell_type": "code",
   "execution_count": 4,
   "metadata": {},
   "outputs": [],
   "source": [
    "!pip install imbalanced-learn -q"
   ]
  },
  {
   "cell_type": "code",
   "execution_count": 5,
   "metadata": {},
   "outputs": [],
   "source": [
    "!pip install wordcloud -q"
   ]
  },
  {
   "cell_type": "code",
   "execution_count": 50,
   "metadata": {},
   "outputs": [],
   "source": [
    "# импорт библиотек\n",
    "import pandas as pd\n",
    "import numpy as np\n",
    "import optuna\n",
    "from time import time\n",
    "from ipywidgets import IntProgress\n",
    "\n",
    "import nltk, os\n",
    "from nltk.corpus import wordnet\n",
    "from nltk.stem import WordNetLemmatizer \n",
    "\n",
    "from nltk.tag.perceptron import PerceptronTagger\n",
    "from catboost.text_processing import Tokenizer\n",
    "from pymystem3 import Mystem\n",
    "import re\n",
    "\n",
    "# импортируем устранитель дисбаланса данных целевого класса\n",
    "from imblearn.over_sampling import RandomOverSampler\n",
    "from imblearn.over_sampling import SMOTENC\n",
    "\n",
    "from wordcloud import WordCloud\n",
    "from matplotlib import pyplot as plt\n",
    "\n",
    "from sklearn.model_selection import train_test_split\n",
    "from sklearn.linear_model import LogisticRegression\n",
    "from sklearn.tree import DecisionTreeRegressor\n",
    "from sklearn.neighbors import KNeighborsClassifier\n",
    "from lightgbm import LGBMClassifier\n",
    "from catboost import CatBoostClassifier\n",
    "from sklearn.model_selection import KFold, cross_val_score, cross_validate\n",
    "from sklearn import metrics\n",
    "from sklearn.metrics import roc_auc_score, f1_score\n",
    "from sklearn.pipeline import Pipeline \n",
    "from imblearn.pipeline import Pipeline\n",
    "from sklearn.compose import ColumnTransformer \n",
    "\n",
    "from sklearn.preprocessing import (                             \n",
    "    QuantileTransformer,\n",
    "    PowerTransformer,\n",
    "    OneHotEncoder, \n",
    "    OrdinalEncoder,\n",
    "    LabelEncoder,\n",
    "    StandardScaler,\n",
    "    MinMaxScaler,\n",
    "    RobustScaler,\n",
    "    PolynomialFeatures\n",
    ")\n",
    "\n",
    "from nltk.corpus import stopwords  \n",
    "import nltk                        \n",
    "\n",
    "from sklearn.feature_extraction.text import CountVectorizer\n",
    "from sklearn.feature_extraction.text import TfidfVectorizer\n",
    "\n",
    "# отключить warnings\n",
    "import warnings\n",
    "warnings.filterwarnings(\"ignore\")\n",
    "\n",
    "RANDOM_STATE = 42"
   ]
  },
  {
   "cell_type": "code",
   "execution_count": 7,
   "metadata": {},
   "outputs": [
    {
     "name": "stdout",
     "output_type": "stream",
     "text": [
      "alembic==1.13.1\n",
      "anyio @ file:///home/conda/feedstock_root/build_artifacts/anyio_1708355285029/work\n",
      "argon2-cffi @ file:///home/conda/feedstock_root/build_artifacts/argon2-cffi_1692818318753/work\n",
      "argon2-cffi-bindings @ file:///D:/bld/argon2-cffi-bindings_1695386877556/work\n",
      "arrow @ file:///home/conda/feedstock_root/build_artifacts/arrow_1696128962909/work\n",
      "asttokens @ file:///home/conda/feedstock_root/build_artifacts/asttokens_1698341106958/work\n",
      "async-lru @ file:///home/conda/feedstock_root/build_artifacts/async-lru_1690563019058/work\n",
      "attrs @ file:///home/conda/feedstock_root/build_artifacts/attrs_1704011227531/work\n",
      "Babel @ file:///home/conda/feedstock_root/build_artifacts/babel_1702422572539/work\n",
      "beautifulsoup4==4.9.3\n",
      "bleach @ file:///home/conda/feedstock_root/build_artifacts/bleach_1696630167146/work\n",
      "Brotli @ file:///D:/bld/brotli-split_1695989908365/work\n",
      "cached-property @ file:///home/conda/feedstock_root/build_artifacts/cached_property_1615209429212/work\n",
      "catboost==1.2.7\n",
      "certifi @ file:///home/conda/feedstock_root/build_artifacts/certifi_1707022139797/work/certifi\n",
      "cffi @ file:///D:/bld/cffi_1696001739918/work\n",
      "charset-normalizer @ file:///home/conda/feedstock_root/build_artifacts/charset-normalizer_1698833585322/work\n",
      "click==8.1.7\n",
      "cloudpickle==3.0.0\n",
      "colorama @ file:///home/conda/feedstock_root/build_artifacts/colorama_1666700638685/work\n",
      "colorlog==6.8.2\n",
      "comm @ file:///home/conda/feedstock_root/build_artifacts/comm_1704278392174/work\n",
      "contourpy==1.2.1\n",
      "cycler==0.12.1\n",
      "debugpy @ file:///D:/bld/debugpy_1707444604970/work\n",
      "decorator @ file:///home/conda/feedstock_root/build_artifacts/decorator_1641555617451/work\n",
      "defusedxml @ file:///home/conda/feedstock_root/build_artifacts/defusedxml_1615232257335/work\n",
      "entrypoints @ file:///home/conda/feedstock_root/build_artifacts/entrypoints_1643888246732/work\n",
      "exceptiongroup @ file:///home/conda/feedstock_root/build_artifacts/exceptiongroup_1704921103267/work\n",
      "executing @ file:///home/conda/feedstock_root/build_artifacts/executing_1698579936712/work\n",
      "faiss-cpu==1.8.0\n",
      "fastjsonschema @ file:///home/conda/feedstock_root/build_artifacts/python-fastjsonschema_1703780968325/work/dist\n",
      "fonttools==4.53.0\n",
      "fqdn @ file:///home/conda/feedstock_root/build_artifacts/fqdn_1638810296540/work/dist\n",
      "graphviz==0.20.3\n",
      "greenlet==3.0.3\n",
      "h11 @ file:///home/conda/feedstock_root/build_artifacts/h11_1664132893548/work\n",
      "h2 @ file:///D:/bld/h2_1633502903795/work\n",
      "hpack==4.0.0\n",
      "httpcore @ file:///home/conda/feedstock_root/build_artifacts/httpcore_1708529260247/work\n",
      "httpx @ file:///home/conda/feedstock_root/build_artifacts/httpx_1708530890843/work\n",
      "hyperframe @ file:///home/conda/feedstock_root/build_artifacts/hyperframe_1619110129307/work\n",
      "idna @ file:///home/conda/feedstock_root/build_artifacts/idna_1701026962277/work\n",
      "imbalanced-learn==0.12.4\n",
      "importlib-metadata @ file:///home/conda/feedstock_root/build_artifacts/importlib-metadata_1703269254275/work\n",
      "importlib-resources @ file:///home/conda/feedstock_root/build_artifacts/importlib_resources_1699364556997/work\n",
      "ipykernel @ file:///D:/bld/ipykernel_1707326433944/work\n",
      "ipython @ file:///D:/bld/ipython_1701831845989/work\n",
      "ipython-genutils==0.2.0\n",
      "ipywidgets @ file:///home/conda/feedstock_root/build_artifacts/ipywidgets_1707427226251/work\n",
      "isoduration @ file:///home/conda/feedstock_root/build_artifacts/isoduration_1638811571363/work/dist\n",
      "jedi @ file:///home/conda/feedstock_root/build_artifacts/jedi_1696326070614/work\n",
      "Jinja2 @ file:///home/conda/feedstock_root/build_artifacts/jinja2_1704966972576/work\n",
      "joblib==1.3.2\n",
      "json5 @ file:///home/conda/feedstock_root/build_artifacts/json5_1708426315453/work\n",
      "jsonpointer @ file:///D:/bld/jsonpointer_1695397475147/work\n",
      "jsonschema @ file:///home/conda/feedstock_root/build_artifacts/jsonschema-meta_1705707496704/work\n",
      "jsonschema-specifications @ file:///tmp/tmpkv1z7p57/src\n",
      "jupyter @ file:///home/conda/feedstock_root/build_artifacts/jupyter_1696255489086/work\n",
      "jupyter-console @ file:///home/conda/feedstock_root/build_artifacts/jupyter_console_1678118109161/work\n",
      "jupyter-contrib-core @ file:///home/conda/feedstock_root/build_artifacts/jupyter_contrib_core_1657548529421/work\n",
      "jupyter-contrib-nbextensions @ file:///home/conda/feedstock_root/build_artifacts/jupyter_contrib_nbextensions_1670068802953/work\n",
      "jupyter-events @ file:///home/conda/feedstock_root/build_artifacts/jupyter_events_1699285872613/work\n",
      "jupyter-highlight-selected-word @ file:///D:/bld/jupyter_highlight_selected_word_1638383264033/work\n",
      "jupyter-latex-envs @ file:///home/conda/feedstock_root/build_artifacts/jupyter_latex_envs_1614852190293/work\n",
      "jupyter-lsp @ file:///home/conda/feedstock_root/build_artifacts/jupyter-lsp-meta_1705532074645/work/jupyter-lsp\n",
      "jupyter-nbextensions-configurator @ file:///home/conda/feedstock_root/build_artifacts/jupyter_nbextensions_configurator_1670793770953/work\n",
      "jupyter_client @ file:///home/conda/feedstock_root/build_artifacts/jupyter_client_1699283905679/work\n",
      "jupyter_core @ file:///D:/bld/jupyter_core_1704727196845/work\n",
      "jupyter_server @ file:///home/conda/feedstock_root/build_artifacts/jupyter_server_1705418153950/work\n",
      "jupyter_server_terminals @ file:///home/conda/feedstock_root/build_artifacts/jupyter_server_terminals_1706006699561/work\n",
      "jupyterlab @ file:///home/conda/feedstock_root/build_artifacts/jupyterlab_1708384590440/work\n",
      "jupyterlab_pygments @ file:///home/conda/feedstock_root/build_artifacts/jupyterlab_pygments_1707149102966/work\n",
      "jupyterlab_server @ file:///home/conda/feedstock_root/build_artifacts/jupyterlab_server-split_1707957746009/work\n",
      "jupyterlab_widgets @ file:///home/conda/feedstock_root/build_artifacts/jupyterlab_widgets_1707421892171/work\n",
      "kiwisolver==1.4.5\n",
      "lightgbm==3.3.5\n",
      "llvmlite==0.43.0\n",
      "lxml==5.1.0\n",
      "Mako==1.3.2\n",
      "MarkupSafe @ file:///D:/bld/markupsafe_1706900063757/work\n",
      "matplotlib==3.9.0\n",
      "matplotlib-inline @ file:///home/conda/feedstock_root/build_artifacts/matplotlib-inline_1660814786464/work\n",
      "missingno==0.5.2\n",
      "mistune @ file:///home/conda/feedstock_root/build_artifacts/mistune_1698947099619/work\n",
      "nbclient @ file:///home/conda/feedstock_root/build_artifacts/nbclient_1684790896106/work\n",
      "nbconvert @ file:///home/conda/feedstock_root/build_artifacts/nbconvert-meta_1708355653739/work\n",
      "nbformat @ file:///home/conda/feedstock_root/build_artifacts/nbformat_1690814868471/work\n",
      "nest_asyncio @ file:///home/conda/feedstock_root/build_artifacts/nest-asyncio_1705850609492/work\n",
      "nltk==3.6.1\n",
      "notebook==6.4.0\n",
      "notebook_shim @ file:///home/conda/feedstock_root/build_artifacts/notebook-shim_1707957777232/work\n",
      "numba==0.60.0\n",
      "numpy==1.26.4\n",
      "optuna==3.5.0\n",
      "overrides @ file:///home/conda/feedstock_root/build_artifacts/overrides_1706394519472/work\n",
      "packaging @ file:///home/conda/feedstock_root/build_artifacts/packaging_1696202382185/work\n",
      "pandas==2.2.2\n",
      "pandocfilters @ file:///home/conda/feedstock_root/build_artifacts/pandocfilters_1631603243851/work\n",
      "parso @ file:///home/conda/feedstock_root/build_artifacts/parso_1638334955874/work\n",
      "patsy==0.5.6\n",
      "phik==0.12.4\n",
      "pickleshare @ file:///home/conda/feedstock_root/build_artifacts/pickleshare_1602536217715/work\n",
      "pillow==10.2.0\n",
      "pkgutil_resolve_name @ file:///home/conda/feedstock_root/build_artifacts/pkgutil-resolve-name_1694617248815/work\n",
      "platformdirs @ file:///home/conda/feedstock_root/build_artifacts/platformdirs_1706713388748/work\n",
      "plotly==5.22.0\n",
      "plotly-express==0.4.0\n",
      "prometheus_client @ file:///home/conda/feedstock_root/build_artifacts/prometheus_client_1707932675456/work\n",
      "prompt-toolkit @ file:///home/conda/feedstock_root/build_artifacts/prompt-toolkit_1702399386289/work\n",
      "psutil @ file:///D:/bld/psutil_1705722541723/work\n",
      "psycopg2-binary==2.9.2\n",
      "pure-eval @ file:///home/conda/feedstock_root/build_artifacts/pure_eval_1642875951954/work\n",
      "pycparser @ file:///home/conda/feedstock_root/build_artifacts/pycparser_1636257122734/work\n",
      "Pygments @ file:///home/conda/feedstock_root/build_artifacts/pygments_1700607939962/work\n",
      "pymystem3==0.2.0\n",
      "pyparsing==3.1.1\n",
      "PySocks @ file:///D:/bld/pysocks_1661604991356/work\n",
      "python-dateutil @ file:///home/conda/feedstock_root/build_artifacts/python-dateutil_1626286286081/work\n",
      "python-json-logger @ file:///home/conda/feedstock_root/build_artifacts/python-json-logger_1677079630776/work\n",
      "pytz @ file:///home/conda/feedstock_root/build_artifacts/pytz_1706886791323/work\n",
      "pywin32==306\n",
      "pywinpty @ file:///D:/bld/pywinpty_1696655795345/work/target/wheels/pywinpty-2.0.12-cp39-none-win_amd64.whl#sha256=f3f749f47a5c8b3d1fb2776fc69a6887303c57f23e5157a273a9564a1c964ac1\n",
      "PyYAML @ file:///D:/bld/pyyaml_1695373613960/work\n",
      "pyzmq @ file:///D:/bld/pyzmq_1701783320990/work\n",
      "qtconsole @ file:///home/conda/feedstock_root/build_artifacts/qtconsole-base_1700168901209/work\n",
      "QtPy @ file:///home/conda/feedstock_root/build_artifacts/qtpy_1698112029416/work\n",
      "referencing @ file:///home/conda/feedstock_root/build_artifacts/referencing_1706711412823/work\n",
      "regex==2022.3.15\n",
      "requests @ file:///home/conda/feedstock_root/build_artifacts/requests_1684774241324/work\n",
      "rfc3339-validator @ file:///home/conda/feedstock_root/build_artifacts/rfc3339-validator_1638811747357/work\n",
      "rfc3986-validator @ file:///home/conda/feedstock_root/build_artifacts/rfc3986-validator_1598024191506/work\n",
      "rpds-py @ file:///D:/bld/rpds-py_1707922931164/work\n",
      "scikit-learn==1.4.1.post1\n",
      "scipy==1.13.1\n",
      "seaborn==0.13.2\n",
      "Send2Trash @ file:///D:/bld/send2trash_1682601429724/work\n",
      "shap==0.44.1\n",
      "six @ file:///home/conda/feedstock_root/build_artifacts/six_1620240208055/work\n",
      "slicer==0.0.7\n",
      "sniffio @ file:///home/conda/feedstock_root/build_artifacts/sniffio_1662051266223/work\n",
      "soupsieve @ file:///home/conda/feedstock_root/build_artifacts/soupsieve_1693929250441/work\n",
      "SQLAlchemy==1.4.15\n",
      "stack-data @ file:///home/conda/feedstock_root/build_artifacts/stack_data_1669632077133/work\n",
      "statsmodels==0.13.2\n",
      "tenacity==8.2.3\n",
      "terminado @ file:///D:/bld/terminado_1699810237897/work\n",
      "threadpoolctl==3.3.0\n",
      "tinycss2 @ file:///home/conda/feedstock_root/build_artifacts/tinycss2_1666100256010/work\n",
      "tomli @ file:///home/conda/feedstock_root/build_artifacts/tomli_1644342247877/work\n",
      "tornado @ file:///D:/bld/tornado_1708363257374/work\n",
      "tqdm==4.66.2\n",
      "traitlets==5.9.0\n",
      "types-python-dateutil @ file:///home/conda/feedstock_root/build_artifacts/types-python-dateutil_1704512562698/work\n",
      "typing-utils @ file:///home/conda/feedstock_root/build_artifacts/typing_utils_1622899189314/work\n",
      "typing_extensions @ file:///home/conda/feedstock_root/build_artifacts/typing_extensions_1702176139754/work\n",
      "tzdata==2024.1\n",
      "uri-template @ file:///home/conda/feedstock_root/build_artifacts/uri-template_1688655812972/work/dist\n",
      "urllib3 @ file:///home/conda/feedstock_root/build_artifacts/urllib3_1708239446578/work\n",
      "wcwidth @ file:///home/conda/feedstock_root/build_artifacts/wcwidth_1704731205417/work\n",
      "webcolors @ file:///home/conda/feedstock_root/build_artifacts/webcolors_1679900785843/work\n",
      "webencodings @ file:///home/conda/feedstock_root/build_artifacts/webencodings_1694681268211/work\n",
      "websocket-client @ file:///home/conda/feedstock_root/build_artifacts/websocket-client_1701630677416/work\n",
      "widgetsnbextension @ file:///home/conda/feedstock_root/build_artifacts/widgetsnbextension_1707420319466/work\n",
      "win-inet-pton @ file:///D:/bld/win_inet_pton_1667051142467/work\n",
      "wordcloud==1.9.3\n",
      "zipp @ file:///home/conda/feedstock_root/build_artifacts/zipp_1695255097490/work\n"
     ]
    }
   ],
   "source": [
    "!pip freeze"
   ]
  },
  {
   "cell_type": "code",
   "execution_count": 8,
   "metadata": {},
   "outputs": [],
   "source": [
    "skip_EDA = False"
   ]
  },
  {
   "cell_type": "code",
   "execution_count": 9,
   "metadata": {},
   "outputs": [],
   "source": [
    "# Загрузим данные\n",
    "data = pd.read_csv(\"toxic_comments.csv\")"
   ]
  },
  {
   "cell_type": "code",
   "execution_count": 10,
   "metadata": {},
   "outputs": [],
   "source": [
    "# Функция освобождения памяти за счет сжатия данных\n",
    "def reduce_mem_usage(df, verbose=True):\n",
    "    numerics = ['int8','int16', 'int32', 'int64', 'float16', 'float32', 'float64']\n",
    "    start_mem = df.memory_usage().sum() / 1024**2\n",
    "\n",
    "    for col in df.columns:\n",
    "        col_type = df[col].dtypes\n",
    "\n",
    "        if col_type in numerics:\n",
    "            c_min = df[col].min()\n",
    "            c_max = df[col].max()\n",
    "\n",
    "            if str(col_type)[:3] == 'int':\n",
    "                if c_min > np.iinfo(np.int8).min and c_max < np.iinfo(np.int8).max:\n",
    "                    print(col, 'int8')\n",
    "                    df[col] = df[col].astype(np.int8)\n",
    "                elif c_min > np.iinfo(np.int16).min and c_max < np.iinfo(np.int16).max:\n",
    "                    print(col, 'int16')\n",
    "                    df[col] = df[col].astype(np.int16)\n",
    "                elif c_min > np.iinfo(np.int32).min and c_max < np.iinfo(np.int32).max:\n",
    "                    print(col, 'int32')\n",
    "                    df[col] = df[col].astype(np.int32)\n",
    "                elif c_min > np.iinfo(np.int64).min and c_max < np.iinfo(np.int64).max:\n",
    "                    print(col, 'int64')\n",
    "                    df[col] = df[col].astype(np.int64)  \n",
    "            else:\n",
    "                if c_min > np.finfo(np.float32).min and c_max < np.finfo(np.float32).max:\n",
    "                    print(col, 'float32')\n",
    "                    df[col] = df[col].astype(np.float32)\n",
    "                else:\n",
    "                    print(col, 'float64')\n",
    "                    df[col] = df[col].astype(np.float64)\n",
    "\n",
    "    end_mem = df.memory_usage().sum() / 1024**2\n",
    "\n",
    "    if verbose:\n",
    "        print('Mem. usage decreased to {:5.2f} Mb ({:.1f}% reduction)'.\n",
    "                                  format(end_mem, 100 * (start_mem - end_mem) / start_mem))\n",
    " \n",
    "    return df"
   ]
  },
  {
   "cell_type": "code",
   "execution_count": 11,
   "metadata": {},
   "outputs": [
    {
     "name": "stdout",
     "output_type": "stream",
     "text": [
      "Unnamed: 0 int32\n",
      "toxic int8\n",
      "Mem. usage decreased to  1.97 Mb (45.8% reduction)\n"
     ]
    }
   ],
   "source": [
    "# Освободим память\n",
    "data = reduce_mem_usage(data)"
   ]
  },
  {
   "cell_type": "code",
   "execution_count": 12,
   "metadata": {},
   "outputs": [
    {
     "data": {
      "text/plain": [
       "(159292, 3)"
      ]
     },
     "execution_count": 12,
     "metadata": {},
     "output_type": "execute_result"
    }
   ],
   "source": [
    "data.shape"
   ]
  },
  {
   "cell_type": "code",
   "execution_count": 13,
   "metadata": {},
   "outputs": [
    {
     "data": {
      "text/html": [
       "<div>\n",
       "<style scoped>\n",
       "    .dataframe tbody tr th:only-of-type {\n",
       "        vertical-align: middle;\n",
       "    }\n",
       "\n",
       "    .dataframe tbody tr th {\n",
       "        vertical-align: top;\n",
       "    }\n",
       "\n",
       "    .dataframe thead th {\n",
       "        text-align: right;\n",
       "    }\n",
       "</style>\n",
       "<table border=\"1\" class=\"dataframe\">\n",
       "  <thead>\n",
       "    <tr style=\"text-align: right;\">\n",
       "      <th></th>\n",
       "      <th>Unnamed: 0</th>\n",
       "      <th>text</th>\n",
       "      <th>toxic</th>\n",
       "    </tr>\n",
       "  </thead>\n",
       "  <tbody>\n",
       "    <tr>\n",
       "      <th>0</th>\n",
       "      <td>0</td>\n",
       "      <td>Explanation\\nWhy the edits made under my usern...</td>\n",
       "      <td>0</td>\n",
       "    </tr>\n",
       "    <tr>\n",
       "      <th>1</th>\n",
       "      <td>1</td>\n",
       "      <td>D'aww! He matches this background colour I'm s...</td>\n",
       "      <td>0</td>\n",
       "    </tr>\n",
       "  </tbody>\n",
       "</table>\n",
       "</div>"
      ],
      "text/plain": [
       "   Unnamed: 0                                               text  toxic\n",
       "0           0  Explanation\\nWhy the edits made under my usern...      0\n",
       "1           1  D'aww! He matches this background colour I'm s...      0"
      ]
     },
     "execution_count": 13,
     "metadata": {},
     "output_type": "execute_result"
    }
   ],
   "source": [
    "# Посмотрим на данные\n",
    "data.head(2)"
   ]
  },
  {
   "cell_type": "code",
   "execution_count": 14,
   "metadata": {},
   "outputs": [
    {
     "name": "stdout",
     "output_type": "stream",
     "text": [
      "<class 'pandas.core.frame.DataFrame'>\n",
      "RangeIndex: 159292 entries, 0 to 159291\n",
      "Data columns (total 3 columns):\n",
      " #   Column      Non-Null Count   Dtype \n",
      "---  ------      --------------   ----- \n",
      " 0   Unnamed: 0  159292 non-null  int32 \n",
      " 1   text        159292 non-null  object\n",
      " 2   toxic       159292 non-null  int8  \n",
      "dtypes: int32(1), int8(1), object(1)\n",
      "memory usage: 2.0+ MB\n"
     ]
    }
   ],
   "source": [
    "# Проверим пропуски\n",
    "data.info()"
   ]
  },
  {
   "cell_type": "code",
   "execution_count": 15,
   "metadata": {},
   "outputs": [
    {
     "name": "stdout",
     "output_type": "stream",
     "text": [
      "0\n"
     ]
    }
   ],
   "source": [
    "# Проверим дубликаты\n",
    "print(data['text'].duplicated().sum())"
   ]
  },
  {
   "cell_type": "code",
   "execution_count": 16,
   "metadata": {
    "scrolled": true
   },
   "outputs": [
    {
     "data": {
      "text/plain": [
       "toxic\n",
       "0    143106\n",
       "1     16186\n",
       "Name: count, dtype: int64"
      ]
     },
     "execution_count": 16,
     "metadata": {},
     "output_type": "execute_result"
    }
   ],
   "source": [
    "# Проверим соответствие данных в столбце целевого признака\n",
    "data['toxic'].value_counts()"
   ]
  },
  {
   "cell_type": "code",
   "execution_count": 17,
   "metadata": {},
   "outputs": [
    {
     "data": {
      "text/plain": [
       "<Axes: xlabel='toxic'>"
      ]
     },
     "execution_count": 17,
     "metadata": {},
     "output_type": "execute_result"
    },
    {
     "data": {
      "image/png": "[encoded data removed]",
      "text/plain": [
       "<Figure size 640x480 with 1 Axes>"
      ]
     },
     "metadata": {},
     "output_type": "display_data"
    }
   ],
   "source": [
    "# Визуализируем дисбаланс данных в столбце целевого признака\n",
    "data.toxic.value_counts(normalize=True).plot(kind='bar')"
   ]
  },
  {
   "cell_type": "markdown",
   "metadata": {},
   "source": [
    "Обнаружен сильный дисбаланс классов целевого признака: негативных оценок на порядок меньше положительных."
   ]
  },
  {
   "cell_type": "code",
   "execution_count": 18,
   "metadata": {},
   "outputs": [
    {
     "name": "stderr",
     "output_type": "stream",
     "text": [
      "[nltk_data] Downloading package stopwords to C:\\Users\\len-\n",
      "[nltk_data]     user-1\\AppData\\Roaming\\nltk_data...\n",
      "[nltk_data]   Package stopwords is already up-to-date!\n"
     ]
    }
   ],
   "source": [
    "# Загрузим словарь ненужных слов\n",
    "nltk.download('stopwords')\n",
    "stop_words = set(stopwords.words('english'))"
   ]
  },
  {
   "cell_type": "code",
   "execution_count": 19,
   "metadata": {},
   "outputs": [],
   "source": [
    "# Иницииализируем токенизатор\n",
    "tokenizer = Tokenizer(\n",
    "    lowercasing=True,\n",
    "    separator_type='BySense',\n",
    "    token_types=['Word', 'Number']\n",
    ")"
   ]
  },
  {
   "cell_type": "code",
   "execution_count": 20,
   "metadata": {},
   "outputs": [],
   "source": [
    "# Функция фильтрации стоп-слов\n",
    "def filter_stop_words(tokens):\n",
    "    return list(filter(lambda x: x not in stop_words, tokens))"
   ]
  },
  {
   "cell_type": "code",
   "execution_count": 21,
   "metadata": {},
   "outputs": [
    {
     "name": "stderr",
     "output_type": "stream",
     "text": [
      "[nltk_data] Downloading package wordnet to C:\\Users\\len-\n",
      "[nltk_data]     user-1\\AppData\\Roaming\\nltk_data...\n",
      "[nltk_data]   Package wordnet is already up-to-date!\n"
     ]
    }
   ],
   "source": [
    "# Функция установки тегов слов\n",
    "nltk.download('wordnet')\n",
    "tagger = PerceptronTagger()\n",
    "\n",
    "tag_dict = {\"J\": wordnet.ADJ,\n",
    "            \"N\": wordnet.NOUN,\n",
    "            \"V\": wordnet.VERB,\n",
    "            \"R\": wordnet.ADV}\n",
    "\n",
    "def get_wordnet_pos_multiple(words):\n",
    "    pos_tags = tagger.tag(words)\n",
    "    #pos_tags = nltk.pos_tag(words)\n",
    "    return [(word, tag_dict.get(tag[0].upper(), wordnet.NOUN)) for word, tag in pos_tags]"
   ]
  },
  {
   "cell_type": "code",
   "execution_count": 22,
   "metadata": {},
   "outputs": [
    {
     "name": "stderr",
     "output_type": "stream",
     "text": [
      "[nltk_data] Downloading package wordnet to C:\\Users\\len-\n",
      "[nltk_data]     user-1\\anaconda3\\envs\\practicum\\lib\\site-\n",
      "[nltk_data]     packages\\nltk\\nltk_data...\n",
      "[nltk_data]   Package wordnet is already up-to-date!\n",
      "[nltk_data] Downloading package averaged_perceptron_tagger to\n",
      "[nltk_data]     C:\\Users\\len-user-1\\AppData\\Roaming\\nltk_data...\n",
      "[nltk_data]   Package averaged_perceptron_tagger is already up-to-\n",
      "[nltk_data]       date!\n"
     ]
    }
   ],
   "source": [
    "# Функция лемматизации\n",
    "nltk_data_path = os.path.join(os.path.dirname(nltk.__file__), 'nltk_data')\n",
    "nltk.data.path.append(nltk_data_path)\n",
    "nltk.download('wordnet', nltk_data_path)\n",
    "nltk.download('averaged_perceptron_tagger')\n",
    "\n",
    "lemmatizer = nltk.stem.WordNetLemmatizer()\n",
    "\n",
    "def lemmatize_tokens_nltk(tokens):\n",
    "    pos_tags = get_wordnet_pos_multiple(tokens)\n",
    "    return [lemmatizer.lemmatize(token, tag) for token, tag in pos_tags]\n",
    "    #return list(map(lambda t: lemmatizer.lemmatize(t, get_wordnet_pos(t)), tokens))\n",
    "    #return list(map(lambda t: lemmatizer.lemmatize(t), tokens))"
   ]
  },
  {
   "cell_type": "code",
   "execution_count": 23,
   "metadata": {},
   "outputs": [],
   "source": [
    "# Функция обработки строк датасета\n",
    "def lemm_func(text):\n",
    "    tokenized_text = tokenizer.tokenize(text)\n",
    "    tokenized_text = filter_stop_words(tokenized_text)\n",
    "    tokenized_text = lemmatize_tokens_nltk(tokenized_text)\n",
    "    \n",
    "    return ' '.join(tokenized_text)"
   ]
  },
  {
   "cell_type": "code",
   "execution_count": 24,
   "metadata": {},
   "outputs": [
    {
     "data": {
      "text/plain": [
       "0    Explanation\\nWhy the edits made under my usern...\n",
       "1    D'aww! He matches this background colour I'm s...\n",
       "2    Hey man, I'm really not trying to edit war. It...\n",
       "3    \"\\nMore\\nI can't make any real suggestions on ...\n",
       "4    You, sir, are my hero. Any chance you remember...\n",
       "Name: text, dtype: object"
      ]
     },
     "execution_count": 24,
     "metadata": {},
     "output_type": "execute_result"
    }
   ],
   "source": [
    "data['text'].head()"
   ]
  },
  {
   "cell_type": "code",
   "execution_count": 28,
   "metadata": {
    "scrolled": false
   },
   "outputs": [
    {
     "name": "stdout",
     "output_type": "stream",
     "text": [
      "CPU times: total: 9min 22s\n",
      "Wall time: 9min 22s\n"
     ]
    }
   ],
   "source": [
    "%%time\n",
    "# Проведем лемматизацию текстов\n",
    "data['lem_text'] = data['text'].apply(lambda x: lemm_func(x))"
   ]
  },
  {
   "cell_type": "code",
   "execution_count": 29,
   "metadata": {},
   "outputs": [
    {
     "data": {
      "text/plain": [
       "0    explanation edits make username hardcore metal...\n",
       "1    d'aww match background colour i'm seemingly st...\n",
       "2    hey man i'm really try edit war guy constantly...\n",
       "3    can't make real suggestion improvement wonder ...\n",
       "4                 sir hero chance remember page that's\n",
       "Name: lem_text, dtype: object"
      ]
     },
     "execution_count": 29,
     "metadata": {},
     "output_type": "execute_result"
    }
   ],
   "source": [
    "data['lem_text'].head()"
   ]
  },
  {
   "cell_type": "code",
   "execution_count": 30,
   "metadata": {},
   "outputs": [],
   "source": [
    "# Получим выборки негативных и позитивных комментариев\n",
    "data_1 = data.query('toxic == 1')\n",
    "data_0 = data.query('toxic == 0')"
   ]
  },
  {
   "cell_type": "code",
   "execution_count": 31,
   "metadata": {},
   "outputs": [
    {
     "data": {
      "image/png": "[encoded data removed]",
      "text/plain": [
       "<Figure size 640x480 with 1 Axes>"
      ]
     },
     "metadata": {},
     "output_type": "display_data"
    }
   ],
   "source": [
    "if skip_EDA == False:\n",
    "    # Выводим облако слов из негативных выражений\n",
    "    text = ' '.join(data_1['lem_text'])\n",
    "    cloud = WordCloud(stopwords=stop_words).generate(text)\n",
    "    plt.imshow(cloud)\n",
    "    plt.axis('off');"
   ]
  },
  {
   "cell_type": "code",
   "execution_count": 32,
   "metadata": {},
   "outputs": [
    {
     "data": {
      "image/png": "[encoded data removed]",
      "text/plain": [
       "<Figure size 640x480 with 1 Axes>"
      ]
     },
     "metadata": {},
     "output_type": "display_data"
    }
   ],
   "source": [
    "if skip_EDA == False:\n",
    "    # Выводим облако слов из позитивных выражений\n",
    "    text = ' '.join(data_0['lem_text'])\n",
    "    cloud = WordCloud(stopwords=stop_words).generate(text)\n",
    "    plt.imshow(cloud)\n",
    "    plt.axis('off');"
   ]
  },
  {
   "cell_type": "code",
   "execution_count": 76,
   "metadata": {},
   "outputs": [],
   "source": [
    "# Удалим из выборок лишние столбцы\n",
    "data = data.drop(['Unnamed: 0', 'text'], axis=1)"
   ]
  },
  {
   "cell_type": "code",
   "execution_count": 40,
   "metadata": {},
   "outputs": [],
   "source": [
    "# Создадим тренировочную и тестовую выборки\n",
    "TEST_SIZE = 0.1\n",
    "RANDOM_STATE = 42\n",
    "X_train, X_test, y_train, y_test = train_test_split(\n",
    "    data.drop(['toxic'], axis=1),\n",
    "    data['toxic'],\n",
    "    test_size = TEST_SIZE, \n",
    "    random_state = RANDOM_STATE,\n",
    "    stratify = data['toxic']\n",
    ")"
   ]
  },
  {
   "cell_type": "code",
   "execution_count": 43,
   "metadata": {},
   "outputs": [
    {
     "data": {
      "text/html": [
       "<div>\n",
       "<style scoped>\n",
       "    .dataframe tbody tr th:only-of-type {\n",
       "        vertical-align: middle;\n",
       "    }\n",
       "\n",
       "    .dataframe tbody tr th {\n",
       "        vertical-align: top;\n",
       "    }\n",
       "\n",
       "    .dataframe thead th {\n",
       "        text-align: right;\n",
       "    }\n",
       "</style>\n",
       "<table border=\"1\" class=\"dataframe\">\n",
       "  <thead>\n",
       "    <tr style=\"text-align: right;\">\n",
       "      <th></th>\n",
       "      <th>lem_text</th>\n",
       "    </tr>\n",
       "  </thead>\n",
       "  <tbody>\n",
       "    <tr>\n",
       "      <th>22585</th>\n",
       "      <td>please stop continue vandalize page saint-vict...</td>\n",
       "    </tr>\n",
       "    <tr>\n",
       "      <th>150346</th>\n",
       "      <td>chanology nonviolence comment say one edit cha...</td>\n",
       "    </tr>\n",
       "  </tbody>\n",
       "</table>\n",
       "</div>"
      ],
      "text/plain": [
       "                                                 lem_text\n",
       "22585   please stop continue vandalize page saint-vict...\n",
       "150346  chanology nonviolence comment say one edit cha..."
      ]
     },
     "execution_count": 43,
     "metadata": {},
     "output_type": "execute_result"
    }
   ],
   "source": [
    "X_train.head(2)"
   ]
  },
  {
   "cell_type": "code",
   "execution_count": 44,
   "metadata": {},
   "outputs": [
    {
     "name": "stdout",
     "output_type": "stream",
     "text": [
      "Размеры тренировочной выборки (143362, 1)\n",
      "Размеры тестовой выборки (15930, 1)\n"
     ]
    }
   ],
   "source": [
    "print('Размеры тренировочной выборки', X_train.shape)\n",
    "print('Размеры тестовой выборки', X_test.shape)"
   ]
  },
  {
   "cell_type": "code",
   "execution_count": 45,
   "metadata": {},
   "outputs": [],
   "source": [
    "# Удалим ненужные переменные\n",
    "del data, data_0, data_1"
   ]
  },
  {
   "cell_type": "markdown",
   "metadata": {},
   "source": [
    "Выводы по подготовке данных:\n",
    "\n",
    "1. В датасет загружена таблица toxic_comments. Датасет имет 159292 строк и 3 столбца. \n",
    "2. Столбец 'Unnamed: 0' непригоден в качестве признака. Столбец удален из датасета.\n",
    "3. Датасет не имеет пропусков, несоответствий и явных дубликатов.\n",
    "4. Обнаружен сильный дисбаланс классов целевого признака: негативных оценок на порядок меньше положительных. Дисбаланс устранен.\n",
    "5. Проведена лемматизация и очистка текста.\n",
    "6. Построены две визуализации облаков наиболее часто применных слов: из негативных и из позитивных высказываний.\n",
    "7. На основе датасета toxic_comments созданы тренировочная и тестовая выборки.\n",
    "8. Счетчик TF-IDF и сэмплер RandomOverSampler должен создаваться в пайплане."
   ]
  },
  {
   "cell_type": "markdown",
   "metadata": {},
   "source": [
    "## Обучение"
   ]
  },
  {
   "cell_type": "markdown",
   "metadata": {},
   "source": [
    "### Использование модели LogisticRegression"
   ]
  },
  {
   "cell_type": "code",
   "execution_count": 51,
   "metadata": {},
   "outputs": [],
   "source": [
    "# функция перебора гиперпараметров для optuna \n",
    "def optuna_objective(trial, X_train, y_train, results):\n",
    "    model, train_score = optuna_train_model(trial, X_train, y_train) \n",
    "    if results.get('best_score') == None or results['best_score'] > train_score:\n",
    "        results['best_model'] = model\n",
    "        results['best_score'] = train_score\n",
    "    \n",
    "    print(f'train_score @ {train_score}')              \n",
    "    return train_score"
   ]
  },
  {
   "cell_type": "code",
   "execution_count": 52,
   "metadata": {},
   "outputs": [],
   "source": [
    "# функция установки гиперпарамтров для optuna_objective\n",
    "def optuna_train_model(trial, X_train, y_train):\n",
    "    param_distributions = {}\n",
    "    \n",
    "    params = {}\n",
    "    params['C'] = trial.suggest_int('C', 1, 4)\n",
    "\n",
    "    pipeline = Pipeline([\n",
    "        ('transformer', ColumnTransformer([\n",
    "            ('tfidf', TfidfVectorizer(), 'lem_text')\n",
    "        ], remainder='drop'\n",
    "        )), \n",
    "        ('sampler', RandomOverSampler(random_state=RANDOM_STATE)),\n",
    "        ('classifier', LogisticRegression(random_state=RANDOM_STATE, solver='liblinear', penalty='l1', **params))\n",
    "    ])\n",
    "\n",
    "    cval = cross_validate(pipeline, X_train, y_train, cv=5, scoring=['f1'], return_train_score=True)\n",
    "    print('Метрика F1 на обучающей кросс-валидационной выборке (среднее):', cval['train_f1'].mean())\n",
    "    print('Метрика F1 на тестовой кросс-валидационной выборке (среднее):', cval['test_f1'].mean())\n",
    "    score = cval['test_f1'].mean()\n",
    "\n",
    "    # Обучим модель на обучающей выборке\n",
    "    pipeline.fit(X_train, y_train)\n",
    "    \n",
    "    return pipeline, score"
   ]
  },
  {
   "cell_type": "code",
   "execution_count": 53,
   "metadata": {},
   "outputs": [
    {
     "name": "stderr",
     "output_type": "stream",
     "text": [
      "[I 2024-10-06 16:08:05,563] A new study created in memory with name: no-name-001279cd-cccf-4a1f-9c2a-912955f871b6\n"
     ]
    },
    {
     "data": {
      "application/vnd.jupyter.widget-view+json": {
       "model_id": "766320bbae334b868eb2974bbe21e180",
       "version_major": 2,
       "version_minor": 0
      },
      "text/plain": [
       "  0%|          | 0/5 [00:00<?, ?it/s]"
      ]
     },
     "metadata": {},
     "output_type": "display_data"
    },
    {
     "name": "stdout",
     "output_type": "stream",
     "text": [
      "Метрика F1 на обучающей кросс-валидационной выборке (среднее): 0.9335778682705126\n",
      "Метрика F1 на тестовой кросс-валидационной выборке (среднее): 0.7573078643414912\n",
      "train_score @ 0.7573078643414912\n",
      "[I 2024-10-06 16:09:41,437] Trial 0 finished with value: 0.7573078643414912 and parameters: {'C': 4}. Best is trial 0 with value: 0.7573078643414912.\n",
      "Метрика F1 на обучающей кросс-валидационной выборке (среднее): 0.9154447454733706\n",
      "Метрика F1 на тестовой кросс-валидационной выборке (среднее): 0.75901053946941\n",
      "train_score @ 0.75901053946941\n",
      "[I 2024-10-06 16:11:14,962] Trial 1 finished with value: 0.75901053946941 and parameters: {'C': 3}. Best is trial 0 with value: 0.7573078643414912.\n",
      "Метрика F1 на обучающей кросс-валидационной выборке (среднее): 0.9335778682705126\n",
      "Метрика F1 на тестовой кросс-валидационной выборке (среднее): 0.7573078643414912\n",
      "train_score @ 0.7573078643414912\n",
      "[I 2024-10-06 16:12:59,479] Trial 2 finished with value: 0.7573078643414912 and parameters: {'C': 4}. Best is trial 0 with value: 0.7573078643414912.\n",
      "Метрика F1 на обучающей кросс-валидационной выборке (среднее): 0.8933679696711092\n",
      "Метрика F1 на тестовой кросс-валидационной выборке (среднее): 0.7601763520971273\n",
      "train_score @ 0.7601763520971273\n",
      "[I 2024-10-06 16:14:35,978] Trial 3 finished with value: 0.7601763520971273 and parameters: {'C': 2}. Best is trial 0 with value: 0.7573078643414912.\n",
      "Метрика F1 на обучающей кросс-валидационной выборке (среднее): 0.9154447454733706\n",
      "Метрика F1 на тестовой кросс-валидационной выборке (среднее): 0.75901053946941\n",
      "train_score @ 0.75901053946941\n",
      "[I 2024-10-06 16:16:18,763] Trial 4 finished with value: 0.75901053946941 and parameters: {'C': 3}. Best is trial 0 with value: 0.7573078643414912.\n"
     ]
    }
   ],
   "source": [
    "# С помощью optuna произведем обучающий поиск\n",
    "study = optuna.create_study()\n",
    "optuna_results = {}\n",
    "study.optimize(lambda trial: optuna_objective(trial, X_train, y_train, optuna_results), n_trials=5, n_jobs=1, \n",
    "               show_progress_bar=True)"
   ]
  },
  {
   "cell_type": "code",
   "execution_count": 54,
   "metadata": {},
   "outputs": [
    {
     "name": "stdout",
     "output_type": "stream",
     "text": [
      "best score: 0.7573078643414912\n",
      "best params: {'C': 4}\n",
      "best model: Pipeline(steps=[('transformer',\n",
      "                 ColumnTransformer(transformers=[('tfidf', TfidfVectorizer(),\n",
      "                                                  'lem_text')])),\n",
      "                ('sampler', RandomOverSampler(random_state=42)),\n",
      "                ('classifier',\n",
      "                 LogisticRegression(C=4, penalty='l1', random_state=42,\n",
      "                                    solver='liblinear'))])\n",
      "Метрика F1 на кросс-валидации: 0.7573078643414912\n"
     ]
    }
   ],
   "source": [
    "# выведем результаты лучшей модели LogisticRegression\n",
    "print('best score:', study.best_value)                    \n",
    "print('best params:', study.best_params)                  \n",
    "print('best model:', optuna_results['best_model']) \n",
    "best_model_1 = optuna_results['best_model']\n",
    "f1_1 = study.best_value\n",
    "print('Метрика F1 на кросс-валидации:', f1_1) "
   ]
  },
  {
   "cell_type": "markdown",
   "metadata": {},
   "source": [
    "### Использование модели CatBoostClassifier"
   ]
  },
  {
   "cell_type": "code",
   "execution_count": 71,
   "metadata": {},
   "outputs": [],
   "source": [
    "# функция установки гиперпарамтров для optuna_objective\n",
    "def optuna_train_model_2(trial, X_train, y_train):\n",
    "    param_distributions = {}\n",
    "    \n",
    "    params = {}\n",
    "    \n",
    "    pipeline = Pipeline([\n",
    "        ('transformer', ColumnTransformer([\n",
    "            ('tfidf', TfidfVectorizer(), 'lem_text')\n",
    "        ], remainder='drop'\n",
    "        )), \n",
    "        ('sampler', RandomOverSampler(random_state=RANDOM_STATE)),\n",
    "        ('classifier', CatBoostClassifier(loss_function='Logloss', iterations=150, **params))\n",
    "    ])\n",
    "\n",
    "    cval = cross_validate(pipeline, X_train, y_train, cv=5, scoring=['f1'], return_train_score=True)\n",
    "    print('Метрика F1 на обучающей кросс-валидационной выборке (среднее):', cval['train_f1'].mean())\n",
    "    print('Метрика F1 на тестовой кросс-валидационной выборке (среднее):', cval['test_f1'].mean())\n",
    "    score = cval['test_f1'].mean()\n",
    "\n",
    "    # Обучим модель на обучающей выборке\n",
    "    pipeline.fit(X_train, y_train)\n",
    "    \n",
    "    return pipeline, score"
   ]
  },
  {
   "cell_type": "code",
   "execution_count": 72,
   "metadata": {},
   "outputs": [],
   "source": [
    "# функция перебора гиперпараметров для optuna \n",
    "def optuna_objective(trial, X_train, y_train, results):\n",
    "    model, train_score = optuna_train_model_2(trial, X_train, y_train) \n",
    "    if results.get('best_score') == None or results['best_score'] > train_score:\n",
    "        results['best_model'] = model\n",
    "        results['best_score'] = train_score\n",
    "    \n",
    "    print(f'train_score @ {train_score}')              \n",
    "    return train_score"
   ]
  },
  {
   "cell_type": "code",
   "execution_count": 73,
   "metadata": {},
   "outputs": [
    {
     "name": "stderr",
     "output_type": "stream",
     "text": [
      "[I 2024-10-06 22:31:25,355] A new study created in memory with name: no-name-3431bf2c-385a-4a00-8f13-0ae2132db181\n"
     ]
    },
    {
     "data": {
      "application/vnd.jupyter.widget-view+json": {
       "model_id": "39d57c27552a46c1ad4d17eafb4afb0f",
       "version_major": 2,
       "version_minor": 0
      },
      "text/plain": [
       "  0%|          | 0/1 [00:00<?, ?it/s]"
      ]
     },
     "metadata": {},
     "output_type": "display_data"
    },
    {
     "name": "stdout",
     "output_type": "stream",
     "text": [
      "Learning rate set to 0.5\n",
      "0:\tlearn: 0.5513173\ttotal: 2s\tremaining: 4m 57s\n",
      "1:\tlearn: 0.5101851\ttotal: 3.89s\tremaining: 4m 47s\n",
      "2:\tlearn: 0.4795789\ttotal: 5.76s\tremaining: 4m 42s\n",
      "3:\tlearn: 0.4583332\ttotal: 7.58s\tremaining: 4m 36s\n",
      "4:\tlearn: 0.4403820\ttotal: 9.45s\tremaining: 4m 34s\n",
      "5:\tlearn: 0.4273073\ttotal: 11.3s\tremaining: 4m 30s\n",
      "6:\tlearn: 0.4131088\ttotal: 13.1s\tremaining: 4m 27s\n",
      "7:\tlearn: 0.4039154\ttotal: 14.9s\tremaining: 4m 24s\n",
      "8:\tlearn: 0.3956725\ttotal: 16.7s\tremaining: 4m 22s\n",
      "9:\tlearn: 0.3887446\ttotal: 18.6s\tremaining: 4m 20s\n",
      "10:\tlearn: 0.3813024\ttotal: 20.4s\tremaining: 4m 17s\n",
      "11:\tlearn: 0.3746975\ttotal: 22.2s\tremaining: 4m 15s\n",
      "12:\tlearn: 0.3692574\ttotal: 24.1s\tremaining: 4m 13s\n",
      "13:\tlearn: 0.3635902\ttotal: 25.8s\tremaining: 4m 11s\n",
      "14:\tlearn: 0.3582446\ttotal: 27.6s\tremaining: 4m 8s\n",
      "15:\tlearn: 0.3542627\ttotal: 29.5s\tremaining: 4m 6s\n",
      "16:\tlearn: 0.3495904\ttotal: 31.3s\tremaining: 4m 4s\n",
      "17:\tlearn: 0.3460501\ttotal: 33.1s\tremaining: 4m 2s\n",
      "18:\tlearn: 0.3425497\ttotal: 34.9s\tremaining: 4m\n",
      "19:\tlearn: 0.3396129\ttotal: 36.6s\tremaining: 3m 58s\n",
      "20:\tlearn: 0.3365290\ttotal: 38.5s\tremaining: 3m 56s\n",
      "21:\tlearn: 0.3332460\ttotal: 40.2s\tremaining: 3m 54s\n",
      "22:\tlearn: 0.3286404\ttotal: 42s\tremaining: 3m 52s\n",
      "23:\tlearn: 0.3256616\ttotal: 43.8s\tremaining: 3m 50s\n",
      "24:\tlearn: 0.3230138\ttotal: 45.6s\tremaining: 3m 47s\n",
      "25:\tlearn: 0.3202061\ttotal: 47.4s\tremaining: 3m 45s\n",
      "26:\tlearn: 0.3172263\ttotal: 49.2s\tremaining: 3m 43s\n",
      "27:\tlearn: 0.3148734\ttotal: 50.9s\tremaining: 3m 41s\n",
      "28:\tlearn: 0.3121614\ttotal: 52.7s\tremaining: 3m 39s\n",
      "29:\tlearn: 0.3092847\ttotal: 54.5s\tremaining: 3m 37s\n",
      "30:\tlearn: 0.3069756\ttotal: 56.3s\tremaining: 3m 36s\n",
      "31:\tlearn: 0.3045398\ttotal: 58.1s\tremaining: 3m 34s\n",
      "32:\tlearn: 0.3007516\ttotal: 59.8s\tremaining: 3m 32s\n",
      "33:\tlearn: 0.2986469\ttotal: 1m 1s\tremaining: 3m 30s\n",
      "34:\tlearn: 0.2969518\ttotal: 1m 3s\tremaining: 3m 28s\n",
      "35:\tlearn: 0.2939803\ttotal: 1m 5s\tremaining: 3m 26s\n",
      "36:\tlearn: 0.2920097\ttotal: 1m 6s\tremaining: 3m 24s\n",
      "37:\tlearn: 0.2898180\ttotal: 1m 8s\tremaining: 3m 22s\n",
      "38:\tlearn: 0.2880710\ttotal: 1m 10s\tremaining: 3m 20s\n",
      "39:\tlearn: 0.2864392\ttotal: 1m 12s\tremaining: 3m 18s\n",
      "40:\tlearn: 0.2845573\ttotal: 1m 14s\tremaining: 3m 16s\n",
      "41:\tlearn: 0.2831942\ttotal: 1m 15s\tremaining: 3m 14s\n",
      "42:\tlearn: 0.2816402\ttotal: 1m 17s\tremaining: 3m 13s\n",
      "43:\tlearn: 0.2800709\ttotal: 1m 19s\tremaining: 3m 11s\n",
      "44:\tlearn: 0.2782156\ttotal: 1m 21s\tremaining: 3m 9s\n",
      "45:\tlearn: 0.2766447\ttotal: 1m 22s\tremaining: 3m 7s\n",
      "46:\tlearn: 0.2752038\ttotal: 1m 24s\tremaining: 3m 5s\n",
      "47:\tlearn: 0.2737071\ttotal: 1m 26s\tremaining: 3m 3s\n",
      "48:\tlearn: 0.2720528\ttotal: 1m 28s\tremaining: 3m 1s\n",
      "49:\tlearn: 0.2705542\ttotal: 1m 30s\tremaining: 3m\n",
      "50:\tlearn: 0.2693623\ttotal: 1m 31s\tremaining: 2m 58s\n",
      "51:\tlearn: 0.2678551\ttotal: 1m 33s\tremaining: 2m 56s\n",
      "52:\tlearn: 0.2666300\ttotal: 1m 35s\tremaining: 2m 54s\n",
      "53:\tlearn: 0.2651315\ttotal: 1m 37s\tremaining: 2m 52s\n",
      "54:\tlearn: 0.2642940\ttotal: 1m 38s\tremaining: 2m 50s\n",
      "55:\tlearn: 0.2633177\ttotal: 1m 40s\tremaining: 2m 48s\n",
      "56:\tlearn: 0.2619284\ttotal: 1m 42s\tremaining: 2m 46s\n",
      "57:\tlearn: 0.2605604\ttotal: 1m 44s\tremaining: 2m 45s\n",
      "58:\tlearn: 0.2595356\ttotal: 1m 45s\tremaining: 2m 43s\n",
      "59:\tlearn: 0.2579047\ttotal: 1m 47s\tremaining: 2m 41s\n",
      "60:\tlearn: 0.2568060\ttotal: 1m 49s\tremaining: 2m 39s\n",
      "61:\tlearn: 0.2549150\ttotal: 1m 51s\tremaining: 2m 37s\n",
      "62:\tlearn: 0.2538457\ttotal: 1m 52s\tremaining: 2m 36s\n",
      "63:\tlearn: 0.2525680\ttotal: 1m 54s\tremaining: 2m 34s\n",
      "64:\tlearn: 0.2514624\ttotal: 1m 56s\tremaining: 2m 32s\n",
      "65:\tlearn: 0.2505028\ttotal: 1m 58s\tremaining: 2m 30s\n",
      "66:\tlearn: 0.2493544\ttotal: 2m\tremaining: 2m 28s\n",
      "67:\tlearn: 0.2483220\ttotal: 2m 1s\tremaining: 2m 26s\n",
      "68:\tlearn: 0.2475383\ttotal: 2m 3s\tremaining: 2m 25s\n",
      "69:\tlearn: 0.2467884\ttotal: 2m 5s\tremaining: 2m 23s\n",
      "70:\tlearn: 0.2452166\ttotal: 2m 7s\tremaining: 2m 21s\n",
      "71:\tlearn: 0.2445116\ttotal: 2m 8s\tremaining: 2m 19s\n",
      "72:\tlearn: 0.2436971\ttotal: 2m 10s\tremaining: 2m 17s\n",
      "73:\tlearn: 0.2426144\ttotal: 2m 12s\tremaining: 2m 15s\n",
      "74:\tlearn: 0.2420019\ttotal: 2m 14s\tremaining: 2m 14s\n",
      "75:\tlearn: 0.2408986\ttotal: 2m 15s\tremaining: 2m 12s\n",
      "76:\tlearn: 0.2400653\ttotal: 2m 17s\tremaining: 2m 10s\n",
      "77:\tlearn: 0.2393301\ttotal: 2m 19s\tremaining: 2m 8s\n",
      "78:\tlearn: 0.2386944\ttotal: 2m 21s\tremaining: 2m 6s\n",
      "79:\tlearn: 0.2380299\ttotal: 2m 22s\tremaining: 2m 4s\n",
      "80:\tlearn: 0.2368739\ttotal: 2m 24s\tremaining: 2m 3s\n",
      "81:\tlearn: 0.2359049\ttotal: 2m 26s\tremaining: 2m 1s\n",
      "82:\tlearn: 0.2350637\ttotal: 2m 27s\tremaining: 1m 59s\n",
      "83:\tlearn: 0.2345086\ttotal: 2m 29s\tremaining: 1m 57s\n",
      "84:\tlearn: 0.2339018\ttotal: 2m 31s\tremaining: 1m 55s\n",
      "85:\tlearn: 0.2327763\ttotal: 2m 33s\tremaining: 1m 54s\n",
      "86:\tlearn: 0.2322019\ttotal: 2m 34s\tremaining: 1m 52s\n",
      "87:\tlearn: 0.2313621\ttotal: 2m 36s\tremaining: 1m 50s\n",
      "88:\tlearn: 0.2304687\ttotal: 2m 38s\tremaining: 1m 48s\n",
      "89:\tlearn: 0.2295216\ttotal: 2m 40s\tremaining: 1m 46s\n",
      "90:\tlearn: 0.2286145\ttotal: 2m 42s\tremaining: 1m 45s\n",
      "91:\tlearn: 0.2280670\ttotal: 2m 43s\tremaining: 1m 43s\n",
      "92:\tlearn: 0.2273632\ttotal: 2m 45s\tremaining: 1m 41s\n",
      "93:\tlearn: 0.2266364\ttotal: 2m 47s\tremaining: 1m 39s\n",
      "94:\tlearn: 0.2261226\ttotal: 2m 49s\tremaining: 1m 37s\n",
      "95:\tlearn: 0.2251776\ttotal: 2m 50s\tremaining: 1m 36s\n",
      "96:\tlearn: 0.2239043\ttotal: 2m 52s\tremaining: 1m 34s\n",
      "97:\tlearn: 0.2233045\ttotal: 2m 54s\tremaining: 1m 32s\n",
      "98:\tlearn: 0.2226180\ttotal: 2m 56s\tremaining: 1m 30s\n",
      "99:\tlearn: 0.2219872\ttotal: 2m 57s\tremaining: 1m 28s\n",
      "100:\tlearn: 0.2214664\ttotal: 2m 59s\tremaining: 1m 27s\n",
      "101:\tlearn: 0.2207271\ttotal: 3m 1s\tremaining: 1m 25s\n",
      "102:\tlearn: 0.2196469\ttotal: 3m 3s\tremaining: 1m 23s\n",
      "103:\tlearn: 0.2190457\ttotal: 3m 4s\tremaining: 1m 21s\n",
      "104:\tlearn: 0.2186019\ttotal: 3m 6s\tremaining: 1m 19s\n",
      "105:\tlearn: 0.2181432\ttotal: 3m 8s\tremaining: 1m 18s\n",
      "106:\tlearn: 0.2172649\ttotal: 3m 10s\tremaining: 1m 16s\n",
      "107:\tlearn: 0.2168339\ttotal: 3m 11s\tremaining: 1m 14s\n",
      "108:\tlearn: 0.2158876\ttotal: 3m 13s\tremaining: 1m 12s\n",
      "109:\tlearn: 0.2154541\ttotal: 3m 15s\tremaining: 1m 11s\n",
      "110:\tlearn: 0.2144127\ttotal: 3m 17s\tremaining: 1m 9s\n",
      "111:\tlearn: 0.2135853\ttotal: 3m 19s\tremaining: 1m 7s\n",
      "112:\tlearn: 0.2131642\ttotal: 3m 20s\tremaining: 1m 5s\n",
      "113:\tlearn: 0.2125051\ttotal: 3m 22s\tremaining: 1m 3s\n",
      "114:\tlearn: 0.2120515\ttotal: 3m 24s\tremaining: 1m 2s\n",
      "115:\tlearn: 0.2108331\ttotal: 3m 26s\tremaining: 1m\n",
      "116:\tlearn: 0.2104194\ttotal: 3m 27s\tremaining: 58.6s\n",
      "117:\tlearn: 0.2098919\ttotal: 3m 29s\tremaining: 56.8s\n",
      "118:\tlearn: 0.2092543\ttotal: 3m 31s\tremaining: 55s\n",
      "119:\tlearn: 0.2085306\ttotal: 3m 33s\tremaining: 53.3s\n",
      "120:\tlearn: 0.2079152\ttotal: 3m 34s\tremaining: 51.5s\n",
      "121:\tlearn: 0.2074801\ttotal: 3m 36s\tremaining: 49.7s\n",
      "122:\tlearn: 0.2070830\ttotal: 3m 38s\tremaining: 48s\n",
      "123:\tlearn: 0.2066009\ttotal: 3m 40s\tremaining: 46.2s\n",
      "124:\tlearn: 0.2057690\ttotal: 3m 41s\tremaining: 44.4s\n",
      "125:\tlearn: 0.2051335\ttotal: 3m 43s\tremaining: 42.6s\n",
      "126:\tlearn: 0.2041558\ttotal: 3m 45s\tremaining: 40.9s\n",
      "127:\tlearn: 0.2036134\ttotal: 3m 47s\tremaining: 39.1s\n",
      "128:\tlearn: 0.2032348\ttotal: 3m 49s\tremaining: 37.3s\n",
      "129:\tlearn: 0.2028014\ttotal: 3m 51s\tremaining: 35.6s\n",
      "130:\tlearn: 0.2022935\ttotal: 3m 52s\tremaining: 33.8s\n",
      "131:\tlearn: 0.2018928\ttotal: 3m 54s\tremaining: 32s\n",
      "132:\tlearn: 0.2010344\ttotal: 3m 56s\tremaining: 30.2s\n",
      "133:\tlearn: 0.2006758\ttotal: 3m 58s\tremaining: 28.4s\n",
      "134:\tlearn: 0.2000403\ttotal: 3m 59s\tremaining: 26.7s\n",
      "135:\tlearn: 0.1994550\ttotal: 4m 1s\tremaining: 24.9s\n",
      "136:\tlearn: 0.1991127\ttotal: 4m 3s\tremaining: 23.1s\n",
      "137:\tlearn: 0.1987540\ttotal: 4m 5s\tremaining: 21.4s\n",
      "138:\tlearn: 0.1978933\ttotal: 4m 7s\tremaining: 19.6s\n",
      "139:\tlearn: 0.1975450\ttotal: 4m 9s\tremaining: 17.8s\n",
      "140:\tlearn: 0.1968968\ttotal: 4m 11s\tremaining: 16s\n",
      "141:\tlearn: 0.1965392\ttotal: 4m 12s\tremaining: 14.2s\n",
      "142:\tlearn: 0.1961881\ttotal: 4m 14s\tremaining: 12.5s\n",
      "143:\tlearn: 0.1951880\ttotal: 4m 16s\tremaining: 10.7s\n",
      "144:\tlearn: 0.1946579\ttotal: 4m 18s\tremaining: 8.9s\n",
      "145:\tlearn: 0.1943041\ttotal: 4m 19s\tremaining: 7.12s\n",
      "146:\tlearn: 0.1936930\ttotal: 4m 21s\tremaining: 5.34s\n",
      "147:\tlearn: 0.1930272\ttotal: 4m 23s\tremaining: 3.56s\n",
      "148:\tlearn: 0.1926741\ttotal: 4m 25s\tremaining: 1.78s\n",
      "149:\tlearn: 0.1917796\ttotal: 4m 27s\tremaining: 0us\n",
      "Learning rate set to 0.5\n",
      "0:\tlearn: 0.5524236\ttotal: 1.97s\tremaining: 4m 52s\n",
      "1:\tlearn: 0.5122954\ttotal: 3.88s\tremaining: 4m 47s\n",
      "2:\tlearn: 0.4844760\ttotal: 5.71s\tremaining: 4m 40s\n",
      "3:\tlearn: 0.4616664\ttotal: 7.54s\tremaining: 4m 35s\n",
      "4:\tlearn: 0.4447704\ttotal: 9.41s\tremaining: 4m 33s\n",
      "5:\tlearn: 0.4282621\ttotal: 11.2s\tremaining: 4m 28s\n"
     ]
    },
    {
     "name": "stdout",
     "output_type": "stream",
     "text": [
      "6:\tlearn: 0.4169445\ttotal: 13s\tremaining: 4m 25s\n",
      "7:\tlearn: 0.4087456\ttotal: 14.8s\tremaining: 4m 22s\n",
      "8:\tlearn: 0.3979413\ttotal: 16.6s\tremaining: 4m 20s\n",
      "9:\tlearn: 0.3883534\ttotal: 18.5s\tremaining: 4m 18s\n",
      "10:\tlearn: 0.3815387\ttotal: 20.3s\tremaining: 4m 16s\n",
      "11:\tlearn: 0.3747655\ttotal: 22.1s\tremaining: 4m 13s\n",
      "12:\tlearn: 0.3695917\ttotal: 23.9s\tremaining: 4m 11s\n",
      "13:\tlearn: 0.3641313\ttotal: 25.7s\tremaining: 4m 9s\n",
      "14:\tlearn: 0.3590774\ttotal: 27.4s\tremaining: 4m 7s\n",
      "15:\tlearn: 0.3537100\ttotal: 29.2s\tremaining: 4m 4s\n",
      "16:\tlearn: 0.3491638\ttotal: 31s\tremaining: 4m 2s\n",
      "17:\tlearn: 0.3456354\ttotal: 32.8s\tremaining: 4m\n",
      "18:\tlearn: 0.3406955\ttotal: 34.6s\tremaining: 3m 58s\n",
      "19:\tlearn: 0.3372973\ttotal: 36.4s\tremaining: 3m 56s\n",
      "20:\tlearn: 0.3339139\ttotal: 38.2s\tremaining: 3m 54s\n",
      "21:\tlearn: 0.3308382\ttotal: 40s\tremaining: 3m 52s\n",
      "22:\tlearn: 0.3278756\ttotal: 41.7s\tremaining: 3m 50s\n",
      "23:\tlearn: 0.3245314\ttotal: 43.5s\tremaining: 3m 48s\n",
      "24:\tlearn: 0.3216955\ttotal: 45.3s\tremaining: 3m 46s\n",
      "25:\tlearn: 0.3192169\ttotal: 47.1s\tremaining: 3m 44s\n",
      "26:\tlearn: 0.3167220\ttotal: 48.9s\tremaining: 3m 42s\n",
      "27:\tlearn: 0.3145493\ttotal: 50.7s\tremaining: 3m 40s\n",
      "28:\tlearn: 0.3121106\ttotal: 52.5s\tremaining: 3m 38s\n",
      "29:\tlearn: 0.3087219\ttotal: 54.2s\tremaining: 3m 36s\n",
      "30:\tlearn: 0.3066160\ttotal: 56s\tremaining: 3m 34s\n",
      "31:\tlearn: 0.3042909\ttotal: 57.8s\tremaining: 3m 32s\n",
      "32:\tlearn: 0.3016215\ttotal: 59.5s\tremaining: 3m 31s\n",
      "33:\tlearn: 0.2996681\ttotal: 1m 1s\tremaining: 3m 29s\n",
      "34:\tlearn: 0.2976136\ttotal: 1m 3s\tremaining: 3m 27s\n",
      "35:\tlearn: 0.2960031\ttotal: 1m 4s\tremaining: 3m 25s\n",
      "36:\tlearn: 0.2939536\ttotal: 1m 6s\tremaining: 3m 23s\n",
      "37:\tlearn: 0.2923243\ttotal: 1m 8s\tremaining: 3m 21s\n",
      "38:\tlearn: 0.2903033\ttotal: 1m 10s\tremaining: 3m 19s\n",
      "39:\tlearn: 0.2879157\ttotal: 1m 11s\tremaining: 3m 17s\n",
      "40:\tlearn: 0.2861999\ttotal: 1m 13s\tremaining: 3m 15s\n",
      "41:\tlearn: 0.2837903\ttotal: 1m 15s\tremaining: 3m 13s\n",
      "42:\tlearn: 0.2822965\ttotal: 1m 17s\tremaining: 3m 12s\n",
      "43:\tlearn: 0.2806864\ttotal: 1m 18s\tremaining: 3m 10s\n",
      "44:\tlearn: 0.2789391\ttotal: 1m 20s\tremaining: 3m 8s\n",
      "45:\tlearn: 0.2776150\ttotal: 1m 22s\tremaining: 3m 6s\n",
      "46:\tlearn: 0.2763412\ttotal: 1m 24s\tremaining: 3m 4s\n",
      "47:\tlearn: 0.2747587\ttotal: 1m 26s\tremaining: 3m 2s\n",
      "48:\tlearn: 0.2729981\ttotal: 1m 27s\tremaining: 3m\n",
      "49:\tlearn: 0.2711221\ttotal: 1m 29s\tremaining: 2m 59s\n",
      "50:\tlearn: 0.2697897\ttotal: 1m 31s\tremaining: 2m 57s\n",
      "51:\tlearn: 0.2682270\ttotal: 1m 33s\tremaining: 2m 55s\n",
      "52:\tlearn: 0.2668405\ttotal: 1m 34s\tremaining: 2m 53s\n",
      "53:\tlearn: 0.2654331\ttotal: 1m 36s\tremaining: 2m 51s\n",
      "54:\tlearn: 0.2644914\ttotal: 1m 38s\tremaining: 2m 49s\n",
      "55:\tlearn: 0.2625060\ttotal: 1m 40s\tremaining: 2m 48s\n",
      "56:\tlearn: 0.2609406\ttotal: 1m 41s\tremaining: 2m 46s\n",
      "57:\tlearn: 0.2599310\ttotal: 1m 43s\tremaining: 2m 44s\n",
      "58:\tlearn: 0.2588282\ttotal: 1m 45s\tremaining: 2m 42s\n",
      "59:\tlearn: 0.2574887\ttotal: 1m 47s\tremaining: 2m 40s\n",
      "60:\tlearn: 0.2563326\ttotal: 1m 48s\tremaining: 2m 38s\n",
      "61:\tlearn: 0.2550915\ttotal: 1m 50s\tremaining: 2m 37s\n",
      "62:\tlearn: 0.2538342\ttotal: 1m 52s\tremaining: 2m 35s\n",
      "63:\tlearn: 0.2524066\ttotal: 1m 54s\tremaining: 2m 33s\n",
      "64:\tlearn: 0.2514735\ttotal: 1m 55s\tremaining: 2m 31s\n",
      "65:\tlearn: 0.2501905\ttotal: 1m 57s\tremaining: 2m 29s\n",
      "66:\tlearn: 0.2475392\ttotal: 1m 59s\tremaining: 2m 28s\n",
      "67:\tlearn: 0.2467599\ttotal: 2m 1s\tremaining: 2m 26s\n",
      "68:\tlearn: 0.2457856\ttotal: 2m 3s\tremaining: 2m 24s\n",
      "69:\tlearn: 0.2448725\ttotal: 2m 4s\tremaining: 2m 22s\n",
      "70:\tlearn: 0.2439698\ttotal: 2m 6s\tremaining: 2m 20s\n",
      "71:\tlearn: 0.2429995\ttotal: 2m 8s\tremaining: 2m 18s\n",
      "72:\tlearn: 0.2423464\ttotal: 2m 9s\tremaining: 2m 17s\n",
      "73:\tlearn: 0.2416249\ttotal: 2m 11s\tremaining: 2m 15s\n",
      "74:\tlearn: 0.2406456\ttotal: 2m 13s\tremaining: 2m 13s\n",
      "75:\tlearn: 0.2396374\ttotal: 2m 15s\tremaining: 2m 11s\n",
      "76:\tlearn: 0.2389641\ttotal: 2m 16s\tremaining: 2m 9s\n",
      "77:\tlearn: 0.2382012\ttotal: 2m 18s\tremaining: 2m 7s\n",
      "78:\tlearn: 0.2375760\ttotal: 2m 20s\tremaining: 2m 6s\n",
      "79:\tlearn: 0.2367992\ttotal: 2m 22s\tremaining: 2m 4s\n",
      "80:\tlearn: 0.2360473\ttotal: 2m 23s\tremaining: 2m 2s\n",
      "81:\tlearn: 0.2351236\ttotal: 2m 25s\tremaining: 2m\n",
      "82:\tlearn: 0.2344775\ttotal: 2m 27s\tremaining: 1m 58s\n",
      "83:\tlearn: 0.2338682\ttotal: 2m 29s\tremaining: 1m 57s\n",
      "84:\tlearn: 0.2331039\ttotal: 2m 30s\tremaining: 1m 55s\n",
      "85:\tlearn: 0.2321092\ttotal: 2m 32s\tremaining: 1m 53s\n",
      "86:\tlearn: 0.2309426\ttotal: 2m 34s\tremaining: 1m 51s\n",
      "87:\tlearn: 0.2304235\ttotal: 2m 36s\tremaining: 1m 49s\n",
      "88:\tlearn: 0.2295743\ttotal: 2m 37s\tremaining: 1m 48s\n",
      "89:\tlearn: 0.2290587\ttotal: 2m 39s\tremaining: 1m 46s\n",
      "90:\tlearn: 0.2277028\ttotal: 2m 41s\tremaining: 1m 44s\n",
      "91:\tlearn: 0.2271794\ttotal: 2m 43s\tremaining: 1m 42s\n",
      "92:\tlearn: 0.2261908\ttotal: 2m 44s\tremaining: 1m 41s\n",
      "93:\tlearn: 0.2255995\ttotal: 2m 46s\tremaining: 1m 39s\n",
      "94:\tlearn: 0.2246729\ttotal: 2m 48s\tremaining: 1m 37s\n",
      "95:\tlearn: 0.2241799\ttotal: 2m 50s\tremaining: 1m 35s\n",
      "96:\tlearn: 0.2234124\ttotal: 2m 51s\tremaining: 1m 33s\n",
      "97:\tlearn: 0.2225485\ttotal: 2m 53s\tremaining: 1m 32s\n",
      "98:\tlearn: 0.2217579\ttotal: 2m 55s\tremaining: 1m 30s\n",
      "99:\tlearn: 0.2212228\ttotal: 2m 57s\tremaining: 1m 28s\n",
      "100:\tlearn: 0.2203541\ttotal: 2m 58s\tremaining: 1m 26s\n",
      "101:\tlearn: 0.2198391\ttotal: 3m\tremaining: 1m 25s\n",
      "102:\tlearn: 0.2189734\ttotal: 3m 2s\tremaining: 1m 23s\n",
      "103:\tlearn: 0.2178754\ttotal: 3m 4s\tremaining: 1m 21s\n",
      "104:\tlearn: 0.2171748\ttotal: 3m 6s\tremaining: 1m 19s\n",
      "105:\tlearn: 0.2167257\ttotal: 3m 7s\tremaining: 1m 17s\n",
      "106:\tlearn: 0.2162911\ttotal: 3m 9s\tremaining: 1m 16s\n",
      "107:\tlearn: 0.2157674\ttotal: 3m 11s\tremaining: 1m 14s\n",
      "108:\tlearn: 0.2148837\ttotal: 3m 13s\tremaining: 1m 12s\n",
      "109:\tlearn: 0.2141258\ttotal: 3m 15s\tremaining: 1m 10s\n",
      "110:\tlearn: 0.2136421\ttotal: 3m 16s\tremaining: 1m 9s\n",
      "111:\tlearn: 0.2131915\ttotal: 3m 18s\tremaining: 1m 7s\n",
      "112:\tlearn: 0.2127733\ttotal: 3m 20s\tremaining: 1m 5s\n",
      "113:\tlearn: 0.2120366\ttotal: 3m 22s\tremaining: 1m 3s\n",
      "114:\tlearn: 0.2116241\ttotal: 3m 24s\tremaining: 1m 2s\n",
      "115:\tlearn: 0.2107480\ttotal: 3m 26s\tremaining: 1m\n",
      "116:\tlearn: 0.2100197\ttotal: 3m 27s\tremaining: 58.7s\n",
      "117:\tlearn: 0.2096372\ttotal: 3m 29s\tremaining: 56.9s\n",
      "118:\tlearn: 0.2090198\ttotal: 3m 31s\tremaining: 55.2s\n",
      "119:\tlearn: 0.2084187\ttotal: 3m 33s\tremaining: 53.4s\n",
      "120:\tlearn: 0.2075186\ttotal: 3m 35s\tremaining: 51.7s\n",
      "121:\tlearn: 0.2068648\ttotal: 3m 37s\tremaining: 49.9s\n",
      "122:\tlearn: 0.2064664\ttotal: 3m 39s\tremaining: 48.1s\n",
      "123:\tlearn: 0.2060657\ttotal: 3m 41s\tremaining: 46.4s\n",
      "124:\tlearn: 0.2054823\ttotal: 3m 42s\tremaining: 44.6s\n",
      "125:\tlearn: 0.2045109\ttotal: 3m 44s\tremaining: 42.8s\n",
      "126:\tlearn: 0.2038246\ttotal: 3m 46s\tremaining: 41.1s\n",
      "127:\tlearn: 0.2032494\ttotal: 3m 48s\tremaining: 39.3s\n",
      "128:\tlearn: 0.2028663\ttotal: 3m 50s\tremaining: 37.6s\n",
      "129:\tlearn: 0.2019908\ttotal: 3m 52s\tremaining: 35.8s\n",
      "130:\tlearn: 0.2015981\ttotal: 3m 54s\tremaining: 34s\n",
      "131:\tlearn: 0.2010381\ttotal: 3m 56s\tremaining: 32.2s\n",
      "132:\tlearn: 0.2003520\ttotal: 3m 58s\tremaining: 30.4s\n",
      "133:\tlearn: 0.1999959\ttotal: 4m\tremaining: 28.7s\n",
      "134:\tlearn: 0.1996223\ttotal: 4m 1s\tremaining: 26.9s\n",
      "135:\tlearn: 0.1989125\ttotal: 4m 3s\tremaining: 25.1s\n",
      "136:\tlearn: 0.1981005\ttotal: 4m 5s\tremaining: 23.3s\n",
      "137:\tlearn: 0.1973132\ttotal: 4m 7s\tremaining: 21.5s\n",
      "138:\tlearn: 0.1966534\ttotal: 4m 9s\tremaining: 19.7s\n",
      "139:\tlearn: 0.1960585\ttotal: 4m 11s\tremaining: 17.9s\n",
      "140:\tlearn: 0.1957028\ttotal: 4m 12s\tremaining: 16.1s\n",
      "141:\tlearn: 0.1953382\ttotal: 4m 14s\tremaining: 14.4s\n",
      "142:\tlearn: 0.1950082\ttotal: 4m 16s\tremaining: 12.6s\n",
      "143:\tlearn: 0.1945362\ttotal: 4m 18s\tremaining: 10.8s\n",
      "144:\tlearn: 0.1938637\ttotal: 4m 20s\tremaining: 8.97s\n",
      "145:\tlearn: 0.1934634\ttotal: 4m 21s\tremaining: 7.17s\n",
      "146:\tlearn: 0.1931220\ttotal: 4m 23s\tremaining: 5.38s\n",
      "147:\tlearn: 0.1926677\ttotal: 4m 25s\tremaining: 3.58s\n",
      "148:\tlearn: 0.1923473\ttotal: 4m 26s\tremaining: 1.79s\n",
      "149:\tlearn: 0.1920040\ttotal: 4m 28s\tremaining: 0us\n",
      "Learning rate set to 0.5\n",
      "0:\tlearn: 0.5513058\ttotal: 2s\tremaining: 4m 58s\n",
      "1:\tlearn: 0.5111416\ttotal: 3.93s\tremaining: 4m 50s\n",
      "2:\tlearn: 0.4806407\ttotal: 5.81s\tremaining: 4m 44s\n",
      "3:\tlearn: 0.4616945\ttotal: 7.69s\tremaining: 4m 40s\n",
      "4:\tlearn: 0.4449251\ttotal: 9.53s\tremaining: 4m 36s\n",
      "5:\tlearn: 0.4293151\ttotal: 11.4s\tremaining: 4m 32s\n",
      "6:\tlearn: 0.4171687\ttotal: 13.2s\tremaining: 4m 30s\n",
      "7:\tlearn: 0.4087193\ttotal: 15.1s\tremaining: 4m 27s\n",
      "8:\tlearn: 0.4014597\ttotal: 16.9s\tremaining: 4m 24s\n",
      "9:\tlearn: 0.3913019\ttotal: 18.7s\tremaining: 4m 22s\n",
      "10:\tlearn: 0.3848579\ttotal: 20.6s\tremaining: 4m 20s\n",
      "11:\tlearn: 0.3791983\ttotal: 22.4s\tremaining: 4m 17s\n",
      "12:\tlearn: 0.3725335\ttotal: 24.1s\tremaining: 4m 14s\n"
     ]
    },
    {
     "name": "stdout",
     "output_type": "stream",
     "text": [
      "13:\tlearn: 0.3664478\ttotal: 26s\tremaining: 4m 12s\n",
      "14:\tlearn: 0.3605458\ttotal: 27.8s\tremaining: 4m 10s\n",
      "15:\tlearn: 0.3549649\ttotal: 29.6s\tremaining: 4m 7s\n",
      "16:\tlearn: 0.3506345\ttotal: 31.5s\tremaining: 4m 6s\n",
      "17:\tlearn: 0.3461147\ttotal: 33.2s\tremaining: 4m 3s\n",
      "18:\tlearn: 0.3425744\ttotal: 35s\tremaining: 4m 1s\n",
      "19:\tlearn: 0.3393335\ttotal: 36.8s\tremaining: 3m 59s\n",
      "20:\tlearn: 0.3349201\ttotal: 38.7s\tremaining: 3m 57s\n",
      "21:\tlearn: 0.3316389\ttotal: 40.5s\tremaining: 3m 55s\n",
      "22:\tlearn: 0.3286881\ttotal: 42.3s\tremaining: 3m 53s\n",
      "23:\tlearn: 0.3248941\ttotal: 44.1s\tremaining: 3m 51s\n",
      "24:\tlearn: 0.3221715\ttotal: 45.9s\tremaining: 3m 49s\n",
      "25:\tlearn: 0.3186239\ttotal: 47.7s\tremaining: 3m 47s\n",
      "26:\tlearn: 0.3160297\ttotal: 49.5s\tremaining: 3m 45s\n",
      "27:\tlearn: 0.3136637\ttotal: 51.2s\tremaining: 3m 43s\n",
      "28:\tlearn: 0.3110124\ttotal: 53s\tremaining: 3m 41s\n",
      "29:\tlearn: 0.3084604\ttotal: 54.8s\tremaining: 3m 39s\n",
      "30:\tlearn: 0.3061029\ttotal: 56.6s\tremaining: 3m 37s\n",
      "31:\tlearn: 0.3039685\ttotal: 58.4s\tremaining: 3m 35s\n",
      "32:\tlearn: 0.3008012\ttotal: 1m\tremaining: 3m 33s\n",
      "33:\tlearn: 0.2987338\ttotal: 1m 1s\tremaining: 3m 31s\n",
      "34:\tlearn: 0.2969437\ttotal: 1m 3s\tremaining: 3m 29s\n",
      "35:\tlearn: 0.2948252\ttotal: 1m 5s\tremaining: 3m 27s\n",
      "36:\tlearn: 0.2928579\ttotal: 1m 7s\tremaining: 3m 25s\n",
      "37:\tlearn: 0.2910640\ttotal: 1m 9s\tremaining: 3m 23s\n",
      "38:\tlearn: 0.2894382\ttotal: 1m 10s\tremaining: 3m 21s\n",
      "39:\tlearn: 0.2867530\ttotal: 1m 12s\tremaining: 3m 19s\n",
      "40:\tlearn: 0.2850925\ttotal: 1m 14s\tremaining: 3m 17s\n",
      "41:\tlearn: 0.2832650\ttotal: 1m 16s\tremaining: 3m 16s\n",
      "42:\tlearn: 0.2819189\ttotal: 1m 18s\tremaining: 3m 14s\n",
      "43:\tlearn: 0.2798505\ttotal: 1m 19s\tremaining: 3m 12s\n",
      "44:\tlearn: 0.2779752\ttotal: 1m 21s\tremaining: 3m 10s\n",
      "45:\tlearn: 0.2761293\ttotal: 1m 23s\tremaining: 3m 8s\n",
      "46:\tlearn: 0.2735792\ttotal: 1m 25s\tremaining: 3m 6s\n",
      "47:\tlearn: 0.2723454\ttotal: 1m 27s\tremaining: 3m 5s\n",
      "48:\tlearn: 0.2706748\ttotal: 1m 28s\tremaining: 3m 3s\n",
      "49:\tlearn: 0.2690005\ttotal: 1m 30s\tremaining: 3m 1s\n",
      "50:\tlearn: 0.2675623\ttotal: 1m 32s\tremaining: 3m\n",
      "51:\tlearn: 0.2665171\ttotal: 1m 34s\tremaining: 2m 58s\n",
      "52:\tlearn: 0.2653551\ttotal: 1m 36s\tremaining: 2m 56s\n",
      "53:\tlearn: 0.2641140\ttotal: 1m 38s\tremaining: 2m 54s\n",
      "54:\tlearn: 0.2626713\ttotal: 1m 40s\tremaining: 2m 53s\n",
      "55:\tlearn: 0.2613420\ttotal: 1m 42s\tremaining: 2m 51s\n",
      "56:\tlearn: 0.2599299\ttotal: 1m 44s\tremaining: 2m 49s\n",
      "57:\tlearn: 0.2586598\ttotal: 1m 45s\tremaining: 2m 47s\n",
      "58:\tlearn: 0.2572160\ttotal: 1m 47s\tremaining: 2m 45s\n",
      "59:\tlearn: 0.2562761\ttotal: 1m 49s\tremaining: 2m 44s\n",
      "60:\tlearn: 0.2552626\ttotal: 1m 51s\tremaining: 2m 42s\n",
      "61:\tlearn: 0.2538105\ttotal: 1m 53s\tremaining: 2m 40s\n",
      "62:\tlearn: 0.2525258\ttotal: 1m 54s\tremaining: 2m 38s\n",
      "63:\tlearn: 0.2517954\ttotal: 1m 56s\tremaining: 2m 36s\n",
      "64:\tlearn: 0.2507990\ttotal: 1m 58s\tremaining: 2m 35s\n",
      "65:\tlearn: 0.2497203\ttotal: 2m\tremaining: 2m 33s\n",
      "66:\tlearn: 0.2481793\ttotal: 2m 2s\tremaining: 2m 31s\n",
      "67:\tlearn: 0.2472536\ttotal: 2m 4s\tremaining: 2m 29s\n",
      "68:\tlearn: 0.2461040\ttotal: 2m 5s\tremaining: 2m 27s\n",
      "69:\tlearn: 0.2453803\ttotal: 2m 7s\tremaining: 2m 25s\n",
      "70:\tlearn: 0.2439712\ttotal: 2m 9s\tremaining: 2m 24s\n",
      "71:\tlearn: 0.2432058\ttotal: 2m 11s\tremaining: 2m 22s\n",
      "72:\tlearn: 0.2423678\ttotal: 2m 13s\tremaining: 2m 20s\n",
      "73:\tlearn: 0.2413741\ttotal: 2m 15s\tremaining: 2m 18s\n",
      "74:\tlearn: 0.2405543\ttotal: 2m 16s\tremaining: 2m 16s\n",
      "75:\tlearn: 0.2397896\ttotal: 2m 18s\tremaining: 2m 14s\n",
      "76:\tlearn: 0.2390152\ttotal: 2m 20s\tremaining: 2m 13s\n",
      "77:\tlearn: 0.2384178\ttotal: 2m 22s\tremaining: 2m 11s\n",
      "78:\tlearn: 0.2376129\ttotal: 2m 24s\tremaining: 2m 9s\n",
      "79:\tlearn: 0.2357755\ttotal: 2m 25s\tremaining: 2m 7s\n",
      "80:\tlearn: 0.2350695\ttotal: 2m 27s\tremaining: 2m 5s\n",
      "81:\tlearn: 0.2340380\ttotal: 2m 29s\tremaining: 2m 4s\n",
      "82:\tlearn: 0.2332062\ttotal: 2m 31s\tremaining: 2m 2s\n",
      "83:\tlearn: 0.2326276\ttotal: 2m 33s\tremaining: 2m\n",
      "84:\tlearn: 0.2316239\ttotal: 2m 35s\tremaining: 1m 58s\n",
      "85:\tlearn: 0.2309540\ttotal: 2m 37s\tremaining: 1m 57s\n",
      "86:\tlearn: 0.2303333\ttotal: 2m 39s\tremaining: 1m 55s\n",
      "87:\tlearn: 0.2294947\ttotal: 2m 41s\tremaining: 1m 53s\n",
      "88:\tlearn: 0.2287254\ttotal: 2m 42s\tremaining: 1m 51s\n",
      "89:\tlearn: 0.2281534\ttotal: 2m 44s\tremaining: 1m 49s\n",
      "90:\tlearn: 0.2273470\ttotal: 2m 46s\tremaining: 1m 47s\n",
      "91:\tlearn: 0.2265838\ttotal: 2m 48s\tremaining: 1m 46s\n",
      "92:\tlearn: 0.2260338\ttotal: 2m 49s\tremaining: 1m 44s\n",
      "93:\tlearn: 0.2250088\ttotal: 2m 51s\tremaining: 1m 42s\n",
      "94:\tlearn: 0.2244689\ttotal: 2m 53s\tremaining: 1m 40s\n",
      "95:\tlearn: 0.2239234\ttotal: 2m 55s\tremaining: 1m 38s\n",
      "96:\tlearn: 0.2231275\ttotal: 2m 57s\tremaining: 1m 36s\n",
      "97:\tlearn: 0.2226318\ttotal: 2m 59s\tremaining: 1m 35s\n",
      "98:\tlearn: 0.2215996\ttotal: 3m 1s\tremaining: 1m 33s\n",
      "99:\tlearn: 0.2209360\ttotal: 3m 2s\tremaining: 1m 31s\n",
      "100:\tlearn: 0.2203401\ttotal: 3m 4s\tremaining: 1m 29s\n",
      "101:\tlearn: 0.2195969\ttotal: 3m 6s\tremaining: 1m 27s\n",
      "102:\tlearn: 0.2187482\ttotal: 3m 8s\tremaining: 1m 25s\n",
      "103:\tlearn: 0.2181682\ttotal: 3m 10s\tremaining: 1m 24s\n",
      "104:\tlearn: 0.2172924\ttotal: 3m 12s\tremaining: 1m 22s\n",
      "105:\tlearn: 0.2168437\ttotal: 3m 14s\tremaining: 1m 20s\n",
      "106:\tlearn: 0.2156308\ttotal: 3m 15s\tremaining: 1m 18s\n",
      "107:\tlearn: 0.2146350\ttotal: 3m 17s\tremaining: 1m 16s\n",
      "108:\tlearn: 0.2141844\ttotal: 3m 19s\tremaining: 1m 15s\n",
      "109:\tlearn: 0.2135042\ttotal: 3m 21s\tremaining: 1m 13s\n",
      "110:\tlearn: 0.2129961\ttotal: 3m 23s\tremaining: 1m 11s\n",
      "111:\tlearn: 0.2123876\ttotal: 3m 25s\tremaining: 1m 9s\n",
      "112:\tlearn: 0.2119386\ttotal: 3m 27s\tremaining: 1m 7s\n",
      "113:\tlearn: 0.2112803\ttotal: 3m 28s\tremaining: 1m 5s\n",
      "114:\tlearn: 0.2105054\ttotal: 3m 30s\tremaining: 1m 4s\n",
      "115:\tlearn: 0.2094703\ttotal: 3m 32s\tremaining: 1m 2s\n",
      "116:\tlearn: 0.2090286\ttotal: 3m 34s\tremaining: 1m\n",
      "117:\tlearn: 0.2085404\ttotal: 3m 36s\tremaining: 58.7s\n",
      "118:\tlearn: 0.2079783\ttotal: 3m 38s\tremaining: 56.9s\n",
      "119:\tlearn: 0.2074423\ttotal: 3m 40s\tremaining: 55s\n",
      "120:\tlearn: 0.2068141\ttotal: 3m 42s\tremaining: 53.2s\n",
      "121:\tlearn: 0.2063831\ttotal: 3m 43s\tremaining: 51.4s\n",
      "122:\tlearn: 0.2056489\ttotal: 3m 45s\tremaining: 49.5s\n",
      "123:\tlearn: 0.2052813\ttotal: 3m 47s\tremaining: 47.7s\n",
      "124:\tlearn: 0.2046087\ttotal: 3m 49s\tremaining: 45.8s\n",
      "125:\tlearn: 0.2042122\ttotal: 3m 51s\tremaining: 44s\n",
      "126:\tlearn: 0.2035008\ttotal: 3m 53s\tremaining: 42.3s\n",
      "127:\tlearn: 0.2029203\ttotal: 3m 56s\tremaining: 40.7s\n",
      "128:\tlearn: 0.2023048\ttotal: 3m 59s\tremaining: 39s\n",
      "129:\tlearn: 0.2017182\ttotal: 4m 2s\tremaining: 37.3s\n",
      "130:\tlearn: 0.2013505\ttotal: 4m 5s\tremaining: 35.6s\n",
      "131:\tlearn: 0.2009777\ttotal: 4m 8s\tremaining: 33.8s\n",
      "132:\tlearn: 0.2002788\ttotal: 4m 11s\tremaining: 32.1s\n",
      "133:\tlearn: 0.1998827\ttotal: 4m 13s\tremaining: 30.3s\n",
      "134:\tlearn: 0.1995253\ttotal: 4m 16s\tremaining: 28.5s\n",
      "135:\tlearn: 0.1989304\ttotal: 4m 19s\tremaining: 26.7s\n",
      "136:\tlearn: 0.1982511\ttotal: 4m 22s\tremaining: 24.9s\n",
      "137:\tlearn: 0.1975289\ttotal: 4m 25s\tremaining: 23s\n",
      "138:\tlearn: 0.1971808\ttotal: 4m 27s\tremaining: 21.2s\n",
      "139:\tlearn: 0.1964987\ttotal: 4m 30s\tremaining: 19.3s\n",
      "140:\tlearn: 0.1961401\ttotal: 4m 33s\tremaining: 17.4s\n",
      "141:\tlearn: 0.1957080\ttotal: 4m 36s\tremaining: 15.6s\n",
      "142:\tlearn: 0.1953591\ttotal: 4m 38s\tremaining: 13.7s\n",
      "143:\tlearn: 0.1947686\ttotal: 4m 41s\tremaining: 11.7s\n",
      "144:\tlearn: 0.1944292\ttotal: 4m 44s\tremaining: 9.81s\n",
      "145:\tlearn: 0.1933240\ttotal: 4m 47s\tremaining: 7.87s\n",
      "146:\tlearn: 0.1929838\ttotal: 4m 50s\tremaining: 5.92s\n",
      "147:\tlearn: 0.1923040\ttotal: 4m 52s\tremaining: 3.96s\n",
      "148:\tlearn: 0.1919650\ttotal: 4m 55s\tremaining: 1.98s\n",
      "149:\tlearn: 0.1915618\ttotal: 4m 58s\tremaining: 0us\n",
      "Learning rate set to 0.5\n",
      "0:\tlearn: 0.5507578\ttotal: 3.33s\tremaining: 8m 16s\n",
      "1:\tlearn: 0.5096560\ttotal: 6.67s\tremaining: 8m 13s\n",
      "2:\tlearn: 0.4807426\ttotal: 10s\tremaining: 8m 11s\n",
      "3:\tlearn: 0.4559606\ttotal: 13.3s\tremaining: 8m 4s\n",
      "4:\tlearn: 0.4399952\ttotal: 16.3s\tremaining: 7m 53s\n",
      "5:\tlearn: 0.4256110\ttotal: 19.4s\tremaining: 7m 46s\n",
      "6:\tlearn: 0.4139766\ttotal: 22.6s\tremaining: 7m 40s\n",
      "7:\tlearn: 0.4043930\ttotal: 25.7s\tremaining: 7m 36s\n",
      "8:\tlearn: 0.3970002\ttotal: 28.7s\tremaining: 7m 29s\n",
      "9:\tlearn: 0.3904102\ttotal: 31.8s\tremaining: 7m 24s\n",
      "10:\tlearn: 0.3832657\ttotal: 34.9s\tremaining: 7m 20s\n",
      "11:\tlearn: 0.3773386\ttotal: 37.8s\tremaining: 7m 15s\n",
      "12:\tlearn: 0.3707926\ttotal: 40.8s\tremaining: 7m 10s\n",
      "13:\tlearn: 0.3652482\ttotal: 43.9s\tremaining: 7m 6s\n",
      "14:\tlearn: 0.3583550\ttotal: 46.9s\tremaining: 7m 2s\n",
      "15:\tlearn: 0.3533802\ttotal: 49.9s\tremaining: 6m 58s\n",
      "16:\tlearn: 0.3490414\ttotal: 53s\tremaining: 6m 55s\n",
      "17:\tlearn: 0.3457540\ttotal: 56s\tremaining: 6m 50s\n",
      "18:\tlearn: 0.3419976\ttotal: 59.1s\tremaining: 6m 47s\n",
      "19:\tlearn: 0.3383550\ttotal: 1m 2s\tremaining: 6m 44s\n"
     ]
    },
    {
     "name": "stdout",
     "output_type": "stream",
     "text": [
      "20:\tlearn: 0.3353148\ttotal: 1m 5s\tremaining: 6m 40s\n",
      "21:\tlearn: 0.3327651\ttotal: 1m 8s\tremaining: 6m 36s\n",
      "22:\tlearn: 0.3300223\ttotal: 1m 11s\tremaining: 6m 33s\n",
      "23:\tlearn: 0.3267615\ttotal: 1m 14s\tremaining: 6m 28s\n",
      "24:\tlearn: 0.3231988\ttotal: 1m 16s\tremaining: 6m 24s\n",
      "25:\tlearn: 0.3204585\ttotal: 1m 19s\tremaining: 6m 21s\n",
      "26:\tlearn: 0.3178970\ttotal: 1m 23s\tremaining: 6m 19s\n",
      "27:\tlearn: 0.3155646\ttotal: 1m 26s\tremaining: 6m 15s\n",
      "28:\tlearn: 0.3125607\ttotal: 1m 29s\tremaining: 6m 11s\n",
      "29:\tlearn: 0.3096283\ttotal: 1m 32s\tremaining: 6m 8s\n",
      "30:\tlearn: 0.3072139\ttotal: 1m 35s\tremaining: 6m 5s\n",
      "31:\tlearn: 0.3051384\ttotal: 1m 38s\tremaining: 6m 1s\n",
      "32:\tlearn: 0.3025044\ttotal: 1m 40s\tremaining: 5m 57s\n",
      "33:\tlearn: 0.3003670\ttotal: 1m 43s\tremaining: 5m 54s\n",
      "34:\tlearn: 0.2973513\ttotal: 1m 46s\tremaining: 5m 51s\n",
      "35:\tlearn: 0.2955861\ttotal: 1m 49s\tremaining: 5m 47s\n",
      "36:\tlearn: 0.2937401\ttotal: 1m 52s\tremaining: 5m 44s\n",
      "37:\tlearn: 0.2917696\ttotal: 1m 55s\tremaining: 5m 40s\n",
      "38:\tlearn: 0.2898392\ttotal: 1m 58s\tremaining: 5m 37s\n",
      "39:\tlearn: 0.2882276\ttotal: 2m 1s\tremaining: 5m 34s\n",
      "40:\tlearn: 0.2864109\ttotal: 2m 4s\tremaining: 5m 31s\n",
      "41:\tlearn: 0.2847929\ttotal: 2m 7s\tremaining: 5m 27s\n",
      "42:\tlearn: 0.2830579\ttotal: 2m 10s\tremaining: 5m 24s\n",
      "43:\tlearn: 0.2813464\ttotal: 2m 13s\tremaining: 5m 21s\n",
      "44:\tlearn: 0.2797724\ttotal: 2m 16s\tremaining: 5m 18s\n",
      "45:\tlearn: 0.2783657\ttotal: 2m 19s\tremaining: 5m 14s\n",
      "46:\tlearn: 0.2761971\ttotal: 2m 22s\tremaining: 5m 11s\n",
      "47:\tlearn: 0.2741829\ttotal: 2m 25s\tremaining: 5m 8s\n",
      "48:\tlearn: 0.2726979\ttotal: 2m 27s\tremaining: 5m 4s\n",
      "49:\tlearn: 0.2707707\ttotal: 2m 30s\tremaining: 5m 1s\n",
      "50:\tlearn: 0.2691743\ttotal: 2m 33s\tremaining: 4m 58s\n",
      "51:\tlearn: 0.2675818\ttotal: 2m 36s\tremaining: 4m 54s\n",
      "52:\tlearn: 0.2661594\ttotal: 2m 39s\tremaining: 4m 51s\n",
      "53:\tlearn: 0.2651251\ttotal: 2m 42s\tremaining: 4m 48s\n",
      "54:\tlearn: 0.2637700\ttotal: 2m 44s\tremaining: 4m 44s\n",
      "55:\tlearn: 0.2611962\ttotal: 2m 47s\tremaining: 4m 41s\n",
      "56:\tlearn: 0.2600730\ttotal: 2m 50s\tremaining: 4m 38s\n",
      "57:\tlearn: 0.2587657\ttotal: 2m 53s\tremaining: 4m 35s\n",
      "58:\tlearn: 0.2574794\ttotal: 2m 56s\tremaining: 4m 32s\n",
      "59:\tlearn: 0.2563828\ttotal: 2m 59s\tremaining: 4m 29s\n",
      "60:\tlearn: 0.2554587\ttotal: 3m 2s\tremaining: 4m 26s\n",
      "61:\tlearn: 0.2546243\ttotal: 3m 5s\tremaining: 4m 22s\n",
      "62:\tlearn: 0.2533925\ttotal: 3m 7s\tremaining: 4m 19s\n",
      "63:\tlearn: 0.2518705\ttotal: 3m 10s\tremaining: 4m 16s\n",
      "64:\tlearn: 0.2507991\ttotal: 3m 13s\tremaining: 4m 12s\n",
      "65:\tlearn: 0.2496575\ttotal: 3m 16s\tremaining: 4m 9s\n",
      "66:\tlearn: 0.2488384\ttotal: 3m 19s\tremaining: 4m 6s\n",
      "67:\tlearn: 0.2476267\ttotal: 3m 22s\tremaining: 4m 3s\n",
      "68:\tlearn: 0.2464514\ttotal: 3m 25s\tremaining: 4m\n",
      "69:\tlearn: 0.2457189\ttotal: 3m 27s\tremaining: 3m 57s\n",
      "70:\tlearn: 0.2448419\ttotal: 3m 30s\tremaining: 3m 54s\n",
      "71:\tlearn: 0.2438718\ttotal: 3m 33s\tremaining: 3m 51s\n",
      "72:\tlearn: 0.2431507\ttotal: 3m 36s\tremaining: 3m 48s\n",
      "73:\tlearn: 0.2421622\ttotal: 3m 39s\tremaining: 3m 45s\n",
      "74:\tlearn: 0.2410986\ttotal: 3m 42s\tremaining: 3m 42s\n",
      "75:\tlearn: 0.2404841\ttotal: 3m 45s\tremaining: 3m 39s\n",
      "76:\tlearn: 0.2397395\ttotal: 3m 48s\tremaining: 3m 36s\n",
      "77:\tlearn: 0.2389054\ttotal: 3m 51s\tremaining: 3m 33s\n",
      "78:\tlearn: 0.2382204\ttotal: 3m 54s\tremaining: 3m 30s\n",
      "79:\tlearn: 0.2371673\ttotal: 3m 57s\tremaining: 3m 27s\n",
      "80:\tlearn: 0.2359433\ttotal: 4m\tremaining: 3m 24s\n",
      "81:\tlearn: 0.2352952\ttotal: 4m 2s\tremaining: 3m 21s\n",
      "82:\tlearn: 0.2344749\ttotal: 4m 5s\tremaining: 3m 18s\n",
      "83:\tlearn: 0.2337420\ttotal: 4m 8s\tremaining: 3m 15s\n",
      "84:\tlearn: 0.2330713\ttotal: 4m 11s\tremaining: 3m 12s\n",
      "85:\tlearn: 0.2321455\ttotal: 4m 14s\tremaining: 3m 9s\n",
      "86:\tlearn: 0.2312379\ttotal: 4m 17s\tremaining: 3m 6s\n",
      "87:\tlearn: 0.2305285\ttotal: 4m 20s\tremaining: 3m 3s\n",
      "88:\tlearn: 0.2296863\ttotal: 4m 23s\tremaining: 3m\n",
      "89:\tlearn: 0.2291111\ttotal: 4m 26s\tremaining: 2m 57s\n",
      "90:\tlearn: 0.2285673\ttotal: 4m 28s\tremaining: 2m 54s\n",
      "91:\tlearn: 0.2280733\ttotal: 4m 31s\tremaining: 2m 51s\n",
      "92:\tlearn: 0.2274819\ttotal: 4m 34s\tremaining: 2m 48s\n",
      "93:\tlearn: 0.2267132\ttotal: 4m 37s\tremaining: 2m 45s\n",
      "94:\tlearn: 0.2262103\ttotal: 4m 40s\tremaining: 2m 42s\n",
      "95:\tlearn: 0.2256215\ttotal: 4m 43s\tremaining: 2m 39s\n",
      "96:\tlearn: 0.2247800\ttotal: 4m 46s\tremaining: 2m 36s\n",
      "97:\tlearn: 0.2236416\ttotal: 4m 49s\tremaining: 2m 33s\n",
      "98:\tlearn: 0.2228864\ttotal: 4m 51s\tremaining: 2m 30s\n",
      "99:\tlearn: 0.2217042\ttotal: 4m 54s\tremaining: 2m 27s\n",
      "100:\tlearn: 0.2211387\ttotal: 4m 57s\tremaining: 2m 24s\n",
      "101:\tlearn: 0.2206506\ttotal: 5m\tremaining: 2m 21s\n",
      "102:\tlearn: 0.2201848\ttotal: 5m 3s\tremaining: 2m 18s\n",
      "103:\tlearn: 0.2196708\ttotal: 5m 6s\tremaining: 2m 15s\n",
      "104:\tlearn: 0.2187652\ttotal: 5m 9s\tremaining: 2m 12s\n",
      "105:\tlearn: 0.2179852\ttotal: 5m 11s\tremaining: 2m 9s\n",
      "106:\tlearn: 0.2175796\ttotal: 5m 14s\tremaining: 2m 6s\n",
      "107:\tlearn: 0.2171354\ttotal: 5m 17s\tremaining: 2m 3s\n",
      "108:\tlearn: 0.2161979\ttotal: 5m 20s\tremaining: 2m\n",
      "109:\tlearn: 0.2155954\ttotal: 5m 23s\tremaining: 1m 57s\n",
      "110:\tlearn: 0.2151790\ttotal: 5m 26s\tremaining: 1m 54s\n",
      "111:\tlearn: 0.2139388\ttotal: 5m 29s\tremaining: 1m 51s\n",
      "112:\tlearn: 0.2130245\ttotal: 5m 31s\tremaining: 1m 48s\n",
      "113:\tlearn: 0.2124872\ttotal: 5m 34s\tremaining: 1m 45s\n",
      "114:\tlearn: 0.2120850\ttotal: 5m 37s\tremaining: 1m 42s\n",
      "115:\tlearn: 0.2116087\ttotal: 5m 40s\tremaining: 1m 39s\n",
      "116:\tlearn: 0.2110343\ttotal: 5m 43s\tremaining: 1m 36s\n",
      "117:\tlearn: 0.2105986\ttotal: 5m 45s\tremaining: 1m 33s\n",
      "118:\tlearn: 0.2098669\ttotal: 5m 48s\tremaining: 1m 30s\n",
      "119:\tlearn: 0.2092262\ttotal: 5m 51s\tremaining: 1m 27s\n",
      "120:\tlearn: 0.2082962\ttotal: 5m 52s\tremaining: 1m 24s\n",
      "121:\tlearn: 0.2079085\ttotal: 5m 54s\tremaining: 1m 21s\n",
      "122:\tlearn: 0.2072095\ttotal: 5m 56s\tremaining: 1m 18s\n",
      "123:\tlearn: 0.2063332\ttotal: 5m 58s\tremaining: 1m 15s\n",
      "124:\tlearn: 0.2059414\ttotal: 6m\tremaining: 1m 12s\n",
      "125:\tlearn: 0.2053547\ttotal: 6m 1s\tremaining: 1m 8s\n",
      "126:\tlearn: 0.2049736\ttotal: 6m 3s\tremaining: 1m 5s\n",
      "127:\tlearn: 0.2045807\ttotal: 6m 5s\tremaining: 1m 2s\n",
      "128:\tlearn: 0.2039258\ttotal: 6m 7s\tremaining: 59.8s\n",
      "129:\tlearn: 0.2035499\ttotal: 6m 8s\tremaining: 56.7s\n",
      "130:\tlearn: 0.2028228\ttotal: 6m 10s\tremaining: 53.8s\n",
      "131:\tlearn: 0.2022070\ttotal: 6m 13s\tremaining: 50.9s\n",
      "132:\tlearn: 0.2017001\ttotal: 6m 16s\tremaining: 48.1s\n",
      "133:\tlearn: 0.2010834\ttotal: 6m 18s\tremaining: 45.2s\n",
      "134:\tlearn: 0.2007317\ttotal: 6m 20s\tremaining: 42.3s\n",
      "135:\tlearn: 0.1998943\ttotal: 6m 22s\tremaining: 39.4s\n",
      "136:\tlearn: 0.1993837\ttotal: 6m 25s\tremaining: 36.6s\n",
      "137:\tlearn: 0.1988585\ttotal: 6m 28s\tremaining: 33.8s\n",
      "138:\tlearn: 0.1981694\ttotal: 6m 31s\tremaining: 31s\n",
      "139:\tlearn: 0.1978371\ttotal: 6m 34s\tremaining: 28.2s\n",
      "140:\tlearn: 0.1974912\ttotal: 6m 37s\tremaining: 25.3s\n",
      "141:\tlearn: 0.1966999\ttotal: 6m 39s\tremaining: 22.5s\n",
      "142:\tlearn: 0.1962396\ttotal: 6m 42s\tremaining: 19.7s\n",
      "143:\tlearn: 0.1956261\ttotal: 6m 46s\tremaining: 16.9s\n",
      "144:\tlearn: 0.1952546\ttotal: 6m 48s\tremaining: 14.1s\n",
      "145:\tlearn: 0.1942145\ttotal: 6m 51s\tremaining: 11.3s\n",
      "146:\tlearn: 0.1928721\ttotal: 6m 54s\tremaining: 8.46s\n",
      "147:\tlearn: 0.1922906\ttotal: 6m 57s\tremaining: 5.64s\n",
      "148:\tlearn: 0.1916057\ttotal: 7m\tremaining: 2.82s\n",
      "149:\tlearn: 0.1912640\ttotal: 7m 3s\tremaining: 0us\n",
      "Learning rate set to 0.5\n",
      "0:\tlearn: 0.5492107\ttotal: 3.43s\tremaining: 8m 31s\n",
      "1:\tlearn: 0.5075527\ttotal: 6.71s\tremaining: 8m 16s\n",
      "2:\tlearn: 0.4798611\ttotal: 9.77s\tremaining: 7m 58s\n",
      "3:\tlearn: 0.4603439\ttotal: 13.1s\tremaining: 7m 56s\n",
      "4:\tlearn: 0.4434180\ttotal: 16s\tremaining: 7m 44s\n",
      "5:\tlearn: 0.4275337\ttotal: 19s\tremaining: 7m 34s\n",
      "6:\tlearn: 0.4152562\ttotal: 21.8s\tremaining: 7m 26s\n",
      "7:\tlearn: 0.4044570\ttotal: 24.8s\tremaining: 7m 19s\n",
      "8:\tlearn: 0.3964815\ttotal: 27.7s\tremaining: 7m 14s\n",
      "9:\tlearn: 0.3872878\ttotal: 30.8s\tremaining: 7m 10s\n",
      "10:\tlearn: 0.3797229\ttotal: 33s\tremaining: 6m 57s\n",
      "11:\tlearn: 0.3733378\ttotal: 34.9s\tremaining: 6m 41s\n",
      "12:\tlearn: 0.3668031\ttotal: 36.8s\tremaining: 6m 27s\n",
      "13:\tlearn: 0.3623801\ttotal: 38.8s\tremaining: 6m 16s\n",
      "14:\tlearn: 0.3580054\ttotal: 40.7s\tremaining: 6m 6s\n",
      "15:\tlearn: 0.3537982\ttotal: 42.6s\tremaining: 5m 57s\n",
      "16:\tlearn: 0.3487751\ttotal: 44.6s\tremaining: 5m 48s\n",
      "17:\tlearn: 0.3449092\ttotal: 46.7s\tremaining: 5m 42s\n",
      "18:\tlearn: 0.3407378\ttotal: 49.8s\tremaining: 5m 43s\n",
      "19:\tlearn: 0.3363022\ttotal: 52.6s\tremaining: 5m 41s\n",
      "20:\tlearn: 0.3330164\ttotal: 55.4s\tremaining: 5m 40s\n",
      "21:\tlearn: 0.3297613\ttotal: 58.1s\tremaining: 5m 38s\n",
      "22:\tlearn: 0.3264901\ttotal: 1m\tremaining: 5m 36s\n",
      "23:\tlearn: 0.3235824\ttotal: 1m 3s\tremaining: 5m 33s\n",
      "24:\tlearn: 0.3195947\ttotal: 1m 6s\tremaining: 5m 31s\n",
      "25:\tlearn: 0.3167880\ttotal: 1m 9s\tremaining: 5m 30s\n"
     ]
    },
    {
     "name": "stdout",
     "output_type": "stream",
     "text": [
      "26:\tlearn: 0.3140826\ttotal: 1m 12s\tremaining: 5m 28s\n",
      "27:\tlearn: 0.3119653\ttotal: 1m 14s\tremaining: 5m 25s\n",
      "28:\tlearn: 0.3090237\ttotal: 1m 17s\tremaining: 5m 23s\n",
      "29:\tlearn: 0.3067413\ttotal: 1m 20s\tremaining: 5m 22s\n",
      "30:\tlearn: 0.3040466\ttotal: 1m 23s\tremaining: 5m 20s\n",
      "31:\tlearn: 0.3018598\ttotal: 1m 26s\tremaining: 5m 17s\n",
      "32:\tlearn: 0.2993196\ttotal: 1m 28s\tremaining: 5m 15s\n",
      "33:\tlearn: 0.2973445\ttotal: 1m 31s\tremaining: 5m 12s\n",
      "34:\tlearn: 0.2938635\ttotal: 1m 34s\tremaining: 5m 10s\n",
      "35:\tlearn: 0.2919521\ttotal: 1m 37s\tremaining: 5m 7s\n",
      "36:\tlearn: 0.2900497\ttotal: 1m 40s\tremaining: 5m 5s\n",
      "37:\tlearn: 0.2875907\ttotal: 1m 42s\tremaining: 5m 2s\n",
      "38:\tlearn: 0.2856849\ttotal: 1m 45s\tremaining: 4m 59s\n",
      "39:\tlearn: 0.2837091\ttotal: 1m 48s\tremaining: 4m 57s\n",
      "40:\tlearn: 0.2819356\ttotal: 1m 51s\tremaining: 4m 55s\n",
      "41:\tlearn: 0.2799014\ttotal: 1m 54s\tremaining: 4m 53s\n",
      "42:\tlearn: 0.2784793\ttotal: 1m 56s\tremaining: 4m 50s\n",
      "43:\tlearn: 0.2768338\ttotal: 1m 59s\tremaining: 4m 48s\n",
      "44:\tlearn: 0.2752957\ttotal: 2m 2s\tremaining: 4m 46s\n",
      "45:\tlearn: 0.2735942\ttotal: 2m 5s\tremaining: 4m 44s\n",
      "46:\tlearn: 0.2719227\ttotal: 2m 8s\tremaining: 4m 41s\n",
      "47:\tlearn: 0.2707544\ttotal: 2m 11s\tremaining: 4m 39s\n",
      "48:\tlearn: 0.2693523\ttotal: 2m 14s\tremaining: 4m 36s\n",
      "49:\tlearn: 0.2679938\ttotal: 2m 17s\tremaining: 4m 34s\n",
      "50:\tlearn: 0.2666469\ttotal: 2m 20s\tremaining: 4m 32s\n",
      "51:\tlearn: 0.2654454\ttotal: 2m 23s\tremaining: 4m 30s\n",
      "52:\tlearn: 0.2633515\ttotal: 2m 26s\tremaining: 4m 27s\n",
      "53:\tlearn: 0.2613405\ttotal: 2m 29s\tremaining: 4m 25s\n",
      "54:\tlearn: 0.2599723\ttotal: 2m 32s\tremaining: 4m 22s\n",
      "55:\tlearn: 0.2588350\ttotal: 2m 35s\tremaining: 4m 20s\n",
      "56:\tlearn: 0.2577130\ttotal: 2m 38s\tremaining: 4m 17s\n",
      "57:\tlearn: 0.2563205\ttotal: 2m 40s\tremaining: 4m 15s\n",
      "58:\tlearn: 0.2553556\ttotal: 2m 43s\tremaining: 4m 12s\n",
      "59:\tlearn: 0.2540087\ttotal: 2m 46s\tremaining: 4m 10s\n",
      "60:\tlearn: 0.2530357\ttotal: 2m 49s\tremaining: 4m 7s\n",
      "61:\tlearn: 0.2515452\ttotal: 2m 52s\tremaining: 4m 4s\n",
      "62:\tlearn: 0.2507777\ttotal: 2m 55s\tremaining: 4m 2s\n",
      "63:\tlearn: 0.2497894\ttotal: 2m 58s\tremaining: 3m 59s\n",
      "64:\tlearn: 0.2484580\ttotal: 3m 1s\tremaining: 3m 57s\n",
      "65:\tlearn: 0.2473945\ttotal: 3m 4s\tremaining: 3m 54s\n",
      "66:\tlearn: 0.2465765\ttotal: 3m 6s\tremaining: 3m 51s\n",
      "67:\tlearn: 0.2452400\ttotal: 3m 9s\tremaining: 3m 48s\n",
      "68:\tlearn: 0.2445096\ttotal: 3m 12s\tremaining: 3m 45s\n",
      "69:\tlearn: 0.2433952\ttotal: 3m 15s\tremaining: 3m 43s\n",
      "70:\tlearn: 0.2426716\ttotal: 3m 18s\tremaining: 3m 40s\n",
      "71:\tlearn: 0.2413978\ttotal: 3m 21s\tremaining: 3m 37s\n",
      "72:\tlearn: 0.2398245\ttotal: 3m 24s\tremaining: 3m 35s\n",
      "73:\tlearn: 0.2387253\ttotal: 3m 27s\tremaining: 3m 32s\n",
      "74:\tlearn: 0.2378322\ttotal: 3m 29s\tremaining: 3m 29s\n",
      "75:\tlearn: 0.2364692\ttotal: 3m 32s\tremaining: 3m 27s\n",
      "76:\tlearn: 0.2358378\ttotal: 3m 35s\tremaining: 3m 24s\n",
      "77:\tlearn: 0.2350549\ttotal: 3m 38s\tremaining: 3m 21s\n",
      "78:\tlearn: 0.2339650\ttotal: 3m 41s\tremaining: 3m 18s\n",
      "79:\tlearn: 0.2333757\ttotal: 3m 43s\tremaining: 3m 15s\n",
      "80:\tlearn: 0.2317905\ttotal: 3m 46s\tremaining: 3m 12s\n",
      "81:\tlearn: 0.2309919\ttotal: 3m 49s\tremaining: 3m 10s\n",
      "82:\tlearn: 0.2300951\ttotal: 3m 52s\tremaining: 3m 7s\n",
      "83:\tlearn: 0.2295665\ttotal: 3m 54s\tremaining: 3m 4s\n",
      "84:\tlearn: 0.2285223\ttotal: 3m 57s\tremaining: 3m 1s\n",
      "85:\tlearn: 0.2278345\ttotal: 4m\tremaining: 2m 59s\n",
      "86:\tlearn: 0.2271666\ttotal: 4m 3s\tremaining: 2m 56s\n",
      "87:\tlearn: 0.2264843\ttotal: 4m 6s\tremaining: 2m 53s\n",
      "88:\tlearn: 0.2258980\ttotal: 4m 8s\tremaining: 2m 50s\n",
      "89:\tlearn: 0.2253569\ttotal: 4m 11s\tremaining: 2m 47s\n",
      "90:\tlearn: 0.2243169\ttotal: 4m 14s\tremaining: 2m 44s\n",
      "91:\tlearn: 0.2235555\ttotal: 4m 17s\tremaining: 2m 42s\n",
      "92:\tlearn: 0.2225950\ttotal: 4m 20s\tremaining: 2m 39s\n",
      "93:\tlearn: 0.2219959\ttotal: 4m 23s\tremaining: 2m 36s\n",
      "94:\tlearn: 0.2211216\ttotal: 4m 26s\tremaining: 2m 34s\n",
      "95:\tlearn: 0.2206532\ttotal: 4m 28s\tremaining: 2m 31s\n",
      "96:\tlearn: 0.2198977\ttotal: 4m 31s\tremaining: 2m 28s\n",
      "97:\tlearn: 0.2194345\ttotal: 4m 34s\tremaining: 2m 25s\n",
      "98:\tlearn: 0.2189994\ttotal: 4m 37s\tremaining: 2m 22s\n",
      "99:\tlearn: 0.2182888\ttotal: 4m 40s\tremaining: 2m 20s\n",
      "100:\tlearn: 0.2176773\ttotal: 4m 43s\tremaining: 2m 17s\n",
      "101:\tlearn: 0.2169258\ttotal: 4m 45s\tremaining: 2m 14s\n",
      "102:\tlearn: 0.2165069\ttotal: 4m 48s\tremaining: 2m 11s\n",
      "103:\tlearn: 0.2159571\ttotal: 4m 51s\tremaining: 2m 8s\n",
      "104:\tlearn: 0.2150424\ttotal: 4m 54s\tremaining: 2m 6s\n",
      "105:\tlearn: 0.2144587\ttotal: 4m 57s\tremaining: 2m 3s\n",
      "106:\tlearn: 0.2139890\ttotal: 4m 59s\tremaining: 2m\n",
      "107:\tlearn: 0.2133133\ttotal: 5m 2s\tremaining: 1m 57s\n",
      "108:\tlearn: 0.2126778\ttotal: 5m 5s\tremaining: 1m 55s\n",
      "109:\tlearn: 0.2119273\ttotal: 5m 8s\tremaining: 1m 52s\n",
      "110:\tlearn: 0.2115036\ttotal: 5m 11s\tremaining: 1m 49s\n",
      "111:\tlearn: 0.2106602\ttotal: 5m 14s\tremaining: 1m 46s\n",
      "112:\tlearn: 0.2099273\ttotal: 5m 17s\tremaining: 1m 44s\n",
      "113:\tlearn: 0.2094776\ttotal: 5m 20s\tremaining: 1m 41s\n",
      "114:\tlearn: 0.2086807\ttotal: 5m 22s\tremaining: 1m 38s\n",
      "115:\tlearn: 0.2074583\ttotal: 5m 24s\tremaining: 1m 35s\n",
      "116:\tlearn: 0.2070240\ttotal: 5m 26s\tremaining: 1m 32s\n",
      "117:\tlearn: 0.2064038\ttotal: 5m 28s\tremaining: 1m 28s\n",
      "118:\tlearn: 0.2059663\ttotal: 5m 29s\tremaining: 1m 25s\n",
      "119:\tlearn: 0.2054255\ttotal: 5m 31s\tremaining: 1m 22s\n",
      "120:\tlearn: 0.2050328\ttotal: 5m 34s\tremaining: 1m 20s\n",
      "121:\tlearn: 0.2044199\ttotal: 5m 37s\tremaining: 1m 17s\n",
      "122:\tlearn: 0.2039501\ttotal: 5m 40s\tremaining: 1m 14s\n",
      "123:\tlearn: 0.2031818\ttotal: 5m 43s\tremaining: 1m 11s\n",
      "124:\tlearn: 0.2028032\ttotal: 5m 46s\tremaining: 1m 9s\n",
      "125:\tlearn: 0.2024286\ttotal: 5m 48s\tremaining: 1m 6s\n",
      "126:\tlearn: 0.2019643\ttotal: 5m 51s\tremaining: 1m 3s\n",
      "127:\tlearn: 0.2015747\ttotal: 5m 54s\tremaining: 1m\n",
      "128:\tlearn: 0.2009671\ttotal: 5m 57s\tremaining: 58.2s\n",
      "129:\tlearn: 0.2002522\ttotal: 6m\tremaining: 55.4s\n",
      "130:\tlearn: 0.1998926\ttotal: 6m 2s\tremaining: 52.6s\n",
      "131:\tlearn: 0.1990812\ttotal: 6m 5s\tremaining: 49.9s\n",
      "132:\tlearn: 0.1987231\ttotal: 6m 8s\tremaining: 47.1s\n",
      "133:\tlearn: 0.1978741\ttotal: 6m 11s\tremaining: 44.4s\n",
      "134:\tlearn: 0.1975109\ttotal: 6m 14s\tremaining: 41.6s\n",
      "135:\tlearn: 0.1970133\ttotal: 6m 16s\tremaining: 38.8s\n",
      "136:\tlearn: 0.1961929\ttotal: 6m 19s\tremaining: 36s\n",
      "137:\tlearn: 0.1957302\ttotal: 6m 22s\tremaining: 33.2s\n",
      "138:\tlearn: 0.1953583\ttotal: 6m 25s\tremaining: 30.5s\n",
      "139:\tlearn: 0.1950133\ttotal: 6m 27s\tremaining: 27.7s\n",
      "140:\tlearn: 0.1943049\ttotal: 6m 30s\tremaining: 24.9s\n",
      "141:\tlearn: 0.1936367\ttotal: 6m 33s\tremaining: 22.2s\n",
      "142:\tlearn: 0.1928500\ttotal: 6m 36s\tremaining: 19.4s\n",
      "143:\tlearn: 0.1925086\ttotal: 6m 39s\tremaining: 16.6s\n",
      "144:\tlearn: 0.1921774\ttotal: 6m 42s\tremaining: 13.9s\n",
      "145:\tlearn: 0.1918605\ttotal: 6m 44s\tremaining: 11.1s\n",
      "146:\tlearn: 0.1914332\ttotal: 6m 46s\tremaining: 8.29s\n",
      "147:\tlearn: 0.1900506\ttotal: 6m 48s\tremaining: 5.51s\n",
      "148:\tlearn: 0.1893094\ttotal: 6m 50s\tremaining: 2.75s\n",
      "149:\tlearn: 0.1889715\ttotal: 6m 51s\tremaining: 0us\n",
      "Метрика F1 на обучающей кросс-валидационной выборке (среднее): 0.8102397456657862\n",
      "Метрика F1 на тестовой кросс-валидационной выборке (среднее): 0.74269395239767\n",
      "Learning rate set to 0.5\n",
      "0:\tlearn: 0.5508425\ttotal: 2.23s\tremaining: 5m 32s\n",
      "1:\tlearn: 0.5118204\ttotal: 4.4s\tremaining: 5m 25s\n",
      "2:\tlearn: 0.4842452\ttotal: 6.46s\tremaining: 5m 16s\n",
      "3:\tlearn: 0.4600638\ttotal: 8.54s\tremaining: 5m 11s\n",
      "4:\tlearn: 0.4450346\ttotal: 10.5s\tremaining: 5m 5s\n",
      "5:\tlearn: 0.4285205\ttotal: 12.5s\tremaining: 5m\n",
      "6:\tlearn: 0.4178723\ttotal: 14.6s\tremaining: 4m 57s\n",
      "7:\tlearn: 0.4080392\ttotal: 16.5s\tremaining: 4m 52s\n",
      "8:\tlearn: 0.3993692\ttotal: 18.5s\tremaining: 4m 49s\n",
      "9:\tlearn: 0.3902042\ttotal: 20.5s\tremaining: 4m 46s\n",
      "10:\tlearn: 0.3837898\ttotal: 22.5s\tremaining: 4m 43s\n",
      "11:\tlearn: 0.3756168\ttotal: 24.4s\tremaining: 4m 41s\n",
      "12:\tlearn: 0.3703514\ttotal: 26.4s\tremaining: 4m 38s\n",
      "13:\tlearn: 0.3654410\ttotal: 28.4s\tremaining: 4m 36s\n",
      "14:\tlearn: 0.3611983\ttotal: 30.4s\tremaining: 4m 33s\n",
      "15:\tlearn: 0.3567452\ttotal: 32.4s\tremaining: 4m 31s\n",
      "16:\tlearn: 0.3527624\ttotal: 34.5s\tremaining: 4m 29s\n",
      "17:\tlearn: 0.3481055\ttotal: 36.4s\tremaining: 4m 27s\n",
      "18:\tlearn: 0.3443605\ttotal: 38.5s\tremaining: 4m 25s\n",
      "19:\tlearn: 0.3410046\ttotal: 40.7s\tremaining: 4m 24s\n",
      "20:\tlearn: 0.3361197\ttotal: 43.8s\tremaining: 4m 29s\n",
      "21:\tlearn: 0.3326207\ttotal: 47.2s\tremaining: 4m 34s\n",
      "22:\tlearn: 0.3291056\ttotal: 50s\tremaining: 4m 36s\n",
      "23:\tlearn: 0.3262122\ttotal: 52.2s\tremaining: 4m 34s\n",
      "24:\tlearn: 0.3229697\ttotal: 54.6s\tremaining: 4m 32s\n",
      "25:\tlearn: 0.3203149\ttotal: 56.6s\tremaining: 4m 29s\n",
      "26:\tlearn: 0.3179360\ttotal: 58.9s\tremaining: 4m 28s\n",
      "27:\tlearn: 0.3157334\ttotal: 1m 1s\tremaining: 4m 28s\n",
      "28:\tlearn: 0.3130298\ttotal: 1m 4s\tremaining: 4m 29s\n"
     ]
    },
    {
     "name": "stdout",
     "output_type": "stream",
     "text": [
      "29:\tlearn: 0.3105625\ttotal: 1m 7s\tremaining: 4m 29s\n",
      "30:\tlearn: 0.3067395\ttotal: 1m 9s\tremaining: 4m 25s\n",
      "31:\tlearn: 0.3047164\ttotal: 1m 11s\tremaining: 4m 23s\n",
      "32:\tlearn: 0.3024620\ttotal: 1m 13s\tremaining: 4m 21s\n",
      "33:\tlearn: 0.2998339\ttotal: 1m 15s\tremaining: 4m 18s\n",
      "34:\tlearn: 0.2974978\ttotal: 1m 17s\tremaining: 4m 16s\n",
      "35:\tlearn: 0.2954241\ttotal: 1m 19s\tremaining: 4m 13s\n",
      "36:\tlearn: 0.2933702\ttotal: 1m 21s\tremaining: 4m 10s\n",
      "37:\tlearn: 0.2917611\ttotal: 1m 23s\tremaining: 4m 6s\n",
      "38:\tlearn: 0.2900715\ttotal: 1m 25s\tremaining: 4m 3s\n",
      "39:\tlearn: 0.2883735\ttotal: 1m 27s\tremaining: 4m\n",
      "40:\tlearn: 0.2869450\ttotal: 1m 29s\tremaining: 3m 57s\n",
      "41:\tlearn: 0.2849860\ttotal: 1m 31s\tremaining: 3m 54s\n",
      "42:\tlearn: 0.2834401\ttotal: 1m 33s\tremaining: 3m 52s\n",
      "43:\tlearn: 0.2820287\ttotal: 1m 35s\tremaining: 3m 49s\n",
      "44:\tlearn: 0.2806033\ttotal: 1m 37s\tremaining: 3m 47s\n",
      "45:\tlearn: 0.2790674\ttotal: 1m 39s\tremaining: 3m 44s\n",
      "46:\tlearn: 0.2776430\ttotal: 1m 41s\tremaining: 3m 41s\n",
      "47:\tlearn: 0.2756287\ttotal: 1m 43s\tremaining: 3m 39s\n",
      "48:\tlearn: 0.2741329\ttotal: 1m 45s\tremaining: 3m 36s\n",
      "49:\tlearn: 0.2726939\ttotal: 1m 47s\tremaining: 3m 34s\n",
      "50:\tlearn: 0.2712401\ttotal: 1m 49s\tremaining: 3m 31s\n",
      "51:\tlearn: 0.2697597\ttotal: 1m 51s\tremaining: 3m 29s\n",
      "52:\tlearn: 0.2680019\ttotal: 1m 53s\tremaining: 3m 27s\n",
      "53:\tlearn: 0.2662940\ttotal: 1m 55s\tremaining: 3m 25s\n",
      "54:\tlearn: 0.2652745\ttotal: 1m 57s\tremaining: 3m 22s\n",
      "55:\tlearn: 0.2640625\ttotal: 1m 59s\tremaining: 3m 20s\n",
      "56:\tlearn: 0.2627561\ttotal: 2m 1s\tremaining: 3m 18s\n",
      "57:\tlearn: 0.2608293\ttotal: 2m 3s\tremaining: 3m 15s\n",
      "58:\tlearn: 0.2596357\ttotal: 2m 5s\tremaining: 3m 13s\n",
      "59:\tlearn: 0.2586254\ttotal: 2m 7s\tremaining: 3m 11s\n",
      "60:\tlearn: 0.2574519\ttotal: 2m 9s\tremaining: 3m 8s\n",
      "61:\tlearn: 0.2561343\ttotal: 2m 11s\tremaining: 3m 6s\n",
      "62:\tlearn: 0.2553286\ttotal: 2m 13s\tremaining: 3m 3s\n",
      "63:\tlearn: 0.2541527\ttotal: 2m 15s\tremaining: 3m 1s\n",
      "64:\tlearn: 0.2531457\ttotal: 2m 17s\tremaining: 2m 59s\n",
      "65:\tlearn: 0.2520477\ttotal: 2m 19s\tremaining: 2m 56s\n",
      "66:\tlearn: 0.2511554\ttotal: 2m 20s\tremaining: 2m 54s\n",
      "67:\tlearn: 0.2504696\ttotal: 2m 23s\tremaining: 2m 52s\n",
      "68:\tlearn: 0.2492963\ttotal: 2m 25s\tremaining: 2m 51s\n",
      "69:\tlearn: 0.2482916\ttotal: 2m 28s\tremaining: 2m 49s\n",
      "70:\tlearn: 0.2472151\ttotal: 2m 29s\tremaining: 2m 46s\n",
      "71:\tlearn: 0.2464378\ttotal: 2m 32s\tremaining: 2m 44s\n",
      "72:\tlearn: 0.2453473\ttotal: 2m 34s\tremaining: 2m 42s\n",
      "73:\tlearn: 0.2440318\ttotal: 2m 36s\tremaining: 2m 40s\n",
      "74:\tlearn: 0.2430348\ttotal: 2m 38s\tremaining: 2m 38s\n",
      "75:\tlearn: 0.2423831\ttotal: 2m 40s\tremaining: 2m 36s\n",
      "76:\tlearn: 0.2415125\ttotal: 2m 42s\tremaining: 2m 34s\n",
      "77:\tlearn: 0.2405569\ttotal: 2m 44s\tremaining: 2m 31s\n",
      "78:\tlearn: 0.2396941\ttotal: 2m 46s\tremaining: 2m 29s\n",
      "79:\tlearn: 0.2391435\ttotal: 2m 49s\tremaining: 2m 28s\n",
      "80:\tlearn: 0.2383774\ttotal: 2m 51s\tremaining: 2m 26s\n",
      "81:\tlearn: 0.2377745\ttotal: 2m 54s\tremaining: 2m 24s\n",
      "82:\tlearn: 0.2369995\ttotal: 2m 57s\tremaining: 2m 23s\n",
      "83:\tlearn: 0.2355820\ttotal: 3m\tremaining: 2m 21s\n",
      "84:\tlearn: 0.2349008\ttotal: 3m 2s\tremaining: 2m 19s\n",
      "85:\tlearn: 0.2342778\ttotal: 3m 4s\tremaining: 2m 17s\n",
      "86:\tlearn: 0.2334958\ttotal: 3m 6s\tremaining: 2m 14s\n",
      "87:\tlearn: 0.2326726\ttotal: 3m 8s\tremaining: 2m 12s\n",
      "88:\tlearn: 0.2317478\ttotal: 3m 9s\tremaining: 2m 10s\n",
      "89:\tlearn: 0.2310786\ttotal: 3m 11s\tremaining: 2m 7s\n",
      "90:\tlearn: 0.2305103\ttotal: 3m 13s\tremaining: 2m 5s\n",
      "91:\tlearn: 0.2299201\ttotal: 3m 15s\tremaining: 2m 3s\n",
      "92:\tlearn: 0.2294528\ttotal: 3m 17s\tremaining: 2m 1s\n",
      "93:\tlearn: 0.2289777\ttotal: 3m 19s\tremaining: 1m 58s\n",
      "94:\tlearn: 0.2282337\ttotal: 3m 21s\tremaining: 1m 56s\n",
      "95:\tlearn: 0.2274080\ttotal: 3m 23s\tremaining: 1m 54s\n",
      "96:\tlearn: 0.2266278\ttotal: 3m 25s\tremaining: 1m 52s\n",
      "97:\tlearn: 0.2261749\ttotal: 3m 27s\tremaining: 1m 50s\n",
      "98:\tlearn: 0.2256777\ttotal: 3m 29s\tremaining: 1m 47s\n",
      "99:\tlearn: 0.2252226\ttotal: 3m 31s\tremaining: 1m 45s\n",
      "100:\tlearn: 0.2246067\ttotal: 3m 33s\tremaining: 1m 43s\n",
      "101:\tlearn: 0.2239889\ttotal: 3m 35s\tremaining: 1m 41s\n",
      "102:\tlearn: 0.2232251\ttotal: 3m 37s\tremaining: 1m 39s\n",
      "103:\tlearn: 0.2226043\ttotal: 3m 39s\tremaining: 1m 37s\n",
      "104:\tlearn: 0.2220909\ttotal: 3m 41s\tremaining: 1m 34s\n",
      "105:\tlearn: 0.2216716\ttotal: 3m 43s\tremaining: 1m 32s\n",
      "106:\tlearn: 0.2209248\ttotal: 3m 45s\tremaining: 1m 30s\n",
      "107:\tlearn: 0.2203591\ttotal: 3m 47s\tremaining: 1m 28s\n",
      "108:\tlearn: 0.2193263\ttotal: 3m 49s\tremaining: 1m 26s\n",
      "109:\tlearn: 0.2189206\ttotal: 3m 50s\tremaining: 1m 23s\n",
      "110:\tlearn: 0.2183666\ttotal: 3m 52s\tremaining: 1m 21s\n",
      "111:\tlearn: 0.2175726\ttotal: 3m 54s\tremaining: 1m 19s\n",
      "112:\tlearn: 0.2171733\ttotal: 3m 56s\tremaining: 1m 17s\n",
      "113:\tlearn: 0.2159669\ttotal: 3m 58s\tremaining: 1m 15s\n",
      "114:\tlearn: 0.2151646\ttotal: 4m\tremaining: 1m 13s\n",
      "115:\tlearn: 0.2144105\ttotal: 4m 2s\tremaining: 1m 11s\n",
      "116:\tlearn: 0.2140398\ttotal: 4m 4s\tremaining: 1m 8s\n",
      "117:\tlearn: 0.2132706\ttotal: 4m 6s\tremaining: 1m 6s\n",
      "118:\tlearn: 0.2125825\ttotal: 4m 8s\tremaining: 1m 4s\n",
      "119:\tlearn: 0.2119803\ttotal: 4m 9s\tremaining: 1m 2s\n",
      "120:\tlearn: 0.2116033\ttotal: 4m 11s\tremaining: 1m\n",
      "121:\tlearn: 0.2104552\ttotal: 4m 13s\tremaining: 58.2s\n",
      "122:\tlearn: 0.2100593\ttotal: 4m 15s\tremaining: 56.1s\n",
      "123:\tlearn: 0.2091864\ttotal: 4m 17s\tremaining: 54s\n",
      "124:\tlearn: 0.2086491\ttotal: 4m 19s\tremaining: 51.9s\n",
      "125:\tlearn: 0.2073654\ttotal: 4m 21s\tremaining: 49.7s\n",
      "126:\tlearn: 0.2069647\ttotal: 4m 23s\tremaining: 47.6s\n",
      "127:\tlearn: 0.2066285\ttotal: 4m 24s\tremaining: 45.5s\n",
      "128:\tlearn: 0.2060195\ttotal: 4m 26s\tremaining: 43.4s\n",
      "129:\tlearn: 0.2056765\ttotal: 4m 28s\tremaining: 41.4s\n",
      "130:\tlearn: 0.2051473\ttotal: 4m 30s\tremaining: 39.3s\n",
      "131:\tlearn: 0.2047752\ttotal: 4m 32s\tremaining: 37.2s\n",
      "132:\tlearn: 0.2044321\ttotal: 4m 34s\tremaining: 35.1s\n",
      "133:\tlearn: 0.2038440\ttotal: 4m 36s\tremaining: 33s\n",
      "134:\tlearn: 0.2035196\ttotal: 4m 38s\tremaining: 30.9s\n",
      "135:\tlearn: 0.2031438\ttotal: 4m 40s\tremaining: 28.9s\n",
      "136:\tlearn: 0.2027113\ttotal: 4m 42s\tremaining: 26.8s\n",
      "137:\tlearn: 0.2021711\ttotal: 4m 44s\tremaining: 24.7s\n",
      "138:\tlearn: 0.2014977\ttotal: 4m 46s\tremaining: 22.7s\n",
      "139:\tlearn: 0.2011637\ttotal: 4m 48s\tremaining: 20.6s\n",
      "140:\tlearn: 0.2008331\ttotal: 4m 50s\tremaining: 18.5s\n",
      "141:\tlearn: 0.2001154\ttotal: 4m 52s\tremaining: 16.5s\n",
      "142:\tlearn: 0.1996970\ttotal: 4m 54s\tremaining: 14.4s\n",
      "143:\tlearn: 0.1989795\ttotal: 4m 56s\tremaining: 12.3s\n",
      "144:\tlearn: 0.1983218\ttotal: 4m 57s\tremaining: 10.3s\n",
      "145:\tlearn: 0.1979925\ttotal: 4m 59s\tremaining: 8.21s\n",
      "146:\tlearn: 0.1974195\ttotal: 5m 1s\tremaining: 6.16s\n",
      "147:\tlearn: 0.1966960\ttotal: 5m 3s\tremaining: 4.1s\n",
      "148:\tlearn: 0.1963873\ttotal: 5m 5s\tremaining: 2.05s\n",
      "149:\tlearn: 0.1958043\ttotal: 5m 7s\tremaining: 0us\n",
      "train_score @ 0.74269395239767\n",
      "[I 2024-10-06 23:09:50,003] Trial 0 finished with value: 0.74269395239767 and parameters: {}. Best is trial 0 with value: 0.74269395239767.\n"
     ]
    }
   ],
   "source": [
    "# С помощью optuna произведем обучающий поиск\n",
    "study = optuna.create_study()\n",
    "optuna_results = {}\n",
    "study.optimize(lambda trial: optuna_objective(trial, X_train, y_train, optuna_results), n_trials=1, n_jobs=1, \n",
    "               show_progress_bar=True)"
   ]
  },
  {
   "cell_type": "code",
   "execution_count": 74,
   "metadata": {},
   "outputs": [
    {
     "name": "stdout",
     "output_type": "stream",
     "text": [
      "best score: 0.74269395239767\n",
      "best params: {}\n",
      "best model: Pipeline(steps=[('transformer',\n",
      "                 ColumnTransformer(transformers=[('tfidf', TfidfVectorizer(),\n",
      "                                                  'lem_text')])),\n",
      "                ('sampler', RandomOverSampler(random_state=42)),\n",
      "                ('classifier',\n",
      "                 <catboost.core.CatBoostClassifier object at 0x0000026B235D0EB0>)])\n",
      "Метрика F1 на кросс-валидации: 0.74269395239767\n"
     ]
    }
   ],
   "source": [
    "# выведем результаты лучшей модели CatBoostClassifier\n",
    "print('best score:', study.best_value)                    \n",
    "print('best params:', study.best_params)                  \n",
    "print('best model:', optuna_results['best_model'])\n",
    "f1_2 = study.best_value\n",
    "print('Метрика F1 на кросс-валидации:', f1_2) "
   ]
  },
  {
   "cell_type": "markdown",
   "metadata": {},
   "source": [
    "### Использование модели LGBMClassifier"
   ]
  },
  {
   "cell_type": "code",
   "execution_count": 59,
   "metadata": {},
   "outputs": [],
   "source": [
    "# функция установки гиперпарамтров для optuna_objective\n",
    "def optuna_train_model_3(trial, X_train, y_train):\n",
    "    param_distributions = {}\n",
    "    \n",
    "    params = {}\n",
    "    params['num_boost_round'] = trial.suggest_int('num_boost_round', 2, 100)\n",
    "    params['num_leaves'] = trial.suggest_int('num_leaves', 2, 200)\n",
    "    params['max_depth'] = trial.suggest_int('max_depth', 2, 10)\n",
    "    params['min_data_in_leaf'] = trial.suggest_int('min_data_in_leaf', 5, 10)\n",
    "    \n",
    "    pipeline = Pipeline([\n",
    "        ('transformer', ColumnTransformer([\n",
    "            ('tfidf', TfidfVectorizer(), 'lem_text')\n",
    "        ], remainder='drop'\n",
    "        )), \n",
    "        ('sampler', RandomOverSampler(random_state=RANDOM_STATE)),\n",
    "        ('classifier', LGBMClassifier(boosting_type='gbdt', **params))\n",
    "    ])\n",
    "\n",
    "    #model = LGBMClassifier(boosting_type='gbdt', **params)\n",
    "\n",
    "    cval = cross_validate(pipeline, X_train, y_train, cv=5, scoring=['f1'], return_train_score=True)\n",
    "    print('Метрика F1 на обучающей кросс-валидационной выборке (среднее):', cval['train_f1'].mean())\n",
    "    print('Метрика F1 на тестовой кросс-валидационной выборке (среднее):', cval['test_f1'].mean())\n",
    "    score = cval['test_f1'].mean()\n",
    "\n",
    "    # Обучим модель на обучающей выборке\n",
    "    pipeline.fit(X_train, y_train)\n",
    "    \n",
    "    return pipeline, score"
   ]
  },
  {
   "cell_type": "code",
   "execution_count": 55,
   "metadata": {},
   "outputs": [],
   "source": [
    "# функция перебора гиперпараметров для optuna \n",
    "def optuna_objective(trial, X_train, y_train, results):\n",
    "    model, train_score = optuna_train_model_3(trial, X_train, y_train) \n",
    "    if results.get('best_score') == None or results['best_score'] > train_score:\n",
    "        results['best_model'] = model\n",
    "        results['best_score'] = train_score\n",
    "        \n",
    "    print(f'train_score @ {train_score}')              \n",
    "    return train_score"
   ]
  },
  {
   "cell_type": "code",
   "execution_count": 60,
   "metadata": {},
   "outputs": [
    {
     "name": "stderr",
     "output_type": "stream",
     "text": [
      "[I 2024-10-06 16:48:58,670] A new study created in memory with name: no-name-55de4858-fc8a-470c-8ea4-36ba5a4f8148\n"
     ]
    },
    {
     "data": {
      "application/vnd.jupyter.widget-view+json": {
       "model_id": "b8a059dcd800440da4b008a18c5c29c2",
       "version_major": 2,
       "version_minor": 0
      },
      "text/plain": [
       "  0%|          | 0/5 [00:00<?, ?it/s]"
      ]
     },
     "metadata": {},
     "output_type": "display_data"
    },
    {
     "name": "stdout",
     "output_type": "stream",
     "text": [
      "[LightGBM] [Warning] min_data_in_leaf is set=9, min_child_samples=20 will be ignored. Current value: min_data_in_leaf=9\n",
      "[LightGBM] [Warning] num_iterations is set=72, num_boost_round=72 will be ignored. Current value: num_iterations=72\n",
      "[LightGBM] [Warning] min_data_in_leaf is set=9, min_child_samples=20 will be ignored. Current value: min_data_in_leaf=9\n",
      "[LightGBM] [Warning] num_iterations is set=72, num_boost_round=72 will be ignored. Current value: num_iterations=72\n",
      "[LightGBM] [Warning] min_data_in_leaf is set=9, min_child_samples=20 will be ignored. Current value: min_data_in_leaf=9\n",
      "[LightGBM] [Warning] num_iterations is set=72, num_boost_round=72 will be ignored. Current value: num_iterations=72\n",
      "[LightGBM] [Warning] min_data_in_leaf is set=9, min_child_samples=20 will be ignored. Current value: min_data_in_leaf=9\n",
      "[LightGBM] [Warning] num_iterations is set=72, num_boost_round=72 will be ignored. Current value: num_iterations=72\n",
      "[LightGBM] [Warning] min_data_in_leaf is set=9, min_child_samples=20 will be ignored. Current value: min_data_in_leaf=9\n",
      "[LightGBM] [Warning] num_iterations is set=72, num_boost_round=72 will be ignored. Current value: num_iterations=72\n",
      "[LightGBM] [Warning] min_data_in_leaf is set=9, min_child_samples=20 will be ignored. Current value: min_data_in_leaf=9\n",
      "[LightGBM] [Warning] num_iterations is set=72, num_boost_round=72 will be ignored. Current value: num_iterations=72\n",
      "Метрика F1 на обучающей кросс-валидационной выборке (среднее): 0.7271573667617499\n",
      "Метрика F1 на тестовой кросс-валидационной выборке (среднее): 0.7046410701533612\n",
      "[LightGBM] [Warning] min_data_in_leaf is set=9, min_child_samples=20 will be ignored. Current value: min_data_in_leaf=9\n",
      "[LightGBM] [Warning] num_iterations is set=72, num_boost_round=72 will be ignored. Current value: num_iterations=72\n",
      "train_score @ 0.7046410701533612\n",
      "[I 2024-10-06 16:59:04,760] Trial 0 finished with value: 0.7046410701533612 and parameters: {'num_boost_round': 72, 'num_leaves': 111, 'max_depth': 5, 'min_data_in_leaf': 9}. Best is trial 0 with value: 0.7046410701533612.\n",
      "[LightGBM] [Warning] min_data_in_leaf is set=10, min_child_samples=20 will be ignored. Current value: min_data_in_leaf=10\n",
      "[LightGBM] [Warning] num_iterations is set=97, num_boost_round=97 will be ignored. Current value: num_iterations=97\n",
      "[LightGBM] [Warning] min_data_in_leaf is set=10, min_child_samples=20 will be ignored. Current value: min_data_in_leaf=10\n",
      "[LightGBM] [Warning] num_iterations is set=97, num_boost_round=97 will be ignored. Current value: num_iterations=97\n",
      "[LightGBM] [Warning] min_data_in_leaf is set=10, min_child_samples=20 will be ignored. Current value: min_data_in_leaf=10\n",
      "[LightGBM] [Warning] num_iterations is set=97, num_boost_round=97 will be ignored. Current value: num_iterations=97\n",
      "[LightGBM] [Warning] min_data_in_leaf is set=10, min_child_samples=20 will be ignored. Current value: min_data_in_leaf=10\n",
      "[LightGBM] [Warning] num_iterations is set=97, num_boost_round=97 will be ignored. Current value: num_iterations=97\n",
      "[LightGBM] [Warning] min_data_in_leaf is set=10, min_child_samples=20 will be ignored. Current value: min_data_in_leaf=10\n",
      "[LightGBM] [Warning] num_iterations is set=97, num_boost_round=97 will be ignored. Current value: num_iterations=97\n",
      "[LightGBM] [Warning] min_data_in_leaf is set=10, min_child_samples=20 will be ignored. Current value: min_data_in_leaf=10\n",
      "[LightGBM] [Warning] num_iterations is set=97, num_boost_round=97 will be ignored. Current value: num_iterations=97\n",
      "Метрика F1 на обучающей кросс-валидационной выборке (среднее): 0.7740428085779852\n",
      "Метрика F1 на тестовой кросс-валидационной выборке (среднее): 0.7270615463941146\n",
      "[LightGBM] [Warning] min_data_in_leaf is set=10, min_child_samples=20 will be ignored. Current value: min_data_in_leaf=10\n",
      "[LightGBM] [Warning] num_iterations is set=97, num_boost_round=97 will be ignored. Current value: num_iterations=97\n",
      "train_score @ 0.7270615463941146\n",
      "[I 2024-10-06 17:18:38,080] Trial 1 finished with value: 0.7270615463941146 and parameters: {'num_boost_round': 97, 'num_leaves': 38, 'max_depth': 8, 'min_data_in_leaf': 10}. Best is trial 0 with value: 0.7046410701533612.\n",
      "[LightGBM] [Warning] min_data_in_leaf is set=5, min_child_samples=20 will be ignored. Current value: min_data_in_leaf=5\n",
      "[LightGBM] [Warning] num_iterations is set=8, num_boost_round=8 will be ignored. Current value: num_iterations=8\n",
      "[LightGBM] [Warning] min_data_in_leaf is set=5, min_child_samples=20 will be ignored. Current value: min_data_in_leaf=5\n",
      "[LightGBM] [Warning] num_iterations is set=8, num_boost_round=8 will be ignored. Current value: num_iterations=8\n",
      "[LightGBM] [Warning] min_data_in_leaf is set=5, min_child_samples=20 will be ignored. Current value: min_data_in_leaf=5\n",
      "[LightGBM] [Warning] num_iterations is set=8, num_boost_round=8 will be ignored. Current value: num_iterations=8\n",
      "[LightGBM] [Warning] min_data_in_leaf is set=5, min_child_samples=20 will be ignored. Current value: min_data_in_leaf=5\n",
      "[LightGBM] [Warning] num_iterations is set=8, num_boost_round=8 will be ignored. Current value: num_iterations=8\n",
      "[LightGBM] [Warning] min_data_in_leaf is set=5, min_child_samples=20 will be ignored. Current value: min_data_in_leaf=5\n",
      "[LightGBM] [Warning] num_iterations is set=8, num_boost_round=8 will be ignored. Current value: num_iterations=8\n",
      "[LightGBM] [Warning] min_data_in_leaf is set=5, min_child_samples=20 will be ignored. Current value: min_data_in_leaf=5\n",
      "[LightGBM] [Warning] num_iterations is set=8, num_boost_round=8 will be ignored. Current value: num_iterations=8\n",
      "Метрика F1 на обучающей кросс-валидационной выборке (среднее): 0.6447435161013566\n",
      "Метрика F1 на тестовой кросс-валидационной выборке (среднее): 0.6229439292675696\n",
      "[LightGBM] [Warning] min_data_in_leaf is set=5, min_child_samples=20 will be ignored. Current value: min_data_in_leaf=5\n",
      "[LightGBM] [Warning] num_iterations is set=8, num_boost_round=8 will be ignored. Current value: num_iterations=8\n",
      "train_score @ 0.6229439292675696\n",
      "[I 2024-10-06 17:30:40,522] Trial 2 finished with value: 0.6229439292675696 and parameters: {'num_boost_round': 8, 'num_leaves': 190, 'max_depth': 9, 'min_data_in_leaf': 5}. Best is trial 2 with value: 0.6229439292675696.\n",
      "[LightGBM] [Warning] min_data_in_leaf is set=5, min_child_samples=20 will be ignored. Current value: min_data_in_leaf=5\n",
      "[LightGBM] [Warning] num_iterations is set=89, num_boost_round=89 will be ignored. Current value: num_iterations=89\n",
      "[LightGBM] [Warning] min_data_in_leaf is set=5, min_child_samples=20 will be ignored. Current value: min_data_in_leaf=5\n",
      "[LightGBM] [Warning] num_iterations is set=89, num_boost_round=89 will be ignored. Current value: num_iterations=89\n",
      "[LightGBM] [Warning] min_data_in_leaf is set=5, min_child_samples=20 will be ignored. Current value: min_data_in_leaf=5\n",
      "[LightGBM] [Warning] num_iterations is set=89, num_boost_round=89 will be ignored. Current value: num_iterations=89\n",
      "[LightGBM] [Warning] min_data_in_leaf is set=5, min_child_samples=20 will be ignored. Current value: min_data_in_leaf=5\n",
      "[LightGBM] [Warning] num_iterations is set=89, num_boost_round=89 will be ignored. Current value: num_iterations=89\n",
      "[LightGBM] [Warning] min_data_in_leaf is set=5, min_child_samples=20 will be ignored. Current value: min_data_in_leaf=5\n",
      "[LightGBM] [Warning] num_iterations is set=89, num_boost_round=89 will be ignored. Current value: num_iterations=89\n",
      "[LightGBM] [Warning] min_data_in_leaf is set=5, min_child_samples=20 will be ignored. Current value: min_data_in_leaf=5\n",
      "[LightGBM] [Warning] num_iterations is set=89, num_boost_round=89 will be ignored. Current value: num_iterations=89\n",
      "Метрика F1 на обучающей кросс-валидационной выборке (среднее): 0.7665715537102786\n",
      "Метрика F1 на тестовой кросс-валидационной выборке (среднее): 0.719604099267429\n",
      "[LightGBM] [Warning] min_data_in_leaf is set=5, min_child_samples=20 will be ignored. Current value: min_data_in_leaf=5\n",
      "[LightGBM] [Warning] num_iterations is set=89, num_boost_round=89 will be ignored. Current value: num_iterations=89\n",
      "train_score @ 0.719604099267429\n",
      "[I 2024-10-06 17:46:07,686] Trial 3 finished with value: 0.719604099267429 and parameters: {'num_boost_round': 89, 'num_leaves': 92, 'max_depth': 7, 'min_data_in_leaf': 5}. Best is trial 2 with value: 0.6229439292675696.\n"
     ]
    },
    {
     "name": "stdout",
     "output_type": "stream",
     "text": [
      "[LightGBM] [Warning] min_data_in_leaf is set=7, min_child_samples=20 will be ignored. Current value: min_data_in_leaf=7\n",
      "[LightGBM] [Warning] num_iterations is set=10, num_boost_round=10 will be ignored. Current value: num_iterations=10\n",
      "[LightGBM] [Warning] min_data_in_leaf is set=7, min_child_samples=20 will be ignored. Current value: min_data_in_leaf=7\n",
      "[LightGBM] [Warning] num_iterations is set=10, num_boost_round=10 will be ignored. Current value: num_iterations=10\n",
      "[LightGBM] [Warning] min_data_in_leaf is set=7, min_child_samples=20 will be ignored. Current value: min_data_in_leaf=7\n",
      "[LightGBM] [Warning] num_iterations is set=10, num_boost_round=10 will be ignored. Current value: num_iterations=10\n",
      "[LightGBM] [Warning] min_data_in_leaf is set=7, min_child_samples=20 will be ignored. Current value: min_data_in_leaf=7\n",
      "[LightGBM] [Warning] num_iterations is set=10, num_boost_round=10 will be ignored. Current value: num_iterations=10\n",
      "[LightGBM] [Warning] min_data_in_leaf is set=7, min_child_samples=20 will be ignored. Current value: min_data_in_leaf=7\n",
      "[LightGBM] [Warning] num_iterations is set=10, num_boost_round=10 will be ignored. Current value: num_iterations=10\n",
      "[LightGBM] [Warning] min_data_in_leaf is set=7, min_child_samples=20 will be ignored. Current value: min_data_in_leaf=7\n",
      "[LightGBM] [Warning] num_iterations is set=10, num_boost_round=10 will be ignored. Current value: num_iterations=10\n",
      "Метрика F1 на обучающей кросс-валидационной выборке (среднее): 0.5224197537727069\n",
      "Метрика F1 на тестовой кросс-валидационной выборке (среднее): 0.522823694459961\n",
      "[LightGBM] [Warning] min_data_in_leaf is set=7, min_child_samples=20 will be ignored. Current value: min_data_in_leaf=7\n",
      "[LightGBM] [Warning] num_iterations is set=10, num_boost_round=10 will be ignored. Current value: num_iterations=10\n",
      "train_score @ 0.522823694459961\n",
      "[I 2024-10-06 17:55:33,757] Trial 4 finished with value: 0.522823694459961 and parameters: {'num_boost_round': 10, 'num_leaves': 152, 'max_depth': 2, 'min_data_in_leaf': 7}. Best is trial 4 with value: 0.522823694459961.\n"
     ]
    }
   ],
   "source": [
    "# С помощью optuna произведем обучающий поиск\n",
    "study = optuna.create_study()\n",
    "optuna_results = {}\n",
    "study.optimize(lambda trial: optuna_objective(trial, X_train, y_train, optuna_results), n_trials=5, n_jobs=1, \n",
    "               show_progress_bar=True)"
   ]
  },
  {
   "cell_type": "code",
   "execution_count": 61,
   "metadata": {},
   "outputs": [
    {
     "name": "stdout",
     "output_type": "stream",
     "text": [
      "best score: 0.522823694459961\n",
      "best params: {'num_boost_round': 10, 'num_leaves': 152, 'max_depth': 2, 'min_data_in_leaf': 7}\n",
      "best model: Pipeline(steps=[('transformer',\n",
      "                 ColumnTransformer(transformers=[('tfidf', TfidfVectorizer(),\n",
      "                                                  'lem_text')])),\n",
      "                ('sampler', RandomOverSampler(random_state=42)),\n",
      "                ('classifier',\n",
      "                 LGBMClassifier(max_depth=2, min_data_in_leaf=7,\n",
      "                                num_boost_round=10, num_leaves=152))])\n",
      "Метрика F1 на кросс-валидации: 0.522823694459961\n"
     ]
    }
   ],
   "source": [
    "# выведем результаты лучшей модели LGBMClassifier\n",
    "print('best score:', study.best_value)                    \n",
    "print('best params:', study.best_params)                  \n",
    "print('best model:', optuna_results['best_model'])\n",
    "f1_3 = study.best_value\n",
    "print('Метрика F1 на кросс-валидации:', f1_3) "
   ]
  },
  {
   "cell_type": "markdown",
   "metadata": {},
   "source": [
    "### Сравнительная таблица"
   ]
  },
  {
   "cell_type": "code",
   "execution_count": 75,
   "metadata": {},
   "outputs": [
    {
     "name": "stdout",
     "output_type": "stream",
     "text": [
      "Сравнительная таблица значений метрики F1\n"
     ]
    },
    {
     "data": {
      "text/html": [
       "<div>\n",
       "<style scoped>\n",
       "    .dataframe tbody tr th:only-of-type {\n",
       "        vertical-align: middle;\n",
       "    }\n",
       "\n",
       "    .dataframe tbody tr th {\n",
       "        vertical-align: top;\n",
       "    }\n",
       "\n",
       "    .dataframe thead th {\n",
       "        text-align: right;\n",
       "    }\n",
       "</style>\n",
       "<table border=\"1\" class=\"dataframe\">\n",
       "  <thead>\n",
       "    <tr style=\"text-align: right;\">\n",
       "      <th></th>\n",
       "      <th>Model</th>\n",
       "      <th>Score</th>\n",
       "    </tr>\n",
       "  </thead>\n",
       "  <tbody>\n",
       "    <tr>\n",
       "      <th>0</th>\n",
       "      <td>LogisticRegression</td>\n",
       "      <td>0.76</td>\n",
       "    </tr>\n",
       "    <tr>\n",
       "      <th>1</th>\n",
       "      <td>CatBoostClassifier</td>\n",
       "      <td>0.74</td>\n",
       "    </tr>\n",
       "    <tr>\n",
       "      <th>2</th>\n",
       "      <td>LGBMClassifier</td>\n",
       "      <td>0.52</td>\n",
       "    </tr>\n",
       "  </tbody>\n",
       "</table>\n",
       "</div>"
      ],
      "text/plain": [
       "                Model  Score\n",
       "0  LogisticRegression   0.76\n",
       "1  CatBoostClassifier   0.74\n",
       "2      LGBMClassifier   0.52"
      ]
     },
     "execution_count": 75,
     "metadata": {},
     "output_type": "execute_result"
    }
   ],
   "source": [
    "# Составим сравнительную таблицу показателей метрики F1 для разных моделей МО\n",
    "print('Сравнительная таблица значений метрики F1')\n",
    "list_1 = ['LogisticRegression', 'CatBoostClassifier', 'LGBMClassifier']\n",
    "list_2 = [f1_1, f1_2, f1_3]\n",
    "df_f1 = pd.DataFrame()\n",
    "df_f1['Model'] = np.array(list_1)\n",
    "df_f1['Score'] = np.array(list_2)\n",
    "df_f1['Score'] =df_f1['Score'].apply(lambda x: round(x, 2))\n",
    "df_f1"
   ]
  },
  {
   "cell_type": "code",
   "execution_count": 69,
   "metadata": {},
   "outputs": [
    {
     "name": "stdout",
     "output_type": "stream",
     "text": [
      "Метрика F1 на тестовой выборке: 0.7692307692307693\n"
     ]
    }
   ],
   "source": [
    "# применим лучшую модель LogisticRegression к тестовой выборке\n",
    "y_pred_test = best_model_1.predict(X_test)\n",
    "f1_test = f1_score(y_test, y_pred_test)\n",
    "print('Метрика F1 на тестовой выборке:', f1_test) "
   ]
  },
  {
   "cell_type": "markdown",
   "metadata": {},
   "source": [
    "Выводы по обучению моделей:\n",
    "\n",
    "1. Для обучения использованы модели LGBMClassifier, LogisticRegression и CatBoostClassifier.\n",
    "2. При обучении всех моделей используются инструменты optuna и пайплан.\n",
    "3. Для контроля качества обучения применяется метрика F1.\n",
    "5. Полученные значения метрики сведены в сравнительнуё таблицу.\n",
    "6. Модель логистической регрессии показала метрику F1 = 0.76\n",
    "7. Модель CatBoostClassifier показала метрику F1 = 0.74\n",
    "8. Модель LGBMClassifier, даже с применением optuna, показала низкую метрику F1 = 0.52\n",
    "9. Лучшей оказалась модель LogisticRegression. Её оценка на тестовой выборке: F1 = 0.77"
   ]
  },
  {
   "cell_type": "markdown",
   "metadata": {},
   "source": [
    "## Выводы"
   ]
  },
  {
   "cell_type": "markdown",
   "metadata": {},
   "source": [
    "1. В датасет загружена таблица toxic_comments. Датасет имет 159292 строк и 3 столбца. \n",
    "2. Столбец 'Unnamed: 0' непригоден в качестве признака. Столбец удален из датасета.\n",
    "3. Датасет не имеет пропусков, несоответствий и явных дубликатов.\n",
    "4. Обнаружен сильный дисбаланс классов целевого признака: негативных оценок на порядок меньше положительных. Дисбаланс устранен.\n",
    "5. Проведена демматизация и очистка текста.\n",
    "6. Построены две визуализации облаков наиболее частот применных слов: из негативных и из позитивных высказываний.\n",
    "7. На основе датасета toxic_comments созданы тренировочная и тестовая выборки.\n",
    "8. Счетчик TF-IDF и сэмплер RandomOverSampler создаются в пайплане.\n",
    "9. Для обучения использованы модели LGBMClassifier, LogisticRegression и CatBoostClassifier.\n",
    "10. При обучении моделей LGBMClassifier и LogisticRegression используется инструмент optuna.\n",
    "11. Для контроля качества обучения применяется метрика F1 на кросс-валидации.\n",
    "12. Полученные значения метрики сведены в сравнительнуё таблицу.\n",
    "13. Модель логистической регрессии показала метрику F1 = 0.76\n",
    "14. Модель CatBoostClassifier показала метрику F1 = 0.74\n",
    "15. Модель LGBMClassifier, даже с применением optuna, показала низкую метрику F1 = 0.52\n",
    "16. Лучшей оказалась модель LogisticRegression. Её оценка на тестовой выборке: F1 = 0.77"
   ]
  }
 ],
 "metadata": {
  "ExecuteTimeLog": [
   {
    "duration": 1407,
    "start_time": "2024-09-23T05:24:08.235Z"
   },
   {
    "duration": 160,
    "start_time": "2024-09-23T05:24:11.179Z"
   },
   {
    "duration": 1430,
    "start_time": "2024-09-23T05:24:40.344Z"
   },
   {
    "duration": 16,
    "start_time": "2024-09-23T05:24:42.731Z"
   },
   {
    "duration": 8,
    "start_time": "2024-09-23T05:26:10.892Z"
   },
   {
    "duration": 6,
    "start_time": "2024-09-23T05:26:21.342Z"
   },
   {
    "duration": 34,
    "start_time": "2024-09-23T05:28:01.934Z"
   },
   {
    "duration": 10,
    "start_time": "2024-09-23T05:28:21.673Z"
   },
   {
    "duration": 10,
    "start_time": "2024-09-23T05:30:01.983Z"
   },
   {
    "duration": 15,
    "start_time": "2024-09-23T05:30:19.332Z"
   },
   {
    "duration": 3,
    "start_time": "2024-09-23T05:31:28.000Z"
   },
   {
    "duration": 77,
    "start_time": "2024-09-23T05:32:48.244Z"
   },
   {
    "duration": 2305,
    "start_time": "2024-09-23T05:39:08.349Z"
   },
   {
    "duration": 1457,
    "start_time": "2024-09-23T05:39:58.961Z"
   },
   {
    "duration": 1421,
    "start_time": "2024-09-23T05:40:00.420Z"
   },
   {
    "duration": 13,
    "start_time": "2024-09-23T05:40:01.843Z"
   },
   {
    "duration": 90,
    "start_time": "2024-09-23T05:40:01.858Z"
   },
   {
    "duration": 83,
    "start_time": "2024-09-23T05:40:01.950Z"
   },
   {
    "duration": 105,
    "start_time": "2024-09-23T05:40:02.035Z"
   },
   {
    "duration": 2357,
    "start_time": "2024-09-23T05:40:02.142Z"
   },
   {
    "duration": 496,
    "start_time": "2024-10-01T12:35:21.315Z"
   },
   {
    "duration": 0,
    "start_time": "2024-10-01T12:35:21.813Z"
   },
   {
    "duration": 0,
    "start_time": "2024-10-01T12:35:21.814Z"
   },
   {
    "duration": 0,
    "start_time": "2024-10-01T12:35:21.815Z"
   },
   {
    "duration": 0,
    "start_time": "2024-10-01T12:35:21.816Z"
   },
   {
    "duration": 0,
    "start_time": "2024-10-01T12:35:21.817Z"
   },
   {
    "duration": 0,
    "start_time": "2024-10-01T12:35:21.820Z"
   },
   {
    "duration": 0,
    "start_time": "2024-10-01T12:35:21.821Z"
   },
   {
    "duration": 0,
    "start_time": "2024-10-01T12:35:21.822Z"
   },
   {
    "duration": 0,
    "start_time": "2024-10-01T12:35:21.823Z"
   },
   {
    "duration": 0,
    "start_time": "2024-10-01T12:35:21.824Z"
   },
   {
    "duration": 0,
    "start_time": "2024-10-01T12:35:21.825Z"
   },
   {
    "duration": 0,
    "start_time": "2024-10-01T12:35:21.827Z"
   },
   {
    "duration": 63,
    "start_time": "2024-10-01T12:37:23.992Z"
   },
   {
    "duration": 0,
    "start_time": "2024-10-01T12:37:24.057Z"
   },
   {
    "duration": 0,
    "start_time": "2024-10-01T12:37:24.058Z"
   },
   {
    "duration": 0,
    "start_time": "2024-10-01T12:37:24.060Z"
   },
   {
    "duration": 0,
    "start_time": "2024-10-01T12:37:24.061Z"
   },
   {
    "duration": 0,
    "start_time": "2024-10-01T12:37:24.062Z"
   },
   {
    "duration": 0,
    "start_time": "2024-10-01T12:37:24.063Z"
   },
   {
    "duration": 0,
    "start_time": "2024-10-01T12:37:24.064Z"
   },
   {
    "duration": 0,
    "start_time": "2024-10-01T12:37:24.064Z"
   },
   {
    "duration": 0,
    "start_time": "2024-10-01T12:37:24.065Z"
   },
   {
    "duration": 0,
    "start_time": "2024-10-01T12:37:24.067Z"
   },
   {
    "duration": 0,
    "start_time": "2024-10-01T12:37:24.068Z"
   },
   {
    "duration": 0,
    "start_time": "2024-10-01T12:37:24.069Z"
   },
   {
    "duration": 0,
    "start_time": "2024-10-01T12:37:24.071Z"
   },
   {
    "duration": 80,
    "start_time": "2024-10-01T12:37:41.835Z"
   },
   {
    "duration": 64,
    "start_time": "2024-10-01T12:37:56.752Z"
   },
   {
    "duration": 67,
    "start_time": "2024-10-01T12:39:55.116Z"
   },
   {
    "duration": 83,
    "start_time": "2024-10-01T12:39:59.794Z"
   },
   {
    "duration": 2900,
    "start_time": "2024-10-01T12:40:14.250Z"
   },
   {
    "duration": 14,
    "start_time": "2024-10-01T12:40:17.152Z"
   },
   {
    "duration": 6377,
    "start_time": "2024-10-01T12:42:26.659Z"
   },
   {
    "duration": 1258,
    "start_time": "2024-10-01T12:42:33.039Z"
   },
   {
    "duration": 104,
    "start_time": "2024-10-01T12:42:34.299Z"
   },
   {
    "duration": 1389,
    "start_time": "2024-10-01T12:42:56.098Z"
   },
   {
    "duration": 9,
    "start_time": "2024-10-01T12:42:58.569Z"
   },
   {
    "duration": 12,
    "start_time": "2024-10-01T12:43:01.804Z"
   },
   {
    "duration": 31,
    "start_time": "2024-10-01T12:43:03.840Z"
   },
   {
    "duration": 8,
    "start_time": "2024-10-01T12:43:05.815Z"
   },
   {
    "duration": 79,
    "start_time": "2024-10-01T12:43:09.268Z"
   },
   {
    "duration": 82,
    "start_time": "2024-10-01T12:43:11.458Z"
   },
   {
    "duration": 4,
    "start_time": "2024-10-01T12:43:13.653Z"
   },
   {
    "duration": 2516,
    "start_time": "2024-10-01T12:43:18.142Z"
   },
   {
    "duration": 162,
    "start_time": "2024-10-01T12:43:24.439Z"
   },
   {
    "duration": 10608,
    "start_time": "2024-10-01T12:43:28.641Z"
   },
   {
    "duration": 244496,
    "start_time": "2024-10-01T12:46:02.794Z"
   },
   {
    "duration": 1363,
    "start_time": "2024-10-01T12:53:34.695Z"
   },
   {
    "duration": 698,
    "start_time": "2024-10-01T12:53:39.151Z"
   },
   {
    "duration": 4,
    "start_time": "2024-10-01T12:53:43.430Z"
   },
   {
    "duration": 123,
    "start_time": "2024-10-01T12:53:44.978Z"
   },
   {
    "duration": 5,
    "start_time": "2024-10-01T12:54:02.849Z"
   },
   {
    "duration": 5302,
    "start_time": "2024-10-01T12:59:54.308Z"
   },
   {
    "duration": 2047,
    "start_time": "2024-10-01T12:59:59.612Z"
   },
   {
    "duration": 1360,
    "start_time": "2024-10-01T13:00:01.660Z"
   },
   {
    "duration": 9,
    "start_time": "2024-10-01T13:00:03.022Z"
   },
   {
    "duration": 53,
    "start_time": "2024-10-01T13:00:03.033Z"
   },
   {
    "duration": 138,
    "start_time": "2024-10-01T13:00:03.088Z"
   },
   {
    "duration": 44,
    "start_time": "2024-10-01T13:00:03.228Z"
   },
   {
    "duration": 94,
    "start_time": "2024-10-01T13:00:03.273Z"
   },
   {
    "duration": 123,
    "start_time": "2024-10-01T13:00:03.368Z"
   },
   {
    "duration": 4,
    "start_time": "2024-10-01T13:00:03.492Z"
   },
   {
    "duration": 2427,
    "start_time": "2024-10-01T13:00:03.497Z"
   },
   {
    "duration": 306,
    "start_time": "2024-10-01T13:00:05.926Z"
   },
   {
    "duration": 10786,
    "start_time": "2024-10-01T13:00:06.234Z"
   },
   {
    "duration": 249039,
    "start_time": "2024-10-01T13:00:17.023Z"
   },
   {
    "duration": 1478,
    "start_time": "2024-10-01T13:04:26.063Z"
   },
   {
    "duration": 440,
    "start_time": "2024-10-01T13:04:27.542Z"
   },
   {
    "duration": 4,
    "start_time": "2024-10-01T13:04:27.984Z"
   },
   {
    "duration": 9,
    "start_time": "2024-10-01T13:04:27.989Z"
   },
   {
    "duration": 152,
    "start_time": "2024-10-01T13:04:27.999Z"
   },
   {
    "duration": 7074510,
    "start_time": "2024-10-01T13:04:28.153Z"
   },
   {
    "duration": 6,
    "start_time": "2024-10-01T15:02:22.665Z"
   },
   {
    "duration": 647,
    "start_time": "2024-10-01T15:02:22.673Z"
   },
   {
    "duration": 1462,
    "start_time": "2024-10-01T15:26:56.193Z"
   },
   {
    "duration": 5251,
    "start_time": "2024-10-01T15:29:54.882Z"
   },
   {
    "duration": 1812,
    "start_time": "2024-10-01T15:30:03.117Z"
   },
   {
    "duration": 1316,
    "start_time": "2024-10-01T15:30:08.051Z"
   },
   {
    "duration": 139,
    "start_time": "2024-10-01T15:30:12.285Z"
   },
   {
    "duration": 1404,
    "start_time": "2024-10-01T15:30:14.144Z"
   },
   {
    "duration": 8,
    "start_time": "2024-10-01T15:30:16.251Z"
   },
   {
    "duration": 11,
    "start_time": "2024-10-01T15:30:18.168Z"
   },
   {
    "duration": 86,
    "start_time": "2024-10-01T15:30:23.567Z"
   },
   {
    "duration": 4,
    "start_time": "2024-10-01T15:30:25.830Z"
   },
   {
    "duration": 2666,
    "start_time": "2024-10-01T15:30:27.873Z"
   },
   {
    "duration": 270,
    "start_time": "2024-10-01T15:30:33.539Z"
   },
   {
    "duration": 7636,
    "start_time": "2024-10-01T15:30:37.257Z"
   },
   {
    "duration": 5140,
    "start_time": "2024-10-01T15:31:02.131Z"
   },
   {
    "duration": 1600,
    "start_time": "2024-10-01T15:31:07.273Z"
   },
   {
    "duration": 1324,
    "start_time": "2024-10-01T15:31:08.874Z"
   },
   {
    "duration": 1040,
    "start_time": "2024-10-01T15:31:10.200Z"
   },
   {
    "duration": 9,
    "start_time": "2024-10-01T15:31:11.242Z"
   },
   {
    "duration": 13,
    "start_time": "2024-10-01T15:31:11.252Z"
   },
   {
    "duration": 33,
    "start_time": "2024-10-01T15:31:11.267Z"
   },
   {
    "duration": 20,
    "start_time": "2024-10-01T15:31:11.302Z"
   },
   {
    "duration": 77,
    "start_time": "2024-10-01T15:31:11.324Z"
   },
   {
    "duration": 101,
    "start_time": "2024-10-01T15:31:11.402Z"
   },
   {
    "duration": 3,
    "start_time": "2024-10-01T15:31:11.505Z"
   },
   {
    "duration": 2348,
    "start_time": "2024-10-01T15:31:11.520Z"
   },
   {
    "duration": 207,
    "start_time": "2024-10-01T15:31:22.876Z"
   },
   {
    "duration": 10686,
    "start_time": "2024-10-01T15:31:25.995Z"
   },
   {
    "duration": 5353,
    "start_time": "2024-10-01T15:32:33.841Z"
   },
   {
    "duration": 1586,
    "start_time": "2024-10-01T15:32:39.197Z"
   },
   {
    "duration": 1372,
    "start_time": "2024-10-01T15:32:40.784Z"
   },
   {
    "duration": 1041,
    "start_time": "2024-10-01T15:32:42.158Z"
   },
   {
    "duration": 9,
    "start_time": "2024-10-01T15:32:43.202Z"
   },
   {
    "duration": 14,
    "start_time": "2024-10-01T15:32:43.213Z"
   },
   {
    "duration": 34,
    "start_time": "2024-10-01T15:32:43.229Z"
   },
   {
    "duration": 6,
    "start_time": "2024-10-01T15:32:43.265Z"
   },
   {
    "duration": 105,
    "start_time": "2024-10-01T15:32:43.274Z"
   },
   {
    "duration": 96,
    "start_time": "2024-10-01T15:32:43.381Z"
   },
   {
    "duration": 4,
    "start_time": "2024-10-01T15:32:43.479Z"
   },
   {
    "duration": 2364,
    "start_time": "2024-10-01T15:32:43.484Z"
   },
   {
    "duration": 151,
    "start_time": "2024-10-01T15:32:45.850Z"
   },
   {
    "duration": 10818,
    "start_time": "2024-10-01T15:32:46.003Z"
   },
   {
    "duration": 5178,
    "start_time": "2024-10-01T15:33:53.700Z"
   },
   {
    "duration": 1611,
    "start_time": "2024-10-01T15:33:58.881Z"
   },
   {
    "duration": 1317,
    "start_time": "2024-10-01T15:34:00.493Z"
   },
   {
    "duration": 1000,
    "start_time": "2024-10-01T15:34:01.815Z"
   },
   {
    "duration": 12,
    "start_time": "2024-10-01T15:34:02.817Z"
   },
   {
    "duration": 37,
    "start_time": "2024-10-01T15:34:02.831Z"
   },
   {
    "duration": 56,
    "start_time": "2024-10-01T15:34:02.870Z"
   },
   {
    "duration": 18,
    "start_time": "2024-10-01T15:34:02.928Z"
   },
   {
    "duration": 85,
    "start_time": "2024-10-01T15:34:02.948Z"
   },
   {
    "duration": 98,
    "start_time": "2024-10-01T15:34:03.035Z"
   },
   {
    "duration": 4,
    "start_time": "2024-10-01T15:34:03.135Z"
   },
   {
    "duration": 2343,
    "start_time": "2024-10-01T15:34:03.140Z"
   },
   {
    "duration": 251,
    "start_time": "2024-10-01T15:34:05.484Z"
   },
   {
    "duration": 10753,
    "start_time": "2024-10-01T15:34:05.739Z"
   },
   {
    "duration": 11498,
    "start_time": "2024-10-01T15:36:44.522Z"
   },
   {
    "duration": 1848,
    "start_time": "2024-10-01T15:37:06.465Z"
   },
   {
    "duration": 1401,
    "start_time": "2024-10-01T15:37:08.587Z"
   },
   {
    "duration": 1372,
    "start_time": "2024-10-01T15:37:11.296Z"
   },
   {
    "duration": 87,
    "start_time": "2024-10-01T15:37:16.653Z"
   },
   {
    "duration": 2392,
    "start_time": "2024-10-01T15:37:19.045Z"
   },
   {
    "duration": 277,
    "start_time": "2024-10-01T15:37:21.439Z"
   },
   {
    "duration": 10836,
    "start_time": "2024-10-01T15:37:21.718Z"
   },
   {
    "duration": 12,
    "start_time": "2024-10-01T15:38:29.648Z"
   },
   {
    "duration": 7,
    "start_time": "2024-10-01T15:42:17.271Z"
   },
   {
    "duration": 138,
    "start_time": "2024-10-01T15:46:47.396Z"
   },
   {
    "duration": 5770,
    "start_time": "2024-10-01T15:46:59.130Z"
   },
   {
    "duration": 2264,
    "start_time": "2024-10-01T15:47:04.903Z"
   },
   {
    "duration": 1493,
    "start_time": "2024-10-01T15:47:07.169Z"
   },
   {
    "duration": 1371,
    "start_time": "2024-10-01T15:47:08.664Z"
   },
   {
    "duration": 10,
    "start_time": "2024-10-01T15:47:10.037Z"
   },
   {
    "duration": 27,
    "start_time": "2024-10-01T15:47:10.048Z"
   },
   {
    "duration": 46,
    "start_time": "2024-10-01T15:47:10.077Z"
   },
   {
    "duration": 8,
    "start_time": "2024-10-01T15:47:10.125Z"
   },
   {
    "duration": 102,
    "start_time": "2024-10-01T15:47:10.135Z"
   },
   {
    "duration": 93,
    "start_time": "2024-10-01T15:47:10.239Z"
   },
   {
    "duration": 3,
    "start_time": "2024-10-01T15:47:10.334Z"
   },
   {
    "duration": 2490,
    "start_time": "2024-10-01T15:47:10.339Z"
   },
   {
    "duration": 172,
    "start_time": "2024-10-01T15:47:12.831Z"
   },
   {
    "duration": 173,
    "start_time": "2024-10-01T15:47:13.006Z"
   },
   {
    "duration": 10856,
    "start_time": "2024-10-01T15:47:29.110Z"
   },
   {
    "duration": 4,
    "start_time": "2024-10-01T16:01:02.306Z"
   },
   {
    "duration": 6098,
    "start_time": "2024-10-01T16:01:49.176Z"
   },
   {
    "duration": 2331,
    "start_time": "2024-10-01T16:01:55.276Z"
   },
   {
    "duration": 1473,
    "start_time": "2024-10-01T16:01:57.608Z"
   },
   {
    "duration": 1416,
    "start_time": "2024-10-01T16:01:59.083Z"
   },
   {
    "duration": 11,
    "start_time": "2024-10-01T16:02:00.501Z"
   },
   {
    "duration": 33,
    "start_time": "2024-10-01T16:02:00.513Z"
   },
   {
    "duration": 63,
    "start_time": "2024-10-01T16:02:00.548Z"
   },
   {
    "duration": 19,
    "start_time": "2024-10-01T16:02:00.612Z"
   },
   {
    "duration": 87,
    "start_time": "2024-10-01T16:02:00.633Z"
   },
   {
    "duration": 122,
    "start_time": "2024-10-01T16:02:00.722Z"
   },
   {
    "duration": 5,
    "start_time": "2024-10-01T16:02:00.847Z"
   },
   {
    "duration": 2682,
    "start_time": "2024-10-01T16:02:00.853Z"
   },
   {
    "duration": 244,
    "start_time": "2024-10-01T16:02:03.536Z"
   },
   {
    "duration": 11129,
    "start_time": "2024-10-01T16:02:03.784Z"
   },
   {
    "duration": 9,
    "start_time": "2024-10-01T16:02:14.915Z"
   },
   {
    "duration": 222,
    "start_time": "2024-10-01T16:02:31.787Z"
   },
   {
    "duration": 69,
    "start_time": "2024-10-01T16:02:59.674Z"
   },
   {
    "duration": 1440,
    "start_time": "2024-10-01T16:03:06.433Z"
   },
   {
    "duration": 5,
    "start_time": "2024-10-01T16:03:26.661Z"
   },
   {
    "duration": 3,
    "start_time": "2024-10-01T16:03:33.329Z"
   },
   {
    "duration": 8,
    "start_time": "2024-10-01T16:03:40.838Z"
   },
   {
    "duration": 15,
    "start_time": "2024-10-01T16:03:49.004Z"
   },
   {
    "duration": 5,
    "start_time": "2024-10-01T16:09:57.337Z"
   },
   {
    "duration": 61,
    "start_time": "2024-10-01T16:10:24.955Z"
   },
   {
    "duration": 4,
    "start_time": "2024-10-01T16:10:34.410Z"
   },
   {
    "duration": 98718,
    "start_time": "2024-10-01T16:10:37.602Z"
   },
   {
    "duration": 5,
    "start_time": "2024-10-01T16:12:16.322Z"
   },
   {
    "duration": 22,
    "start_time": "2024-10-01T16:12:16.329Z"
   },
   {
    "duration": 3,
    "start_time": "2024-10-01T16:16:24.513Z"
   },
   {
    "duration": 7702,
    "start_time": "2024-10-01T16:18:02.669Z"
   },
   {
    "duration": 5,
    "start_time": "2024-10-01T16:18:25.484Z"
   },
   {
    "duration": 3,
    "start_time": "2024-10-01T16:18:26.560Z"
   },
   {
    "duration": 7,
    "start_time": "2024-10-01T16:18:27.724Z"
   },
   {
    "duration": 15,
    "start_time": "2024-10-01T16:18:30.384Z"
   },
   {
    "duration": 7692,
    "start_time": "2024-10-01T16:19:50.536Z"
   },
   {
    "duration": 7850,
    "start_time": "2024-10-01T16:20:07.849Z"
   },
   {
    "duration": 11097,
    "start_time": "2024-10-01T16:21:01.086Z"
   },
   {
    "duration": 5,
    "start_time": "2024-10-01T16:21:31.053Z"
   },
   {
    "duration": 3,
    "start_time": "2024-10-01T16:21:31.823Z"
   },
   {
    "duration": 8,
    "start_time": "2024-10-01T16:21:32.685Z"
   },
   {
    "duration": 18,
    "start_time": "2024-10-01T16:21:33.672Z"
   },
   {
    "duration": 10544,
    "start_time": "2024-10-01T16:21:55.544Z"
   },
   {
    "duration": 10452,
    "start_time": "2024-10-01T16:23:26.356Z"
   },
   {
    "duration": 10151,
    "start_time": "2024-10-01T16:26:55.793Z"
   },
   {
    "duration": 10769,
    "start_time": "2024-10-01T16:27:47.742Z"
   },
   {
    "duration": 125,
    "start_time": "2024-10-01T16:30:31.249Z"
   },
   {
    "duration": 6176,
    "start_time": "2024-10-01T16:30:49.483Z"
   },
   {
    "duration": 2272,
    "start_time": "2024-10-01T16:30:55.661Z"
   },
   {
    "duration": 1429,
    "start_time": "2024-10-01T16:30:57.934Z"
   },
   {
    "duration": 1529,
    "start_time": "2024-10-01T16:30:59.365Z"
   },
   {
    "duration": 10,
    "start_time": "2024-10-01T16:31:00.896Z"
   },
   {
    "duration": 55,
    "start_time": "2024-10-01T16:31:00.907Z"
   },
   {
    "duration": 48,
    "start_time": "2024-10-01T16:31:00.963Z"
   },
   {
    "duration": 27,
    "start_time": "2024-10-01T16:31:01.013Z"
   },
   {
    "duration": 120,
    "start_time": "2024-10-01T16:31:01.042Z"
   },
   {
    "duration": 121,
    "start_time": "2024-10-01T16:31:01.164Z"
   },
   {
    "duration": 3,
    "start_time": "2024-10-01T16:31:01.287Z"
   },
   {
    "duration": 2796,
    "start_time": "2024-10-01T16:31:01.292Z"
   },
   {
    "duration": 168,
    "start_time": "2024-10-01T16:31:04.090Z"
   },
   {
    "duration": 11644,
    "start_time": "2024-10-01T16:31:04.261Z"
   },
   {
    "duration": 3,
    "start_time": "2024-10-01T16:31:15.906Z"
   },
   {
    "duration": 11486,
    "start_time": "2024-10-01T16:31:15.910Z"
   },
   {
    "duration": 169,
    "start_time": "2024-10-01T16:32:06.198Z"
   },
   {
    "duration": 5892,
    "start_time": "2024-10-01T16:38:26.004Z"
   },
   {
    "duration": 2184,
    "start_time": "2024-10-01T16:38:31.899Z"
   },
   {
    "duration": 1472,
    "start_time": "2024-10-01T16:38:34.085Z"
   },
   {
    "duration": 1374,
    "start_time": "2024-10-01T16:38:35.559Z"
   },
   {
    "duration": 9,
    "start_time": "2024-10-01T16:38:36.935Z"
   },
   {
    "duration": 14,
    "start_time": "2024-10-01T16:38:36.945Z"
   },
   {
    "duration": 37,
    "start_time": "2024-10-01T16:38:36.961Z"
   },
   {
    "duration": 5,
    "start_time": "2024-10-01T16:38:37.000Z"
   },
   {
    "duration": 86,
    "start_time": "2024-10-01T16:38:37.007Z"
   },
   {
    "duration": 119,
    "start_time": "2024-10-01T16:38:37.095Z"
   },
   {
    "duration": 4,
    "start_time": "2024-10-01T16:38:37.216Z"
   },
   {
    "duration": 2492,
    "start_time": "2024-10-01T16:38:37.221Z"
   },
   {
    "duration": 183,
    "start_time": "2024-10-01T16:38:39.715Z"
   },
   {
    "duration": 11345,
    "start_time": "2024-10-01T16:38:39.900Z"
   },
   {
    "duration": 2,
    "start_time": "2024-10-01T16:38:51.247Z"
   },
   {
    "duration": 10905,
    "start_time": "2024-10-01T16:38:51.251Z"
   },
   {
    "duration": 2,
    "start_time": "2024-10-01T16:40:22.381Z"
   },
   {
    "duration": 10,
    "start_time": "2024-10-01T16:51:17.568Z"
   },
   {
    "duration": 47,
    "start_time": "2024-10-01T16:51:20.082Z"
   },
   {
    "duration": 5747,
    "start_time": "2024-10-01T16:54:49.141Z"
   },
   {
    "duration": 2358,
    "start_time": "2024-10-01T16:54:54.890Z"
   },
   {
    "duration": 1466,
    "start_time": "2024-10-01T16:54:57.250Z"
   },
   {
    "duration": 1365,
    "start_time": "2024-10-01T16:54:58.718Z"
   },
   {
    "duration": 11,
    "start_time": "2024-10-01T16:55:00.086Z"
   },
   {
    "duration": 55,
    "start_time": "2024-10-01T16:55:00.098Z"
   },
   {
    "duration": 61,
    "start_time": "2024-10-01T16:55:00.155Z"
   },
   {
    "duration": 24,
    "start_time": "2024-10-01T16:55:00.218Z"
   },
   {
    "duration": 112,
    "start_time": "2024-10-01T16:55:00.243Z"
   },
   {
    "duration": 104,
    "start_time": "2024-10-01T16:55:00.357Z"
   },
   {
    "duration": 3,
    "start_time": "2024-10-01T16:55:00.463Z"
   },
   {
    "duration": 2661,
    "start_time": "2024-10-01T16:55:00.468Z"
   },
   {
    "duration": 279,
    "start_time": "2024-10-01T16:55:03.130Z"
   },
   {
    "duration": 10826,
    "start_time": "2024-10-01T16:55:03.412Z"
   },
   {
    "duration": 3,
    "start_time": "2024-10-01T16:55:14.240Z"
   },
   {
    "duration": 10526,
    "start_time": "2024-10-01T16:55:14.245Z"
   },
   {
    "duration": 5,
    "start_time": "2024-10-01T16:55:24.772Z"
   },
   {
    "duration": 183,
    "start_time": "2024-10-01T16:55:27.663Z"
   },
   {
    "duration": 5,
    "start_time": "2024-10-01T16:55:55.147Z"
   },
   {
    "duration": 7,
    "start_time": "2024-10-01T16:55:57.775Z"
   },
   {
    "duration": 6007,
    "start_time": "2024-10-01T17:04:13.598Z"
   },
   {
    "duration": 1778,
    "start_time": "2024-10-01T17:04:19.607Z"
   },
   {
    "duration": 1303,
    "start_time": "2024-10-01T17:04:21.387Z"
   },
   {
    "duration": 1014,
    "start_time": "2024-10-01T17:04:22.692Z"
   },
   {
    "duration": 12,
    "start_time": "2024-10-01T17:04:23.709Z"
   },
   {
    "duration": 15,
    "start_time": "2024-10-01T17:04:23.723Z"
   },
   {
    "duration": 35,
    "start_time": "2024-10-01T17:04:23.739Z"
   },
   {
    "duration": 7,
    "start_time": "2024-10-01T17:04:23.776Z"
   },
   {
    "duration": 98,
    "start_time": "2024-10-01T17:04:23.785Z"
   },
   {
    "duration": 156,
    "start_time": "2024-10-01T17:04:23.886Z"
   },
   {
    "duration": 4,
    "start_time": "2024-10-01T17:04:24.044Z"
   },
   {
    "duration": 2440,
    "start_time": "2024-10-01T17:04:24.051Z"
   },
   {
    "duration": 155,
    "start_time": "2024-10-01T17:04:26.493Z"
   },
   {
    "duration": 11284,
    "start_time": "2024-10-01T17:04:26.651Z"
   },
   {
    "duration": 5967,
    "start_time": "2024-10-01T17:05:49.680Z"
   },
   {
    "duration": 1620,
    "start_time": "2024-10-01T17:05:55.650Z"
   },
   {
    "duration": 1321,
    "start_time": "2024-10-01T17:05:57.272Z"
   },
   {
    "duration": 1011,
    "start_time": "2024-10-01T17:05:58.595Z"
   },
   {
    "duration": 13,
    "start_time": "2024-10-01T17:05:59.608Z"
   },
   {
    "duration": 44,
    "start_time": "2024-10-01T17:05:59.623Z"
   },
   {
    "duration": 35,
    "start_time": "2024-10-01T17:05:59.668Z"
   },
   {
    "duration": 6,
    "start_time": "2024-10-01T17:05:59.704Z"
   },
   {
    "duration": 81,
    "start_time": "2024-10-01T17:05:59.712Z"
   },
   {
    "duration": 106,
    "start_time": "2024-10-01T17:05:59.795Z"
   },
   {
    "duration": 4,
    "start_time": "2024-10-01T17:05:59.903Z"
   },
   {
    "duration": 2387,
    "start_time": "2024-10-01T17:05:59.908Z"
   },
   {
    "duration": 221,
    "start_time": "2024-10-01T17:06:02.296Z"
   },
   {
    "duration": 10926,
    "start_time": "2024-10-01T17:06:02.520Z"
   },
   {
    "duration": 5935,
    "start_time": "2024-10-01T17:10:52.136Z"
   },
   {
    "duration": 2017,
    "start_time": "2024-10-01T17:10:58.073Z"
   },
   {
    "duration": 1391,
    "start_time": "2024-10-01T17:11:00.092Z"
   },
   {
    "duration": 1366,
    "start_time": "2024-10-01T17:11:01.485Z"
   },
   {
    "duration": 9,
    "start_time": "2024-10-01T17:11:02.854Z"
   },
   {
    "duration": 61,
    "start_time": "2024-10-01T17:11:02.865Z"
   },
   {
    "duration": 54,
    "start_time": "2024-10-01T17:11:02.927Z"
   },
   {
    "duration": 63,
    "start_time": "2024-10-01T17:11:02.982Z"
   },
   {
    "duration": 111,
    "start_time": "2024-10-01T17:11:03.047Z"
   },
   {
    "duration": 83,
    "start_time": "2024-10-01T17:11:03.160Z"
   },
   {
    "duration": 4,
    "start_time": "2024-10-01T17:11:03.245Z"
   },
   {
    "duration": 2336,
    "start_time": "2024-10-01T17:11:03.250Z"
   },
   {
    "duration": 194,
    "start_time": "2024-10-01T17:11:05.588Z"
   },
   {
    "duration": 11002,
    "start_time": "2024-10-01T17:11:05.785Z"
   },
   {
    "duration": 5852,
    "start_time": "2024-10-01T17:13:08.393Z"
   },
   {
    "duration": 2082,
    "start_time": "2024-10-01T17:13:14.248Z"
   },
   {
    "duration": 1446,
    "start_time": "2024-10-01T17:13:16.331Z"
   },
   {
    "duration": 1361,
    "start_time": "2024-10-01T17:13:17.780Z"
   },
   {
    "duration": 9,
    "start_time": "2024-10-01T17:13:19.144Z"
   },
   {
    "duration": 11,
    "start_time": "2024-10-01T17:13:19.154Z"
   },
   {
    "duration": 33,
    "start_time": "2024-10-01T17:13:19.166Z"
   },
   {
    "duration": 5,
    "start_time": "2024-10-01T17:13:19.200Z"
   },
   {
    "duration": 98,
    "start_time": "2024-10-01T17:13:19.207Z"
   },
   {
    "duration": 83,
    "start_time": "2024-10-01T17:13:19.307Z"
   },
   {
    "duration": 4,
    "start_time": "2024-10-01T17:13:19.392Z"
   },
   {
    "duration": 2342,
    "start_time": "2024-10-01T17:13:19.397Z"
   },
   {
    "duration": 235,
    "start_time": "2024-10-01T17:13:21.740Z"
   },
   {
    "duration": 10575,
    "start_time": "2024-10-01T17:13:21.978Z"
   },
   {
    "duration": 145,
    "start_time": "2024-10-01T17:13:32.555Z"
   },
   {
    "duration": 276072,
    "start_time": "2024-10-01T17:13:32.703Z"
   },
   {
    "duration": 1467,
    "start_time": "2024-10-01T17:18:08.777Z"
   },
   {
    "duration": 351,
    "start_time": "2024-10-01T17:18:10.246Z"
   },
   {
    "duration": 9261,
    "start_time": "2024-10-01T17:18:10.599Z"
   },
   {
    "duration": 12,
    "start_time": "2024-10-01T17:18:19.862Z"
   },
   {
    "duration": 0,
    "start_time": "2024-10-01T17:18:19.875Z"
   },
   {
    "duration": 0,
    "start_time": "2024-10-01T17:18:19.876Z"
   },
   {
    "duration": 0,
    "start_time": "2024-10-01T17:18:19.877Z"
   },
   {
    "duration": 0,
    "start_time": "2024-10-01T17:18:19.878Z"
   },
   {
    "duration": 0,
    "start_time": "2024-10-01T17:18:19.879Z"
   },
   {
    "duration": 10302,
    "start_time": "2024-10-01T17:46:23.396Z"
   },
   {
    "duration": 20,
    "start_time": "2024-10-01T17:46:33.700Z"
   },
   {
    "duration": 12,
    "start_time": "2024-10-01T17:47:12.082Z"
   },
   {
    "duration": 3,
    "start_time": "2024-10-01T17:47:19.941Z"
   },
   {
    "duration": 4,
    "start_time": "2024-10-01T17:47:21.908Z"
   },
   {
    "duration": 658302,
    "start_time": "2024-10-01T17:47:25.993Z"
   },
   {
    "duration": 24,
    "start_time": "2024-10-01T17:58:24.297Z"
   },
   {
    "duration": 21,
    "start_time": "2024-10-01T17:58:24.326Z"
   }
  ],
  "kernelspec": {
   "display_name": "Python 3 (ipykernel)",
   "language": "python",
   "name": "python3"
  },
  "language_info": {
   "codemirror_mode": {
    "name": "ipython",
    "version": 3
   },
   "file_extension": ".py",
   "mimetype": "text/x-python",
   "name": "python",
   "nbconvert_exporter": "python",
   "pygments_lexer": "ipython3",
   "version": "3.9.18"
  },
  "toc": {
   "base_numbering": 1,
   "nav_menu": {},
   "number_sections": true,
   "sideBar": true,
   "skip_h1_title": true,
   "title_cell": "Содержание",
   "title_sidebar": "Contents",
   "toc_cell": true,
   "toc_position": {
    "height": "calc(100% - 180px)",
    "left": "10px",
    "top": "150px",
    "width": "302.391px"
   },
   "toc_section_display": true,
   "toc_window_display": false
  }
 },
 "nbformat": 4,
 "nbformat_minor": 2
}
